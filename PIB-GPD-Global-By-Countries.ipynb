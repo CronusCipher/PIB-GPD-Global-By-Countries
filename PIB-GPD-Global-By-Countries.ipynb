{
 "cells": [
  {
   "cell_type": "markdown",
   "id": "0e9f5c7f",
   "metadata": {},
   "source": [
    "# Data Analysis of World Human Development And GDP (1961-2021)🌍\n"
   ]
  },
  {
   "cell_type": "markdown",
   "id": "86ccf022",
   "metadata": {},
   "source": [
    "## Datasets🗄️\n",
    "\n",
    "### 1.World's Country GDP\n",
    "The dataset that I use here contains the historical data from 1960 to 2021 of the GDP by country, additionally its growth rate per year is calculated.\n",
    "The data is obtained from the World Bank data, the dataset is downloaded, a pre-processing was carried out in which geographic data such as regions, subregions were added and the % variation per year and country was calculated.\n",
    "\n",
    "### 2.Human Development Index Historical data\n",
    "HDI is a composite index measuring average achievement in three basic dimensions of human development-a long and healthy life, knowledge and a decent standard of living. The HDI is the geometric mean of normalized indices for each of the three dimensions.\n",
    "\n",
    "Indicators- Life expectancy at birth, Mean Years of Schooling, GNI Per Capita\n",
    "\n",
    "### 3.World Population Dataset\n",
    "This Dataset contains Population data of every Country/Territory in the world"
   ]
  },
  {
   "cell_type": "markdown",
   "id": "e8306e9c",
   "metadata": {},
   "source": [
    "## Objectives"
   ]
  },
  {
   "cell_type": "markdown",
   "id": "b43c0356",
   "metadata": {},
   "source": [
    "objectives"
   ]
  },
  {
   "cell_type": "markdown",
   "id": "69a8f34b",
   "metadata": {},
   "source": [
    "### Loading Libraries"
   ]
  },
  {
   "cell_type": "code",
   "execution_count": 1,
   "id": "053ed276",
   "metadata": {},
   "outputs": [],
   "source": [
    "import pandas as pd\n",
    "import matplotlib.pyplot as plt\n",
    "import seaborn as sns\n",
    "import numpy as np\n",
    "import plotly.express as px\n",
    "import plotly.graph_objects as go"
   ]
  },
  {
   "cell_type": "markdown",
   "id": "60f07599",
   "metadata": {},
   "source": [
    "### Loading Datasets"
   ]
  },
  {
   "cell_type": "code",
   "execution_count": 2,
   "id": "5f214085",
   "metadata": {},
   "outputs": [],
   "source": [
    "gdp=pd.read_csv('./datasets/gdp.csv')\n",
    "hdi=pd.read_csv('./datasets/Human Development Index and its components 2021.csv')\n",
    "wp=pd.read_csv('./datasets/world_population.csv')"
   ]
  },
  {
   "cell_type": "code",
   "execution_count": 3,
   "id": "acd24859",
   "metadata": {},
   "outputs": [
    {
     "data": {
      "text/html": [
       "<div>\n",
       "<style scoped>\n",
       "    .dataframe tbody tr th:only-of-type {\n",
       "        vertical-align: middle;\n",
       "    }\n",
       "\n",
       "    .dataframe tbody tr th {\n",
       "        vertical-align: top;\n",
       "    }\n",
       "\n",
       "    .dataframe thead th {\n",
       "        text-align: right;\n",
       "    }\n",
       "</style>\n",
       "<table border=\"1\" class=\"dataframe\">\n",
       "  <thead>\n",
       "    <tr style=\"text-align: right;\">\n",
       "      <th></th>\n",
       "      <th>Country Name</th>\n",
       "      <th>Code</th>\n",
       "      <th>1960</th>\n",
       "      <th>1961</th>\n",
       "      <th>1962</th>\n",
       "      <th>1963</th>\n",
       "      <th>1964</th>\n",
       "      <th>1965</th>\n",
       "      <th>1966</th>\n",
       "      <th>1967</th>\n",
       "      <th>...</th>\n",
       "      <th>2012</th>\n",
       "      <th>2013</th>\n",
       "      <th>2014</th>\n",
       "      <th>2015</th>\n",
       "      <th>2016</th>\n",
       "      <th>2017</th>\n",
       "      <th>2018</th>\n",
       "      <th>2019</th>\n",
       "      <th>2020</th>\n",
       "      <th>Unnamed: 65</th>\n",
       "    </tr>\n",
       "  </thead>\n",
       "  <tbody>\n",
       "    <tr>\n",
       "      <th>0</th>\n",
       "      <td>Aruba</td>\n",
       "      <td>ABW</td>\n",
       "      <td>NaN</td>\n",
       "      <td>NaN</td>\n",
       "      <td>NaN</td>\n",
       "      <td>NaN</td>\n",
       "      <td>NaN</td>\n",
       "      <td>NaN</td>\n",
       "      <td>NaN</td>\n",
       "      <td>NaN</td>\n",
       "      <td>...</td>\n",
       "      <td>2.534637e+09</td>\n",
       "      <td>2.727850e+09</td>\n",
       "      <td>2.790849e+09</td>\n",
       "      <td>2.962905e+09</td>\n",
       "      <td>2.983637e+09</td>\n",
       "      <td>3.092430e+09</td>\n",
       "      <td>3.202189e+09</td>\n",
       "      <td>NaN</td>\n",
       "      <td>NaN</td>\n",
       "      <td>NaN</td>\n",
       "    </tr>\n",
       "    <tr>\n",
       "      <th>1</th>\n",
       "      <td>Africa Eastern and Southern</td>\n",
       "      <td>AFE</td>\n",
       "      <td>1.931311e+10</td>\n",
       "      <td>1.972349e+10</td>\n",
       "      <td>2.149392e+10</td>\n",
       "      <td>2.573321e+10</td>\n",
       "      <td>2.352744e+10</td>\n",
       "      <td>2.681057e+10</td>\n",
       "      <td>2.915216e+10</td>\n",
       "      <td>3.017317e+10</td>\n",
       "      <td>...</td>\n",
       "      <td>9.505214e+11</td>\n",
       "      <td>9.642424e+11</td>\n",
       "      <td>9.848071e+11</td>\n",
       "      <td>9.199300e+11</td>\n",
       "      <td>8.733549e+11</td>\n",
       "      <td>9.853557e+11</td>\n",
       "      <td>1.012853e+12</td>\n",
       "      <td>1.009910e+12</td>\n",
       "      <td>9.207923e+11</td>\n",
       "      <td>NaN</td>\n",
       "    </tr>\n",
       "    <tr>\n",
       "      <th>2</th>\n",
       "      <td>Afghanistan</td>\n",
       "      <td>AFG</td>\n",
       "      <td>5.377778e+08</td>\n",
       "      <td>5.488889e+08</td>\n",
       "      <td>5.466667e+08</td>\n",
       "      <td>7.511112e+08</td>\n",
       "      <td>8.000000e+08</td>\n",
       "      <td>1.006667e+09</td>\n",
       "      <td>1.400000e+09</td>\n",
       "      <td>1.673333e+09</td>\n",
       "      <td>...</td>\n",
       "      <td>1.990732e+10</td>\n",
       "      <td>2.014640e+10</td>\n",
       "      <td>2.049713e+10</td>\n",
       "      <td>1.913421e+10</td>\n",
       "      <td>1.811656e+10</td>\n",
       "      <td>1.875347e+10</td>\n",
       "      <td>1.805323e+10</td>\n",
       "      <td>1.879945e+10</td>\n",
       "      <td>2.011614e+10</td>\n",
       "      <td>NaN</td>\n",
       "    </tr>\n",
       "    <tr>\n",
       "      <th>3</th>\n",
       "      <td>Africa Western and Central</td>\n",
       "      <td>AFW</td>\n",
       "      <td>1.040428e+10</td>\n",
       "      <td>1.112805e+10</td>\n",
       "      <td>1.194335e+10</td>\n",
       "      <td>1.267652e+10</td>\n",
       "      <td>1.383858e+10</td>\n",
       "      <td>1.486247e+10</td>\n",
       "      <td>1.583285e+10</td>\n",
       "      <td>1.442643e+10</td>\n",
       "      <td>...</td>\n",
       "      <td>7.275714e+11</td>\n",
       "      <td>8.207876e+11</td>\n",
       "      <td>8.649666e+11</td>\n",
       "      <td>7.607297e+11</td>\n",
       "      <td>6.905430e+11</td>\n",
       "      <td>6.837416e+11</td>\n",
       "      <td>7.416916e+11</td>\n",
       "      <td>7.945725e+11</td>\n",
       "      <td>7.845876e+11</td>\n",
       "      <td>NaN</td>\n",
       "    </tr>\n",
       "    <tr>\n",
       "      <th>4</th>\n",
       "      <td>Angola</td>\n",
       "      <td>AGO</td>\n",
       "      <td>NaN</td>\n",
       "      <td>NaN</td>\n",
       "      <td>NaN</td>\n",
       "      <td>NaN</td>\n",
       "      <td>NaN</td>\n",
       "      <td>NaN</td>\n",
       "      <td>NaN</td>\n",
       "      <td>NaN</td>\n",
       "      <td>...</td>\n",
       "      <td>1.280529e+11</td>\n",
       "      <td>1.367099e+11</td>\n",
       "      <td>1.457122e+11</td>\n",
       "      <td>1.161936e+11</td>\n",
       "      <td>1.011239e+11</td>\n",
       "      <td>1.221238e+11</td>\n",
       "      <td>1.013532e+11</td>\n",
       "      <td>8.941719e+10</td>\n",
       "      <td>5.837598e+10</td>\n",
       "      <td>NaN</td>\n",
       "    </tr>\n",
       "    <tr>\n",
       "      <th>...</th>\n",
       "      <td>...</td>\n",
       "      <td>...</td>\n",
       "      <td>...</td>\n",
       "      <td>...</td>\n",
       "      <td>...</td>\n",
       "      <td>...</td>\n",
       "      <td>...</td>\n",
       "      <td>...</td>\n",
       "      <td>...</td>\n",
       "      <td>...</td>\n",
       "      <td>...</td>\n",
       "      <td>...</td>\n",
       "      <td>...</td>\n",
       "      <td>...</td>\n",
       "      <td>...</td>\n",
       "      <td>...</td>\n",
       "      <td>...</td>\n",
       "      <td>...</td>\n",
       "      <td>...</td>\n",
       "      <td>...</td>\n",
       "      <td>...</td>\n",
       "    </tr>\n",
       "    <tr>\n",
       "      <th>261</th>\n",
       "      <td>Kosovo</td>\n",
       "      <td>XKX</td>\n",
       "      <td>NaN</td>\n",
       "      <td>NaN</td>\n",
       "      <td>NaN</td>\n",
       "      <td>NaN</td>\n",
       "      <td>NaN</td>\n",
       "      <td>NaN</td>\n",
       "      <td>NaN</td>\n",
       "      <td>NaN</td>\n",
       "      <td>...</td>\n",
       "      <td>6.163785e+09</td>\n",
       "      <td>6.735731e+09</td>\n",
       "      <td>7.074658e+09</td>\n",
       "      <td>6.295820e+09</td>\n",
       "      <td>6.682833e+09</td>\n",
       "      <td>7.180813e+09</td>\n",
       "      <td>7.878509e+09</td>\n",
       "      <td>7.899879e+09</td>\n",
       "      <td>7.716925e+09</td>\n",
       "      <td>NaN</td>\n",
       "    </tr>\n",
       "    <tr>\n",
       "      <th>262</th>\n",
       "      <td>Yemen, Rep.</td>\n",
       "      <td>YEM</td>\n",
       "      <td>NaN</td>\n",
       "      <td>NaN</td>\n",
       "      <td>NaN</td>\n",
       "      <td>NaN</td>\n",
       "      <td>NaN</td>\n",
       "      <td>NaN</td>\n",
       "      <td>NaN</td>\n",
       "      <td>NaN</td>\n",
       "      <td>...</td>\n",
       "      <td>3.540134e+10</td>\n",
       "      <td>4.041524e+10</td>\n",
       "      <td>4.322859e+10</td>\n",
       "      <td>4.244510e+10</td>\n",
       "      <td>3.131737e+10</td>\n",
       "      <td>2.684013e+10</td>\n",
       "      <td>2.160614e+10</td>\n",
       "      <td>NaN</td>\n",
       "      <td>NaN</td>\n",
       "      <td>NaN</td>\n",
       "    </tr>\n",
       "    <tr>\n",
       "      <th>263</th>\n",
       "      <td>South Africa</td>\n",
       "      <td>ZAF</td>\n",
       "      <td>7.575397e+09</td>\n",
       "      <td>7.972997e+09</td>\n",
       "      <td>8.497997e+09</td>\n",
       "      <td>9.423396e+09</td>\n",
       "      <td>1.037400e+10</td>\n",
       "      <td>1.133440e+10</td>\n",
       "      <td>1.235500e+10</td>\n",
       "      <td>1.377739e+10</td>\n",
       "      <td>...</td>\n",
       "      <td>4.344005e+11</td>\n",
       "      <td>4.008860e+11</td>\n",
       "      <td>3.811989e+11</td>\n",
       "      <td>3.467098e+11</td>\n",
       "      <td>3.235855e+11</td>\n",
       "      <td>3.814488e+11</td>\n",
       "      <td>4.048421e+11</td>\n",
       "      <td>3.879346e+11</td>\n",
       "      <td>3.354421e+11</td>\n",
       "      <td>NaN</td>\n",
       "    </tr>\n",
       "    <tr>\n",
       "      <th>264</th>\n",
       "      <td>Zambia</td>\n",
       "      <td>ZMB</td>\n",
       "      <td>7.130000e+08</td>\n",
       "      <td>6.962857e+08</td>\n",
       "      <td>6.931429e+08</td>\n",
       "      <td>7.187143e+08</td>\n",
       "      <td>8.394286e+08</td>\n",
       "      <td>1.082857e+09</td>\n",
       "      <td>1.264286e+09</td>\n",
       "      <td>1.368000e+09</td>\n",
       "      <td>...</td>\n",
       "      <td>2.550306e+10</td>\n",
       "      <td>2.803724e+10</td>\n",
       "      <td>2.714102e+10</td>\n",
       "      <td>2.125122e+10</td>\n",
       "      <td>2.095841e+10</td>\n",
       "      <td>2.587360e+10</td>\n",
       "      <td>2.631159e+10</td>\n",
       "      <td>2.330867e+10</td>\n",
       "      <td>1.811063e+10</td>\n",
       "      <td>NaN</td>\n",
       "    </tr>\n",
       "    <tr>\n",
       "      <th>265</th>\n",
       "      <td>Zimbabwe</td>\n",
       "      <td>ZWE</td>\n",
       "      <td>1.052990e+09</td>\n",
       "      <td>1.096647e+09</td>\n",
       "      <td>1.117602e+09</td>\n",
       "      <td>1.159512e+09</td>\n",
       "      <td>1.217138e+09</td>\n",
       "      <td>1.311436e+09</td>\n",
       "      <td>1.281750e+09</td>\n",
       "      <td>1.397002e+09</td>\n",
       "      <td>...</td>\n",
       "      <td>1.711485e+10</td>\n",
       "      <td>1.909102e+10</td>\n",
       "      <td>1.949552e+10</td>\n",
       "      <td>1.996312e+10</td>\n",
       "      <td>2.054868e+10</td>\n",
       "      <td>1.758489e+10</td>\n",
       "      <td>1.811554e+10</td>\n",
       "      <td>1.928429e+10</td>\n",
       "      <td>1.805117e+10</td>\n",
       "      <td>NaN</td>\n",
       "    </tr>\n",
       "  </tbody>\n",
       "</table>\n",
       "<p>266 rows × 64 columns</p>\n",
       "</div>"
      ],
      "text/plain": [
       "                    Country Name Code          1960          1961  \\\n",
       "0                          Aruba  ABW           NaN           NaN   \n",
       "1    Africa Eastern and Southern  AFE  1.931311e+10  1.972349e+10   \n",
       "2                    Afghanistan  AFG  5.377778e+08  5.488889e+08   \n",
       "3     Africa Western and Central  AFW  1.040428e+10  1.112805e+10   \n",
       "4                         Angola  AGO           NaN           NaN   \n",
       "..                           ...  ...           ...           ...   \n",
       "261                       Kosovo  XKX           NaN           NaN   \n",
       "262                  Yemen, Rep.  YEM           NaN           NaN   \n",
       "263                 South Africa  ZAF  7.575397e+09  7.972997e+09   \n",
       "264                       Zambia  ZMB  7.130000e+08  6.962857e+08   \n",
       "265                     Zimbabwe  ZWE  1.052990e+09  1.096647e+09   \n",
       "\n",
       "             1962          1963          1964          1965          1966  \\\n",
       "0             NaN           NaN           NaN           NaN           NaN   \n",
       "1    2.149392e+10  2.573321e+10  2.352744e+10  2.681057e+10  2.915216e+10   \n",
       "2    5.466667e+08  7.511112e+08  8.000000e+08  1.006667e+09  1.400000e+09   \n",
       "3    1.194335e+10  1.267652e+10  1.383858e+10  1.486247e+10  1.583285e+10   \n",
       "4             NaN           NaN           NaN           NaN           NaN   \n",
       "..            ...           ...           ...           ...           ...   \n",
       "261           NaN           NaN           NaN           NaN           NaN   \n",
       "262           NaN           NaN           NaN           NaN           NaN   \n",
       "263  8.497997e+09  9.423396e+09  1.037400e+10  1.133440e+10  1.235500e+10   \n",
       "264  6.931429e+08  7.187143e+08  8.394286e+08  1.082857e+09  1.264286e+09   \n",
       "265  1.117602e+09  1.159512e+09  1.217138e+09  1.311436e+09  1.281750e+09   \n",
       "\n",
       "             1967  ...          2012          2013          2014  \\\n",
       "0             NaN  ...  2.534637e+09  2.727850e+09  2.790849e+09   \n",
       "1    3.017317e+10  ...  9.505214e+11  9.642424e+11  9.848071e+11   \n",
       "2    1.673333e+09  ...  1.990732e+10  2.014640e+10  2.049713e+10   \n",
       "3    1.442643e+10  ...  7.275714e+11  8.207876e+11  8.649666e+11   \n",
       "4             NaN  ...  1.280529e+11  1.367099e+11  1.457122e+11   \n",
       "..            ...  ...           ...           ...           ...   \n",
       "261           NaN  ...  6.163785e+09  6.735731e+09  7.074658e+09   \n",
       "262           NaN  ...  3.540134e+10  4.041524e+10  4.322859e+10   \n",
       "263  1.377739e+10  ...  4.344005e+11  4.008860e+11  3.811989e+11   \n",
       "264  1.368000e+09  ...  2.550306e+10  2.803724e+10  2.714102e+10   \n",
       "265  1.397002e+09  ...  1.711485e+10  1.909102e+10  1.949552e+10   \n",
       "\n",
       "             2015          2016          2017          2018          2019  \\\n",
       "0    2.962905e+09  2.983637e+09  3.092430e+09  3.202189e+09           NaN   \n",
       "1    9.199300e+11  8.733549e+11  9.853557e+11  1.012853e+12  1.009910e+12   \n",
       "2    1.913421e+10  1.811656e+10  1.875347e+10  1.805323e+10  1.879945e+10   \n",
       "3    7.607297e+11  6.905430e+11  6.837416e+11  7.416916e+11  7.945725e+11   \n",
       "4    1.161936e+11  1.011239e+11  1.221238e+11  1.013532e+11  8.941719e+10   \n",
       "..            ...           ...           ...           ...           ...   \n",
       "261  6.295820e+09  6.682833e+09  7.180813e+09  7.878509e+09  7.899879e+09   \n",
       "262  4.244510e+10  3.131737e+10  2.684013e+10  2.160614e+10           NaN   \n",
       "263  3.467098e+11  3.235855e+11  3.814488e+11  4.048421e+11  3.879346e+11   \n",
       "264  2.125122e+10  2.095841e+10  2.587360e+10  2.631159e+10  2.330867e+10   \n",
       "265  1.996312e+10  2.054868e+10  1.758489e+10  1.811554e+10  1.928429e+10   \n",
       "\n",
       "             2020  Unnamed: 65  \n",
       "0             NaN          NaN  \n",
       "1    9.207923e+11          NaN  \n",
       "2    2.011614e+10          NaN  \n",
       "3    7.845876e+11          NaN  \n",
       "4    5.837598e+10          NaN  \n",
       "..            ...          ...  \n",
       "261  7.716925e+09          NaN  \n",
       "262           NaN          NaN  \n",
       "263  3.354421e+11          NaN  \n",
       "264  1.811063e+10          NaN  \n",
       "265  1.805117e+10          NaN  \n",
       "\n",
       "[266 rows x 64 columns]"
      ]
     },
     "execution_count": 3,
     "metadata": {},
     "output_type": "execute_result"
    }
   ],
   "source": [
    "gdp"
   ]
  },
  {
   "cell_type": "code",
   "execution_count": 4,
   "id": "d9f7f9ea",
   "metadata": {},
   "outputs": [
    {
     "data": {
      "text/html": [
       "<div>\n",
       "<style scoped>\n",
       "    .dataframe tbody tr th:only-of-type {\n",
       "        vertical-align: middle;\n",
       "    }\n",
       "\n",
       "    .dataframe tbody tr th {\n",
       "        vertical-align: top;\n",
       "    }\n",
       "\n",
       "    .dataframe thead th {\n",
       "        text-align: right;\n",
       "    }\n",
       "</style>\n",
       "<table border=\"1\" class=\"dataframe\">\n",
       "  <thead>\n",
       "    <tr style=\"text-align: right;\">\n",
       "      <th></th>\n",
       "      <th>HDI rank</th>\n",
       "      <th>Country</th>\n",
       "      <th>Human Development Index (HDI) (Value)</th>\n",
       "      <th>Life expectancy at birth(years)</th>\n",
       "      <th>Expected years of schooling(years)</th>\n",
       "      <th>Mean years of schooling(years)</th>\n",
       "      <th>Gross national income (GNI) per capita(2017 PPP $)</th>\n",
       "      <th>GNI per capita rank minus HDI rank</th>\n",
       "      <th>HDI rank 2019</th>\n",
       "    </tr>\n",
       "  </thead>\n",
       "  <tbody>\n",
       "    <tr>\n",
       "      <th>0</th>\n",
       "      <td>1.0</td>\n",
       "      <td>Norway</td>\n",
       "      <td>0.957</td>\n",
       "      <td>82.4</td>\n",
       "      <td>18.1</td>\n",
       "      <td>12.9</td>\n",
       "      <td>66,494</td>\n",
       "      <td>7.0</td>\n",
       "      <td>1.0</td>\n",
       "    </tr>\n",
       "    <tr>\n",
       "      <th>1</th>\n",
       "      <td>2.0</td>\n",
       "      <td>Ireland</td>\n",
       "      <td>0.955</td>\n",
       "      <td>82.3</td>\n",
       "      <td>18.7</td>\n",
       "      <td>12.7</td>\n",
       "      <td>68,371</td>\n",
       "      <td>4.0</td>\n",
       "      <td>3.0</td>\n",
       "    </tr>\n",
       "    <tr>\n",
       "      <th>2</th>\n",
       "      <td>2.0</td>\n",
       "      <td>Switzerland</td>\n",
       "      <td>0.955</td>\n",
       "      <td>83.8</td>\n",
       "      <td>16.3</td>\n",
       "      <td>13.4</td>\n",
       "      <td>69,394</td>\n",
       "      <td>3.0</td>\n",
       "      <td>2.0</td>\n",
       "    </tr>\n",
       "    <tr>\n",
       "      <th>3</th>\n",
       "      <td>4.0</td>\n",
       "      <td>Hong Kong, China (SAR)</td>\n",
       "      <td>0.949</td>\n",
       "      <td>84.9</td>\n",
       "      <td>16.9</td>\n",
       "      <td>12.3</td>\n",
       "      <td>62,985</td>\n",
       "      <td>7.0</td>\n",
       "      <td>4.0</td>\n",
       "    </tr>\n",
       "    <tr>\n",
       "      <th>4</th>\n",
       "      <td>4.0</td>\n",
       "      <td>Iceland</td>\n",
       "      <td>0.949</td>\n",
       "      <td>83.0</td>\n",
       "      <td>19.1</td>\n",
       "      <td>12.8</td>\n",
       "      <td>54,682</td>\n",
       "      <td>14.0</td>\n",
       "      <td>4.0</td>\n",
       "    </tr>\n",
       "    <tr>\n",
       "      <th>...</th>\n",
       "      <td>...</td>\n",
       "      <td>...</td>\n",
       "      <td>...</td>\n",
       "      <td>...</td>\n",
       "      <td>...</td>\n",
       "      <td>...</td>\n",
       "      <td>...</td>\n",
       "      <td>...</td>\n",
       "      <td>...</td>\n",
       "    </tr>\n",
       "    <tr>\n",
       "      <th>257</th>\n",
       "      <td>NaN</td>\n",
       "      <td>NaN</td>\n",
       "      <td>NaN</td>\n",
       "      <td>NaN</td>\n",
       "      <td>NaN</td>\n",
       "      <td>NaN</td>\n",
       "      <td>NaN</td>\n",
       "      <td>NaN</td>\n",
       "      <td>NaN</td>\n",
       "    </tr>\n",
       "    <tr>\n",
       "      <th>258</th>\n",
       "      <td>NaN</td>\n",
       "      <td>NaN</td>\n",
       "      <td>NaN</td>\n",
       "      <td>NaN</td>\n",
       "      <td>NaN</td>\n",
       "      <td>NaN</td>\n",
       "      <td>NaN</td>\n",
       "      <td>NaN</td>\n",
       "      <td>NaN</td>\n",
       "    </tr>\n",
       "    <tr>\n",
       "      <th>259</th>\n",
       "      <td>NaN</td>\n",
       "      <td>NaN</td>\n",
       "      <td>NaN</td>\n",
       "      <td>NaN</td>\n",
       "      <td>NaN</td>\n",
       "      <td>NaN</td>\n",
       "      <td>NaN</td>\n",
       "      <td>NaN</td>\n",
       "      <td>NaN</td>\n",
       "    </tr>\n",
       "    <tr>\n",
       "      <th>260</th>\n",
       "      <td>NaN</td>\n",
       "      <td>NaN</td>\n",
       "      <td>NaN</td>\n",
       "      <td>NaN</td>\n",
       "      <td>NaN</td>\n",
       "      <td>NaN</td>\n",
       "      <td>NaN</td>\n",
       "      <td>NaN</td>\n",
       "      <td>NaN</td>\n",
       "    </tr>\n",
       "    <tr>\n",
       "      <th>261</th>\n",
       "      <td>NaN</td>\n",
       "      <td>NaN</td>\n",
       "      <td>NaN</td>\n",
       "      <td>NaN</td>\n",
       "      <td>NaN</td>\n",
       "      <td>NaN</td>\n",
       "      <td>NaN</td>\n",
       "      <td>NaN</td>\n",
       "      <td>NaN</td>\n",
       "    </tr>\n",
       "  </tbody>\n",
       "</table>\n",
       "<p>262 rows × 9 columns</p>\n",
       "</div>"
      ],
      "text/plain": [
       "     HDI rank                 Country  Human Development Index (HDI) (Value)  \\\n",
       "0         1.0                  Norway                                  0.957   \n",
       "1         2.0                 Ireland                                  0.955   \n",
       "2         2.0             Switzerland                                  0.955   \n",
       "3         4.0  Hong Kong, China (SAR)                                  0.949   \n",
       "4         4.0                 Iceland                                  0.949   \n",
       "..        ...                     ...                                    ...   \n",
       "257       NaN                     NaN                                    NaN   \n",
       "258       NaN                     NaN                                    NaN   \n",
       "259       NaN                     NaN                                    NaN   \n",
       "260       NaN                     NaN                                    NaN   \n",
       "261       NaN                     NaN                                    NaN   \n",
       "\n",
       "     Life expectancy at birth(years)  Expected years of schooling(years)  \\\n",
       "0                               82.4                                18.1   \n",
       "1                               82.3                                18.7   \n",
       "2                               83.8                                16.3   \n",
       "3                               84.9                                16.9   \n",
       "4                               83.0                                19.1   \n",
       "..                               ...                                 ...   \n",
       "257                              NaN                                 NaN   \n",
       "258                              NaN                                 NaN   \n",
       "259                              NaN                                 NaN   \n",
       "260                              NaN                                 NaN   \n",
       "261                              NaN                                 NaN   \n",
       "\n",
       "     Mean years of schooling(years)  \\\n",
       "0                              12.9   \n",
       "1                              12.7   \n",
       "2                              13.4   \n",
       "3                              12.3   \n",
       "4                              12.8   \n",
       "..                              ...   \n",
       "257                             NaN   \n",
       "258                             NaN   \n",
       "259                             NaN   \n",
       "260                             NaN   \n",
       "261                             NaN   \n",
       "\n",
       "    Gross national income (GNI) per capita(2017 PPP $)  \\\n",
       "0                                               66,494   \n",
       "1                                               68,371   \n",
       "2                                               69,394   \n",
       "3                                               62,985   \n",
       "4                                               54,682   \n",
       "..                                                 ...   \n",
       "257                                                NaN   \n",
       "258                                                NaN   \n",
       "259                                                NaN   \n",
       "260                                                NaN   \n",
       "261                                                NaN   \n",
       "\n",
       "     GNI per capita rank minus HDI rank  HDI rank 2019  \n",
       "0                                   7.0            1.0  \n",
       "1                                   4.0            3.0  \n",
       "2                                   3.0            2.0  \n",
       "3                                   7.0            4.0  \n",
       "4                                  14.0            4.0  \n",
       "..                                  ...            ...  \n",
       "257                                 NaN            NaN  \n",
       "258                                 NaN            NaN  \n",
       "259                                 NaN            NaN  \n",
       "260                                 NaN            NaN  \n",
       "261                                 NaN            NaN  \n",
       "\n",
       "[262 rows x 9 columns]"
      ]
     },
     "execution_count": 4,
     "metadata": {},
     "output_type": "execute_result"
    }
   ],
   "source": [
    "hdi"
   ]
  },
  {
   "cell_type": "code",
   "execution_count": 5,
   "id": "139e3543",
   "metadata": {},
   "outputs": [
    {
     "data": {
      "text/html": [
       "<div>\n",
       "<style scoped>\n",
       "    .dataframe tbody tr th:only-of-type {\n",
       "        vertical-align: middle;\n",
       "    }\n",
       "\n",
       "    .dataframe tbody tr th {\n",
       "        vertical-align: top;\n",
       "    }\n",
       "\n",
       "    .dataframe thead th {\n",
       "        text-align: right;\n",
       "    }\n",
       "</style>\n",
       "<table border=\"1\" class=\"dataframe\">\n",
       "  <thead>\n",
       "    <tr style=\"text-align: right;\">\n",
       "      <th></th>\n",
       "      <th>Rank</th>\n",
       "      <th>CCA3</th>\n",
       "      <th>Country/Territory</th>\n",
       "      <th>Capital</th>\n",
       "      <th>Continent</th>\n",
       "      <th>2022 Population</th>\n",
       "      <th>2020 Population</th>\n",
       "      <th>2015 Population</th>\n",
       "      <th>2010 Population</th>\n",
       "      <th>2000 Population</th>\n",
       "      <th>1990 Population</th>\n",
       "      <th>1980 Population</th>\n",
       "      <th>1970 Population</th>\n",
       "      <th>Area (km²)</th>\n",
       "      <th>Density (per km²)</th>\n",
       "      <th>Growth Rate</th>\n",
       "      <th>World Population Percentage</th>\n",
       "    </tr>\n",
       "  </thead>\n",
       "  <tbody>\n",
       "    <tr>\n",
       "      <th>0</th>\n",
       "      <td>36</td>\n",
       "      <td>AFG</td>\n",
       "      <td>Afghanistan</td>\n",
       "      <td>Kabul</td>\n",
       "      <td>Asia</td>\n",
       "      <td>41128771</td>\n",
       "      <td>38972230</td>\n",
       "      <td>33753499</td>\n",
       "      <td>28189672</td>\n",
       "      <td>19542982</td>\n",
       "      <td>10694796</td>\n",
       "      <td>12486631</td>\n",
       "      <td>10752971</td>\n",
       "      <td>652230</td>\n",
       "      <td>63.0587</td>\n",
       "      <td>1.0257</td>\n",
       "      <td>0.52</td>\n",
       "    </tr>\n",
       "    <tr>\n",
       "      <th>1</th>\n",
       "      <td>138</td>\n",
       "      <td>ALB</td>\n",
       "      <td>Albania</td>\n",
       "      <td>Tirana</td>\n",
       "      <td>Europe</td>\n",
       "      <td>2842321</td>\n",
       "      <td>2866849</td>\n",
       "      <td>2882481</td>\n",
       "      <td>2913399</td>\n",
       "      <td>3182021</td>\n",
       "      <td>3295066</td>\n",
       "      <td>2941651</td>\n",
       "      <td>2324731</td>\n",
       "      <td>28748</td>\n",
       "      <td>98.8702</td>\n",
       "      <td>0.9957</td>\n",
       "      <td>0.04</td>\n",
       "    </tr>\n",
       "    <tr>\n",
       "      <th>2</th>\n",
       "      <td>34</td>\n",
       "      <td>DZA</td>\n",
       "      <td>Algeria</td>\n",
       "      <td>Algiers</td>\n",
       "      <td>Africa</td>\n",
       "      <td>44903225</td>\n",
       "      <td>43451666</td>\n",
       "      <td>39543154</td>\n",
       "      <td>35856344</td>\n",
       "      <td>30774621</td>\n",
       "      <td>25518074</td>\n",
       "      <td>18739378</td>\n",
       "      <td>13795915</td>\n",
       "      <td>2381741</td>\n",
       "      <td>18.8531</td>\n",
       "      <td>1.0164</td>\n",
       "      <td>0.56</td>\n",
       "    </tr>\n",
       "    <tr>\n",
       "      <th>3</th>\n",
       "      <td>213</td>\n",
       "      <td>ASM</td>\n",
       "      <td>American Samoa</td>\n",
       "      <td>Pago Pago</td>\n",
       "      <td>Oceania</td>\n",
       "      <td>44273</td>\n",
       "      <td>46189</td>\n",
       "      <td>51368</td>\n",
       "      <td>54849</td>\n",
       "      <td>58230</td>\n",
       "      <td>47818</td>\n",
       "      <td>32886</td>\n",
       "      <td>27075</td>\n",
       "      <td>199</td>\n",
       "      <td>222.4774</td>\n",
       "      <td>0.9831</td>\n",
       "      <td>0.00</td>\n",
       "    </tr>\n",
       "    <tr>\n",
       "      <th>4</th>\n",
       "      <td>203</td>\n",
       "      <td>AND</td>\n",
       "      <td>Andorra</td>\n",
       "      <td>Andorra la Vella</td>\n",
       "      <td>Europe</td>\n",
       "      <td>79824</td>\n",
       "      <td>77700</td>\n",
       "      <td>71746</td>\n",
       "      <td>71519</td>\n",
       "      <td>66097</td>\n",
       "      <td>53569</td>\n",
       "      <td>35611</td>\n",
       "      <td>19860</td>\n",
       "      <td>468</td>\n",
       "      <td>170.5641</td>\n",
       "      <td>1.0100</td>\n",
       "      <td>0.00</td>\n",
       "    </tr>\n",
       "    <tr>\n",
       "      <th>...</th>\n",
       "      <td>...</td>\n",
       "      <td>...</td>\n",
       "      <td>...</td>\n",
       "      <td>...</td>\n",
       "      <td>...</td>\n",
       "      <td>...</td>\n",
       "      <td>...</td>\n",
       "      <td>...</td>\n",
       "      <td>...</td>\n",
       "      <td>...</td>\n",
       "      <td>...</td>\n",
       "      <td>...</td>\n",
       "      <td>...</td>\n",
       "      <td>...</td>\n",
       "      <td>...</td>\n",
       "      <td>...</td>\n",
       "      <td>...</td>\n",
       "    </tr>\n",
       "    <tr>\n",
       "      <th>229</th>\n",
       "      <td>226</td>\n",
       "      <td>WLF</td>\n",
       "      <td>Wallis and Futuna</td>\n",
       "      <td>Mata-Utu</td>\n",
       "      <td>Oceania</td>\n",
       "      <td>11572</td>\n",
       "      <td>11655</td>\n",
       "      <td>12182</td>\n",
       "      <td>13142</td>\n",
       "      <td>14723</td>\n",
       "      <td>13454</td>\n",
       "      <td>11315</td>\n",
       "      <td>9377</td>\n",
       "      <td>142</td>\n",
       "      <td>81.4930</td>\n",
       "      <td>0.9953</td>\n",
       "      <td>0.00</td>\n",
       "    </tr>\n",
       "    <tr>\n",
       "      <th>230</th>\n",
       "      <td>172</td>\n",
       "      <td>ESH</td>\n",
       "      <td>Western Sahara</td>\n",
       "      <td>El Aaiún</td>\n",
       "      <td>Africa</td>\n",
       "      <td>575986</td>\n",
       "      <td>556048</td>\n",
       "      <td>491824</td>\n",
       "      <td>413296</td>\n",
       "      <td>270375</td>\n",
       "      <td>178529</td>\n",
       "      <td>116775</td>\n",
       "      <td>76371</td>\n",
       "      <td>266000</td>\n",
       "      <td>2.1654</td>\n",
       "      <td>1.0184</td>\n",
       "      <td>0.01</td>\n",
       "    </tr>\n",
       "    <tr>\n",
       "      <th>231</th>\n",
       "      <td>46</td>\n",
       "      <td>YEM</td>\n",
       "      <td>Yemen</td>\n",
       "      <td>Sanaa</td>\n",
       "      <td>Asia</td>\n",
       "      <td>33696614</td>\n",
       "      <td>32284046</td>\n",
       "      <td>28516545</td>\n",
       "      <td>24743946</td>\n",
       "      <td>18628700</td>\n",
       "      <td>13375121</td>\n",
       "      <td>9204938</td>\n",
       "      <td>6843607</td>\n",
       "      <td>527968</td>\n",
       "      <td>63.8232</td>\n",
       "      <td>1.0217</td>\n",
       "      <td>0.42</td>\n",
       "    </tr>\n",
       "    <tr>\n",
       "      <th>232</th>\n",
       "      <td>63</td>\n",
       "      <td>ZMB</td>\n",
       "      <td>Zambia</td>\n",
       "      <td>Lusaka</td>\n",
       "      <td>Africa</td>\n",
       "      <td>20017675</td>\n",
       "      <td>18927715</td>\n",
       "      <td>16248230</td>\n",
       "      <td>13792086</td>\n",
       "      <td>9891136</td>\n",
       "      <td>7686401</td>\n",
       "      <td>5720438</td>\n",
       "      <td>4281671</td>\n",
       "      <td>752612</td>\n",
       "      <td>26.5976</td>\n",
       "      <td>1.0280</td>\n",
       "      <td>0.25</td>\n",
       "    </tr>\n",
       "    <tr>\n",
       "      <th>233</th>\n",
       "      <td>74</td>\n",
       "      <td>ZWE</td>\n",
       "      <td>Zimbabwe</td>\n",
       "      <td>Harare</td>\n",
       "      <td>Africa</td>\n",
       "      <td>16320537</td>\n",
       "      <td>15669666</td>\n",
       "      <td>14154937</td>\n",
       "      <td>12839771</td>\n",
       "      <td>11834676</td>\n",
       "      <td>10113893</td>\n",
       "      <td>7049926</td>\n",
       "      <td>5202918</td>\n",
       "      <td>390757</td>\n",
       "      <td>41.7665</td>\n",
       "      <td>1.0204</td>\n",
       "      <td>0.20</td>\n",
       "    </tr>\n",
       "  </tbody>\n",
       "</table>\n",
       "<p>234 rows × 17 columns</p>\n",
       "</div>"
      ],
      "text/plain": [
       "     Rank CCA3  Country/Territory           Capital Continent  \\\n",
       "0      36  AFG        Afghanistan             Kabul      Asia   \n",
       "1     138  ALB            Albania            Tirana    Europe   \n",
       "2      34  DZA            Algeria           Algiers    Africa   \n",
       "3     213  ASM     American Samoa         Pago Pago   Oceania   \n",
       "4     203  AND            Andorra  Andorra la Vella    Europe   \n",
       "..    ...  ...                ...               ...       ...   \n",
       "229   226  WLF  Wallis and Futuna          Mata-Utu   Oceania   \n",
       "230   172  ESH     Western Sahara          El Aaiún    Africa   \n",
       "231    46  YEM              Yemen             Sanaa      Asia   \n",
       "232    63  ZMB             Zambia            Lusaka    Africa   \n",
       "233    74  ZWE           Zimbabwe            Harare    Africa   \n",
       "\n",
       "     2022 Population  2020 Population  2015 Population  2010 Population  \\\n",
       "0           41128771         38972230         33753499         28189672   \n",
       "1            2842321          2866849          2882481          2913399   \n",
       "2           44903225         43451666         39543154         35856344   \n",
       "3              44273            46189            51368            54849   \n",
       "4              79824            77700            71746            71519   \n",
       "..               ...              ...              ...              ...   \n",
       "229            11572            11655            12182            13142   \n",
       "230           575986           556048           491824           413296   \n",
       "231         33696614         32284046         28516545         24743946   \n",
       "232         20017675         18927715         16248230         13792086   \n",
       "233         16320537         15669666         14154937         12839771   \n",
       "\n",
       "     2000 Population  1990 Population  1980 Population  1970 Population  \\\n",
       "0           19542982         10694796         12486631         10752971   \n",
       "1            3182021          3295066          2941651          2324731   \n",
       "2           30774621         25518074         18739378         13795915   \n",
       "3              58230            47818            32886            27075   \n",
       "4              66097            53569            35611            19860   \n",
       "..               ...              ...              ...              ...   \n",
       "229            14723            13454            11315             9377   \n",
       "230           270375           178529           116775            76371   \n",
       "231         18628700         13375121          9204938          6843607   \n",
       "232          9891136          7686401          5720438          4281671   \n",
       "233         11834676         10113893          7049926          5202918   \n",
       "\n",
       "     Area (km²)  Density (per km²)  Growth Rate  World Population Percentage  \n",
       "0        652230            63.0587       1.0257                         0.52  \n",
       "1         28748            98.8702       0.9957                         0.04  \n",
       "2       2381741            18.8531       1.0164                         0.56  \n",
       "3           199           222.4774       0.9831                         0.00  \n",
       "4           468           170.5641       1.0100                         0.00  \n",
       "..          ...                ...          ...                          ...  \n",
       "229         142            81.4930       0.9953                         0.00  \n",
       "230      266000             2.1654       1.0184                         0.01  \n",
       "231      527968            63.8232       1.0217                         0.42  \n",
       "232      752612            26.5976       1.0280                         0.25  \n",
       "233      390757            41.7665       1.0204                         0.20  \n",
       "\n",
       "[234 rows x 17 columns]"
      ]
     },
     "execution_count": 5,
     "metadata": {},
     "output_type": "execute_result"
    }
   ],
   "source": [
    "wp"
   ]
  },
  {
   "cell_type": "markdown",
   "id": "370b2e5c",
   "metadata": {},
   "source": [
    "### World Population Exploratory"
   ]
  },
  {
   "cell_type": "code",
   "execution_count": 6,
   "id": "4a472b88",
   "metadata": {},
   "outputs": [
    {
     "data": {
      "text/plain": [
       "99.93"
      ]
     },
     "execution_count": 6,
     "metadata": {},
     "output_type": "execute_result"
    }
   ],
   "source": [
    "wp[\"World Population Percentage\"].sum()"
   ]
  },
  {
   "cell_type": "code",
   "execution_count": 7,
   "id": "b03e4bc5",
   "metadata": {},
   "outputs": [
    {
     "data": {
      "text/plain": [
       "array(['Asia', 'Europe', 'Africa', 'Oceania', 'North America',\n",
       "       'South America'], dtype=object)"
      ]
     },
     "execution_count": 7,
     "metadata": {},
     "output_type": "execute_result"
    }
   ],
   "source": [
    "wp[\"Continent\"].unique()"
   ]
  },
  {
   "cell_type": "code",
   "execution_count": 8,
   "id": "723022b0",
   "metadata": {},
   "outputs": [],
   "source": [
    "world_pop=pd.DataFrame({'1970':[0,0,0,0,0,0,0],'1980':[0,0,0,0,0,0,0], '1990':[0,0,0,0,0,0,0],'2000':[0,0,0,0,0,0,0],'2010':[0,0,0,0,0,0,0],'2020':[0,0,0,0,0,0,0],'2022':[0,0,0,0,0,0,0]})\n",
    "con_list=['Asia','Europe','Africa','Oceania','North America','South America',\"World\"]"
   ]
  },
  {
   "cell_type": "code",
   "execution_count": 9,
   "id": "bc7a9c7f",
   "metadata": {},
   "outputs": [],
   "source": [
    "world_pop.rename(index={0:'Population'}, inplace=True)"
   ]
  },
  {
   "cell_type": "code",
   "execution_count": 10,
   "id": "d2f58aa9",
   "metadata": {},
   "outputs": [],
   "source": [
    "world_pop.index=con_list"
   ]
  },
  {
   "cell_type": "code",
   "execution_count": 11,
   "id": "f0139946",
   "metadata": {},
   "outputs": [
    {
     "data": {
      "text/html": [
       "<div>\n",
       "<style scoped>\n",
       "    .dataframe tbody tr th:only-of-type {\n",
       "        vertical-align: middle;\n",
       "    }\n",
       "\n",
       "    .dataframe tbody tr th {\n",
       "        vertical-align: top;\n",
       "    }\n",
       "\n",
       "    .dataframe thead th {\n",
       "        text-align: right;\n",
       "    }\n",
       "</style>\n",
       "<table border=\"1\" class=\"dataframe\">\n",
       "  <thead>\n",
       "    <tr style=\"text-align: right;\">\n",
       "      <th></th>\n",
       "      <th>2022 Population</th>\n",
       "      <th>2020 Population</th>\n",
       "      <th>2015 Population</th>\n",
       "      <th>2010 Population</th>\n",
       "      <th>2000 Population</th>\n",
       "      <th>1990 Population</th>\n",
       "      <th>1980 Population</th>\n",
       "      <th>1970 Population</th>\n",
       "      <th>Area (km²)</th>\n",
       "      <th>World Population Percentage</th>\n",
       "    </tr>\n",
       "    <tr>\n",
       "      <th>Continent</th>\n",
       "      <th></th>\n",
       "      <th></th>\n",
       "      <th></th>\n",
       "      <th></th>\n",
       "      <th></th>\n",
       "      <th></th>\n",
       "      <th></th>\n",
       "      <th></th>\n",
       "      <th></th>\n",
       "      <th></th>\n",
       "    </tr>\n",
       "  </thead>\n",
       "  <tbody>\n",
       "    <tr>\n",
       "      <th>Africa</th>\n",
       "      <td>1426730932</td>\n",
       "      <td>1360671810</td>\n",
       "      <td>1201102442</td>\n",
       "      <td>1055228072</td>\n",
       "      <td>818946032</td>\n",
       "      <td>638150629</td>\n",
       "      <td>481536377</td>\n",
       "      <td>365444348</td>\n",
       "      <td>30317963</td>\n",
       "      <td>17.87</td>\n",
       "    </tr>\n",
       "    <tr>\n",
       "      <th>Asia</th>\n",
       "      <td>4721383274</td>\n",
       "      <td>4663086535</td>\n",
       "      <td>4458250182</td>\n",
       "      <td>4220041327</td>\n",
       "      <td>3735089604</td>\n",
       "      <td>3210563577</td>\n",
       "      <td>2635334228</td>\n",
       "      <td>2144906290</td>\n",
       "      <td>32138141</td>\n",
       "      <td>59.19</td>\n",
       "    </tr>\n",
       "    <tr>\n",
       "      <th>Europe</th>\n",
       "      <td>743147538</td>\n",
       "      <td>745792196</td>\n",
       "      <td>741535608</td>\n",
       "      <td>735613934</td>\n",
       "      <td>726093423</td>\n",
       "      <td>720320797</td>\n",
       "      <td>692527159</td>\n",
       "      <td>655923991</td>\n",
       "      <td>23010411</td>\n",
       "      <td>9.33</td>\n",
       "    </tr>\n",
       "    <tr>\n",
       "      <th>North America</th>\n",
       "      <td>600296136</td>\n",
       "      <td>594236593</td>\n",
       "      <td>570383850</td>\n",
       "      <td>542720651</td>\n",
       "      <td>486069584</td>\n",
       "      <td>421266425</td>\n",
       "      <td>368293361</td>\n",
       "      <td>315434606</td>\n",
       "      <td>24244178</td>\n",
       "      <td>7.51</td>\n",
       "    </tr>\n",
       "    <tr>\n",
       "      <th>Oceania</th>\n",
       "      <td>45038554</td>\n",
       "      <td>43933426</td>\n",
       "      <td>40403283</td>\n",
       "      <td>37102764</td>\n",
       "      <td>31222778</td>\n",
       "      <td>26743822</td>\n",
       "      <td>22920240</td>\n",
       "      <td>19480270</td>\n",
       "      <td>8515081</td>\n",
       "      <td>0.55</td>\n",
       "    </tr>\n",
       "    <tr>\n",
       "      <th>South America</th>\n",
       "      <td>436816608</td>\n",
       "      <td>431530043</td>\n",
       "      <td>413134396</td>\n",
       "      <td>393078250</td>\n",
       "      <td>349634282</td>\n",
       "      <td>297146415</td>\n",
       "      <td>241789006</td>\n",
       "      <td>192947156</td>\n",
       "      <td>17833382</td>\n",
       "      <td>5.48</td>\n",
       "    </tr>\n",
       "  </tbody>\n",
       "</table>\n",
       "</div>"
      ],
      "text/plain": [
       "               2022 Population  2020 Population  2015 Population  \\\n",
       "Continent                                                          \n",
       "Africa              1426730932       1360671810       1201102442   \n",
       "Asia                4721383274       4663086535       4458250182   \n",
       "Europe               743147538        745792196        741535608   \n",
       "North America        600296136        594236593        570383850   \n",
       "Oceania               45038554         43933426         40403283   \n",
       "South America        436816608        431530043        413134396   \n",
       "\n",
       "               2010 Population  2000 Population  1990 Population  \\\n",
       "Continent                                                          \n",
       "Africa              1055228072        818946032        638150629   \n",
       "Asia                4220041327       3735089604       3210563577   \n",
       "Europe               735613934        726093423        720320797   \n",
       "North America        542720651        486069584        421266425   \n",
       "Oceania               37102764         31222778         26743822   \n",
       "South America        393078250        349634282        297146415   \n",
       "\n",
       "               1980 Population  1970 Population  Area (km²)  \\\n",
       "Continent                                                     \n",
       "Africa               481536377        365444348    30317963   \n",
       "Asia                2635334228       2144906290    32138141   \n",
       "Europe               692527159        655923991    23010411   \n",
       "North America        368293361        315434606    24244178   \n",
       "Oceania               22920240         19480270     8515081   \n",
       "South America        241789006        192947156    17833382   \n",
       "\n",
       "               World Population Percentage  \n",
       "Continent                                   \n",
       "Africa                               17.87  \n",
       "Asia                                 59.19  \n",
       "Europe                                9.33  \n",
       "North America                         7.51  \n",
       "Oceania                               0.55  \n",
       "South America                         5.48  "
      ]
     },
     "execution_count": 11,
     "metadata": {},
     "output_type": "execute_result"
    }
   ],
   "source": [
    "wp_1= wp.groupby('Continent').sum()\n",
    "wp_1=wp_1.drop(columns=[\"Density (per km²)\", \"Growth Rate\",\"Rank\"])\n",
    "wp_1"
   ]
  },
  {
   "cell_type": "code",
   "execution_count": 12,
   "id": "b1bb149b",
   "metadata": {
    "scrolled": true
   },
   "outputs": [
    {
     "data": {
      "text/html": [
       "<div>\n",
       "<style scoped>\n",
       "    .dataframe tbody tr th:only-of-type {\n",
       "        vertical-align: middle;\n",
       "    }\n",
       "\n",
       "    .dataframe tbody tr th {\n",
       "        vertical-align: top;\n",
       "    }\n",
       "\n",
       "    .dataframe thead th {\n",
       "        text-align: right;\n",
       "    }\n",
       "</style>\n",
       "<table border=\"1\" class=\"dataframe\">\n",
       "  <thead>\n",
       "    <tr style=\"text-align: right;\">\n",
       "      <th></th>\n",
       "      <th>2022 Population</th>\n",
       "      <th>2020 Population</th>\n",
       "      <th>2015 Population</th>\n",
       "      <th>2010 Population</th>\n",
       "      <th>2000 Population</th>\n",
       "      <th>1990 Population</th>\n",
       "      <th>1980 Population</th>\n",
       "      <th>1970 Population</th>\n",
       "      <th>Area (km²)</th>\n",
       "      <th>World Population Percentage</th>\n",
       "    </tr>\n",
       "    <tr>\n",
       "      <th>Continent</th>\n",
       "      <th></th>\n",
       "      <th></th>\n",
       "      <th></th>\n",
       "      <th></th>\n",
       "      <th></th>\n",
       "      <th></th>\n",
       "      <th></th>\n",
       "      <th></th>\n",
       "      <th></th>\n",
       "      <th></th>\n",
       "    </tr>\n",
       "  </thead>\n",
       "  <tbody>\n",
       "    <tr>\n",
       "      <th>Africa</th>\n",
       "      <td>1.426731e+09</td>\n",
       "      <td>1.360672e+09</td>\n",
       "      <td>1.201102e+09</td>\n",
       "      <td>1.055228e+09</td>\n",
       "      <td>8.189460e+08</td>\n",
       "      <td>6.381506e+08</td>\n",
       "      <td>4.815364e+08</td>\n",
       "      <td>3.654443e+08</td>\n",
       "      <td>30317963.0</td>\n",
       "      <td>17.87</td>\n",
       "    </tr>\n",
       "    <tr>\n",
       "      <th>Asia</th>\n",
       "      <td>4.721383e+09</td>\n",
       "      <td>4.663087e+09</td>\n",
       "      <td>4.458250e+09</td>\n",
       "      <td>4.220041e+09</td>\n",
       "      <td>3.735090e+09</td>\n",
       "      <td>3.210564e+09</td>\n",
       "      <td>2.635334e+09</td>\n",
       "      <td>2.144906e+09</td>\n",
       "      <td>32138141.0</td>\n",
       "      <td>59.19</td>\n",
       "    </tr>\n",
       "    <tr>\n",
       "      <th>Europe</th>\n",
       "      <td>7.431475e+08</td>\n",
       "      <td>7.457922e+08</td>\n",
       "      <td>7.415356e+08</td>\n",
       "      <td>7.356139e+08</td>\n",
       "      <td>7.260934e+08</td>\n",
       "      <td>7.203208e+08</td>\n",
       "      <td>6.925272e+08</td>\n",
       "      <td>6.559240e+08</td>\n",
       "      <td>23010411.0</td>\n",
       "      <td>9.33</td>\n",
       "    </tr>\n",
       "    <tr>\n",
       "      <th>North America</th>\n",
       "      <td>6.002961e+08</td>\n",
       "      <td>5.942366e+08</td>\n",
       "      <td>5.703838e+08</td>\n",
       "      <td>5.427207e+08</td>\n",
       "      <td>4.860696e+08</td>\n",
       "      <td>4.212664e+08</td>\n",
       "      <td>3.682934e+08</td>\n",
       "      <td>3.154346e+08</td>\n",
       "      <td>24244178.0</td>\n",
       "      <td>7.51</td>\n",
       "    </tr>\n",
       "    <tr>\n",
       "      <th>Oceania</th>\n",
       "      <td>4.503855e+07</td>\n",
       "      <td>4.393343e+07</td>\n",
       "      <td>4.040328e+07</td>\n",
       "      <td>3.710276e+07</td>\n",
       "      <td>3.122278e+07</td>\n",
       "      <td>2.674382e+07</td>\n",
       "      <td>2.292024e+07</td>\n",
       "      <td>1.948027e+07</td>\n",
       "      <td>8515081.0</td>\n",
       "      <td>0.55</td>\n",
       "    </tr>\n",
       "    <tr>\n",
       "      <th>South America</th>\n",
       "      <td>4.368166e+08</td>\n",
       "      <td>4.315300e+08</td>\n",
       "      <td>4.131344e+08</td>\n",
       "      <td>3.930782e+08</td>\n",
       "      <td>3.496343e+08</td>\n",
       "      <td>2.971464e+08</td>\n",
       "      <td>2.417890e+08</td>\n",
       "      <td>1.929472e+08</td>\n",
       "      <td>17833382.0</td>\n",
       "      <td>5.48</td>\n",
       "    </tr>\n",
       "    <tr>\n",
       "      <th>World</th>\n",
       "      <td>7.973413e+09</td>\n",
       "      <td>7.839251e+09</td>\n",
       "      <td>7.424810e+09</td>\n",
       "      <td>6.983785e+09</td>\n",
       "      <td>6.147056e+09</td>\n",
       "      <td>5.314192e+09</td>\n",
       "      <td>4.442400e+09</td>\n",
       "      <td>3.694137e+09</td>\n",
       "      <td>136059156.0</td>\n",
       "      <td>99.93</td>\n",
       "    </tr>\n",
       "  </tbody>\n",
       "</table>\n",
       "</div>"
      ],
      "text/plain": [
       "               2022 Population  2020 Population  2015 Population  \\\n",
       "Continent                                                          \n",
       "Africa            1.426731e+09     1.360672e+09     1.201102e+09   \n",
       "Asia              4.721383e+09     4.663087e+09     4.458250e+09   \n",
       "Europe            7.431475e+08     7.457922e+08     7.415356e+08   \n",
       "North America     6.002961e+08     5.942366e+08     5.703838e+08   \n",
       "Oceania           4.503855e+07     4.393343e+07     4.040328e+07   \n",
       "South America     4.368166e+08     4.315300e+08     4.131344e+08   \n",
       "World             7.973413e+09     7.839251e+09     7.424810e+09   \n",
       "\n",
       "               2010 Population  2000 Population  1990 Population  \\\n",
       "Continent                                                          \n",
       "Africa            1.055228e+09     8.189460e+08     6.381506e+08   \n",
       "Asia              4.220041e+09     3.735090e+09     3.210564e+09   \n",
       "Europe            7.356139e+08     7.260934e+08     7.203208e+08   \n",
       "North America     5.427207e+08     4.860696e+08     4.212664e+08   \n",
       "Oceania           3.710276e+07     3.122278e+07     2.674382e+07   \n",
       "South America     3.930782e+08     3.496343e+08     2.971464e+08   \n",
       "World             6.983785e+09     6.147056e+09     5.314192e+09   \n",
       "\n",
       "               1980 Population  1970 Population   Area (km²)  \\\n",
       "Continent                                                      \n",
       "Africa            4.815364e+08     3.654443e+08   30317963.0   \n",
       "Asia              2.635334e+09     2.144906e+09   32138141.0   \n",
       "Europe            6.925272e+08     6.559240e+08   23010411.0   \n",
       "North America     3.682934e+08     3.154346e+08   24244178.0   \n",
       "Oceania           2.292024e+07     1.948027e+07    8515081.0   \n",
       "South America     2.417890e+08     1.929472e+08   17833382.0   \n",
       "World             4.442400e+09     3.694137e+09  136059156.0   \n",
       "\n",
       "               World Population Percentage  \n",
       "Continent                                   \n",
       "Africa                               17.87  \n",
       "Asia                                 59.19  \n",
       "Europe                                9.33  \n",
       "North America                         7.51  \n",
       "Oceania                               0.55  \n",
       "South America                         5.48  \n",
       "World                                99.93  "
      ]
     },
     "execution_count": 12,
     "metadata": {},
     "output_type": "execute_result"
    }
   ],
   "source": [
    "wp_1.loc[\"World\"] = wp_1.sum()\n",
    "wp_1"
   ]
  },
  {
   "cell_type": "code",
   "execution_count": 27,
   "id": "2505e7e7",
   "metadata": {},
   "outputs": [
    {
     "data": {
      "text/html": [
       "<div>\n",
       "<style scoped>\n",
       "    .dataframe tbody tr th:only-of-type {\n",
       "        vertical-align: middle;\n",
       "    }\n",
       "\n",
       "    .dataframe tbody tr th {\n",
       "        vertical-align: top;\n",
       "    }\n",
       "\n",
       "    .dataframe thead th {\n",
       "        text-align: right;\n",
       "    }\n",
       "</style>\n",
       "<table border=\"1\" class=\"dataframe\">\n",
       "  <thead>\n",
       "    <tr style=\"text-align: right;\">\n",
       "      <th></th>\n",
       "      <th>2022 Population</th>\n",
       "      <th>2020 Population</th>\n",
       "      <th>2015 Population</th>\n",
       "      <th>2010 Population</th>\n",
       "      <th>2000 Population</th>\n",
       "      <th>1990 Population</th>\n",
       "      <th>1980 Population</th>\n",
       "      <th>1970 Population</th>\n",
       "    </tr>\n",
       "    <tr>\n",
       "      <th>Continent</th>\n",
       "      <th></th>\n",
       "      <th></th>\n",
       "      <th></th>\n",
       "      <th></th>\n",
       "      <th></th>\n",
       "      <th></th>\n",
       "      <th></th>\n",
       "      <th></th>\n",
       "    </tr>\n",
       "  </thead>\n",
       "  <tbody>\n",
       "    <tr>\n",
       "      <th>Africa</th>\n",
       "      <td>1.426731e+09</td>\n",
       "      <td>1.360672e+09</td>\n",
       "      <td>1.201102e+09</td>\n",
       "      <td>1.055228e+09</td>\n",
       "      <td>8.189460e+08</td>\n",
       "      <td>6.381506e+08</td>\n",
       "      <td>4.815364e+08</td>\n",
       "      <td>3.654443e+08</td>\n",
       "    </tr>\n",
       "    <tr>\n",
       "      <th>Asia</th>\n",
       "      <td>4.721383e+09</td>\n",
       "      <td>4.663087e+09</td>\n",
       "      <td>4.458250e+09</td>\n",
       "      <td>4.220041e+09</td>\n",
       "      <td>3.735090e+09</td>\n",
       "      <td>3.210564e+09</td>\n",
       "      <td>2.635334e+09</td>\n",
       "      <td>2.144906e+09</td>\n",
       "    </tr>\n",
       "    <tr>\n",
       "      <th>Europe</th>\n",
       "      <td>7.431475e+08</td>\n",
       "      <td>7.457922e+08</td>\n",
       "      <td>7.415356e+08</td>\n",
       "      <td>7.356139e+08</td>\n",
       "      <td>7.260934e+08</td>\n",
       "      <td>7.203208e+08</td>\n",
       "      <td>6.925272e+08</td>\n",
       "      <td>6.559240e+08</td>\n",
       "    </tr>\n",
       "    <tr>\n",
       "      <th>North America</th>\n",
       "      <td>6.002961e+08</td>\n",
       "      <td>5.942366e+08</td>\n",
       "      <td>5.703838e+08</td>\n",
       "      <td>5.427207e+08</td>\n",
       "      <td>4.860696e+08</td>\n",
       "      <td>4.212664e+08</td>\n",
       "      <td>3.682934e+08</td>\n",
       "      <td>3.154346e+08</td>\n",
       "    </tr>\n",
       "    <tr>\n",
       "      <th>Oceania</th>\n",
       "      <td>4.503855e+07</td>\n",
       "      <td>4.393343e+07</td>\n",
       "      <td>4.040328e+07</td>\n",
       "      <td>3.710276e+07</td>\n",
       "      <td>3.122278e+07</td>\n",
       "      <td>2.674382e+07</td>\n",
       "      <td>2.292024e+07</td>\n",
       "      <td>1.948027e+07</td>\n",
       "    </tr>\n",
       "    <tr>\n",
       "      <th>South America</th>\n",
       "      <td>4.368166e+08</td>\n",
       "      <td>4.315300e+08</td>\n",
       "      <td>4.131344e+08</td>\n",
       "      <td>3.930782e+08</td>\n",
       "      <td>3.496343e+08</td>\n",
       "      <td>2.971464e+08</td>\n",
       "      <td>2.417890e+08</td>\n",
       "      <td>1.929472e+08</td>\n",
       "    </tr>\n",
       "    <tr>\n",
       "      <th>World</th>\n",
       "      <td>7.973413e+09</td>\n",
       "      <td>7.839251e+09</td>\n",
       "      <td>7.424810e+09</td>\n",
       "      <td>6.983785e+09</td>\n",
       "      <td>6.147056e+09</td>\n",
       "      <td>5.314192e+09</td>\n",
       "      <td>4.442400e+09</td>\n",
       "      <td>3.694137e+09</td>\n",
       "    </tr>\n",
       "  </tbody>\n",
       "</table>\n",
       "</div>"
      ],
      "text/plain": [
       "               2022 Population  2020 Population  2015 Population  \\\n",
       "Continent                                                          \n",
       "Africa            1.426731e+09     1.360672e+09     1.201102e+09   \n",
       "Asia              4.721383e+09     4.663087e+09     4.458250e+09   \n",
       "Europe            7.431475e+08     7.457922e+08     7.415356e+08   \n",
       "North America     6.002961e+08     5.942366e+08     5.703838e+08   \n",
       "Oceania           4.503855e+07     4.393343e+07     4.040328e+07   \n",
       "South America     4.368166e+08     4.315300e+08     4.131344e+08   \n",
       "World             7.973413e+09     7.839251e+09     7.424810e+09   \n",
       "\n",
       "               2010 Population  2000 Population  1990 Population  \\\n",
       "Continent                                                          \n",
       "Africa            1.055228e+09     8.189460e+08     6.381506e+08   \n",
       "Asia              4.220041e+09     3.735090e+09     3.210564e+09   \n",
       "Europe            7.356139e+08     7.260934e+08     7.203208e+08   \n",
       "North America     5.427207e+08     4.860696e+08     4.212664e+08   \n",
       "Oceania           3.710276e+07     3.122278e+07     2.674382e+07   \n",
       "South America     3.930782e+08     3.496343e+08     2.971464e+08   \n",
       "World             6.983785e+09     6.147056e+09     5.314192e+09   \n",
       "\n",
       "               1980 Population  1970 Population  \n",
       "Continent                                        \n",
       "Africa            4.815364e+08     3.654443e+08  \n",
       "Asia              2.635334e+09     2.144906e+09  \n",
       "Europe            6.925272e+08     6.559240e+08  \n",
       "North America     3.682934e+08     3.154346e+08  \n",
       "Oceania           2.292024e+07     1.948027e+07  \n",
       "South America     2.417890e+08     1.929472e+08  \n",
       "World             4.442400e+09     3.694137e+09  "
      ]
     },
     "execution_count": 27,
     "metadata": {},
     "output_type": "execute_result"
    }
   ],
   "source": [
    "wp_2=wp_1.drop(columns=[\"Area (km²)\", \"World Population Percentage\"])\n",
    "wp_2"
   ]
  },
  {
   "cell_type": "code",
   "execution_count": 28,
   "id": "d498d700",
   "metadata": {},
   "outputs": [],
   "source": [
    "wp_2=wp_2.iloc[:, ::-1]"
   ]
  },
  {
   "cell_type": "code",
   "execution_count": 29,
   "id": "49d98936",
   "metadata": {
    "scrolled": true
   },
   "outputs": [
    {
     "data": {
      "text/html": [
       "<div>\n",
       "<style scoped>\n",
       "    .dataframe tbody tr th:only-of-type {\n",
       "        vertical-align: middle;\n",
       "    }\n",
       "\n",
       "    .dataframe tbody tr th {\n",
       "        vertical-align: top;\n",
       "    }\n",
       "\n",
       "    .dataframe thead th {\n",
       "        text-align: right;\n",
       "    }\n",
       "</style>\n",
       "<table border=\"1\" class=\"dataframe\">\n",
       "  <thead>\n",
       "    <tr style=\"text-align: right;\">\n",
       "      <th></th>\n",
       "      <th>1970 Population</th>\n",
       "      <th>1980 Population</th>\n",
       "      <th>1990 Population</th>\n",
       "      <th>2000 Population</th>\n",
       "      <th>2010 Population</th>\n",
       "      <th>2015 Population</th>\n",
       "      <th>2020 Population</th>\n",
       "      <th>2022 Population</th>\n",
       "    </tr>\n",
       "    <tr>\n",
       "      <th>Continent</th>\n",
       "      <th></th>\n",
       "      <th></th>\n",
       "      <th></th>\n",
       "      <th></th>\n",
       "      <th></th>\n",
       "      <th></th>\n",
       "      <th></th>\n",
       "      <th></th>\n",
       "    </tr>\n",
       "  </thead>\n",
       "  <tbody>\n",
       "    <tr>\n",
       "      <th>Africa</th>\n",
       "      <td>3.654443e+08</td>\n",
       "      <td>4.815364e+08</td>\n",
       "      <td>6.381506e+08</td>\n",
       "      <td>8.189460e+08</td>\n",
       "      <td>1.055228e+09</td>\n",
       "      <td>1.201102e+09</td>\n",
       "      <td>1.360672e+09</td>\n",
       "      <td>1.426731e+09</td>\n",
       "    </tr>\n",
       "    <tr>\n",
       "      <th>Asia</th>\n",
       "      <td>2.144906e+09</td>\n",
       "      <td>2.635334e+09</td>\n",
       "      <td>3.210564e+09</td>\n",
       "      <td>3.735090e+09</td>\n",
       "      <td>4.220041e+09</td>\n",
       "      <td>4.458250e+09</td>\n",
       "      <td>4.663087e+09</td>\n",
       "      <td>4.721383e+09</td>\n",
       "    </tr>\n",
       "    <tr>\n",
       "      <th>Europe</th>\n",
       "      <td>6.559240e+08</td>\n",
       "      <td>6.925272e+08</td>\n",
       "      <td>7.203208e+08</td>\n",
       "      <td>7.260934e+08</td>\n",
       "      <td>7.356139e+08</td>\n",
       "      <td>7.415356e+08</td>\n",
       "      <td>7.457922e+08</td>\n",
       "      <td>7.431475e+08</td>\n",
       "    </tr>\n",
       "    <tr>\n",
       "      <th>North America</th>\n",
       "      <td>3.154346e+08</td>\n",
       "      <td>3.682934e+08</td>\n",
       "      <td>4.212664e+08</td>\n",
       "      <td>4.860696e+08</td>\n",
       "      <td>5.427207e+08</td>\n",
       "      <td>5.703838e+08</td>\n",
       "      <td>5.942366e+08</td>\n",
       "      <td>6.002961e+08</td>\n",
       "    </tr>\n",
       "    <tr>\n",
       "      <th>Oceania</th>\n",
       "      <td>1.948027e+07</td>\n",
       "      <td>2.292024e+07</td>\n",
       "      <td>2.674382e+07</td>\n",
       "      <td>3.122278e+07</td>\n",
       "      <td>3.710276e+07</td>\n",
       "      <td>4.040328e+07</td>\n",
       "      <td>4.393343e+07</td>\n",
       "      <td>4.503855e+07</td>\n",
       "    </tr>\n",
       "    <tr>\n",
       "      <th>South America</th>\n",
       "      <td>1.929472e+08</td>\n",
       "      <td>2.417890e+08</td>\n",
       "      <td>2.971464e+08</td>\n",
       "      <td>3.496343e+08</td>\n",
       "      <td>3.930782e+08</td>\n",
       "      <td>4.131344e+08</td>\n",
       "      <td>4.315300e+08</td>\n",
       "      <td>4.368166e+08</td>\n",
       "    </tr>\n",
       "    <tr>\n",
       "      <th>World</th>\n",
       "      <td>3.694137e+09</td>\n",
       "      <td>4.442400e+09</td>\n",
       "      <td>5.314192e+09</td>\n",
       "      <td>6.147056e+09</td>\n",
       "      <td>6.983785e+09</td>\n",
       "      <td>7.424810e+09</td>\n",
       "      <td>7.839251e+09</td>\n",
       "      <td>7.973413e+09</td>\n",
       "    </tr>\n",
       "  </tbody>\n",
       "</table>\n",
       "</div>"
      ],
      "text/plain": [
       "               1970 Population  1980 Population  1990 Population  \\\n",
       "Continent                                                          \n",
       "Africa            3.654443e+08     4.815364e+08     6.381506e+08   \n",
       "Asia              2.144906e+09     2.635334e+09     3.210564e+09   \n",
       "Europe            6.559240e+08     6.925272e+08     7.203208e+08   \n",
       "North America     3.154346e+08     3.682934e+08     4.212664e+08   \n",
       "Oceania           1.948027e+07     2.292024e+07     2.674382e+07   \n",
       "South America     1.929472e+08     2.417890e+08     2.971464e+08   \n",
       "World             3.694137e+09     4.442400e+09     5.314192e+09   \n",
       "\n",
       "               2000 Population  2010 Population  2015 Population  \\\n",
       "Continent                                                          \n",
       "Africa            8.189460e+08     1.055228e+09     1.201102e+09   \n",
       "Asia              3.735090e+09     4.220041e+09     4.458250e+09   \n",
       "Europe            7.260934e+08     7.356139e+08     7.415356e+08   \n",
       "North America     4.860696e+08     5.427207e+08     5.703838e+08   \n",
       "Oceania           3.122278e+07     3.710276e+07     4.040328e+07   \n",
       "South America     3.496343e+08     3.930782e+08     4.131344e+08   \n",
       "World             6.147056e+09     6.983785e+09     7.424810e+09   \n",
       "\n",
       "               2020 Population  2022 Population  \n",
       "Continent                                        \n",
       "Africa            1.360672e+09     1.426731e+09  \n",
       "Asia              4.663087e+09     4.721383e+09  \n",
       "Europe            7.457922e+08     7.431475e+08  \n",
       "North America     5.942366e+08     6.002961e+08  \n",
       "Oceania           4.393343e+07     4.503855e+07  \n",
       "South America     4.315300e+08     4.368166e+08  \n",
       "World             7.839251e+09     7.973413e+09  "
      ]
     },
     "execution_count": 29,
     "metadata": {},
     "output_type": "execute_result"
    }
   ],
   "source": [
    "wp_2"
   ]
  },
  {
   "cell_type": "code",
   "execution_count": 73,
   "id": "11dabced",
   "metadata": {},
   "outputs": [
    {
     "data": {
      "application/vnd.plotly.v1+json": {
       "config": {
        "plotlyServerURL": "https://plot.ly"
       },
       "data": [
        {
         "hovertemplate": "variable=wide_variable_0<br>x=%{x}<br>value=%{y}<extra></extra>",
         "legendgroup": "wide_variable_0",
         "line": {
          "color": "#636efa",
          "dash": "solid"
         },
         "marker": {
          "symbol": "circle"
         },
         "mode": "lines",
         "name": "Africa",
         "orientation": "v",
         "showlegend": true,
         "type": "scatter",
         "x": [
          "1970 Population",
          "1980 Population",
          "1990 Population",
          "2000 Population",
          "2010 Population",
          "2015 Population",
          "2020 Population",
          "2022 Population"
         ],
         "xaxis": "x",
         "y": [
          365444348,
          481536377,
          638150629,
          818946032,
          1055228072,
          1201102442,
          1360671810,
          1426730932
         ],
         "yaxis": "y"
        },
        {
         "mode": "lines",
         "name": "Asia",
         "type": "scatter",
         "x": [
          "1970 Population",
          "1980 Population",
          "1990 Population",
          "2000 Population",
          "2010 Population",
          "2015 Population",
          "2020 Population",
          "2022 Population"
         ],
         "y": [
          2144906290,
          2635334228,
          3210563577,
          3735089604,
          4220041327,
          4458250182,
          4663086535,
          4721383274
         ]
        },
        {
         "mode": "lines",
         "name": "Europe",
         "type": "scatter",
         "x": [
          "1970 Population",
          "1980 Population",
          "1990 Population",
          "2000 Population",
          "2010 Population",
          "2015 Population",
          "2020 Population",
          "2022 Population"
         ],
         "y": [
          655923991,
          692527159,
          720320797,
          726093423,
          735613934,
          741535608,
          745792196,
          743147538
         ]
        },
        {
         "mode": "lines",
         "name": "North America",
         "type": "scatter",
         "x": [
          "1970 Population",
          "1980 Population",
          "1990 Population",
          "2000 Population",
          "2010 Population",
          "2015 Population",
          "2020 Population",
          "2022 Population"
         ],
         "y": [
          315434606,
          368293361,
          421266425,
          486069584,
          542720651,
          570383850,
          594236593,
          600296136
         ]
        },
        {
         "mode": "lines",
         "name": "Oceania",
         "type": "scatter",
         "x": [
          "1970 Population",
          "1980 Population",
          "1990 Population",
          "2000 Population",
          "2010 Population",
          "2015 Population",
          "2020 Population",
          "2022 Population"
         ],
         "y": [
          19480270,
          22920240,
          26743822,
          31222778,
          37102764,
          40403283,
          43933426,
          45038554
         ]
        },
        {
         "mode": "lines",
         "name": "South America",
         "type": "scatter",
         "x": [
          "1970 Population",
          "1980 Population",
          "1990 Population",
          "2000 Population",
          "2010 Population",
          "2015 Population",
          "2020 Population",
          "2022 Population"
         ],
         "y": [
          192947156,
          241789006,
          297146415,
          349634282,
          393078250,
          413134396,
          431530043,
          436816608
         ]
        },
        {
         "mode": "lines",
         "name": "World",
         "type": "scatter",
         "x": [
          "1970 Population",
          "1980 Population",
          "1990 Population",
          "2000 Population",
          "2010 Population",
          "2015 Population",
          "2020 Population",
          "2022 Population"
         ],
         "y": [
          3694136661,
          4442400371,
          5314191665,
          6147055703,
          6983784998,
          7424809761,
          7839250603,
          7973413042
         ]
        }
       ],
       "layout": {
        "height": 500,
        "legend": {
         "title": {
          "text": ""
         },
         "tracegroupgap": 0
        },
        "template": {
         "data": {
          "bar": [
           {
            "error_x": {
             "color": "#f2f5fa"
            },
            "error_y": {
             "color": "#f2f5fa"
            },
            "marker": {
             "line": {
              "color": "rgb(17,17,17)",
              "width": 0.5
             },
             "pattern": {
              "fillmode": "overlay",
              "size": 10,
              "solidity": 0.2
             }
            },
            "type": "bar"
           }
          ],
          "barpolar": [
           {
            "marker": {
             "line": {
              "color": "rgb(17,17,17)",
              "width": 0.5
             },
             "pattern": {
              "fillmode": "overlay",
              "size": 10,
              "solidity": 0.2
             }
            },
            "type": "barpolar"
           }
          ],
          "carpet": [
           {
            "aaxis": {
             "endlinecolor": "#A2B1C6",
             "gridcolor": "#506784",
             "linecolor": "#506784",
             "minorgridcolor": "#506784",
             "startlinecolor": "#A2B1C6"
            },
            "baxis": {
             "endlinecolor": "#A2B1C6",
             "gridcolor": "#506784",
             "linecolor": "#506784",
             "minorgridcolor": "#506784",
             "startlinecolor": "#A2B1C6"
            },
            "type": "carpet"
           }
          ],
          "choropleth": [
           {
            "colorbar": {
             "outlinewidth": 0,
             "ticks": ""
            },
            "type": "choropleth"
           }
          ],
          "contour": [
           {
            "colorbar": {
             "outlinewidth": 0,
             "ticks": ""
            },
            "colorscale": [
             [
              0,
              "#0d0887"
             ],
             [
              0.1111111111111111,
              "#46039f"
             ],
             [
              0.2222222222222222,
              "#7201a8"
             ],
             [
              0.3333333333333333,
              "#9c179e"
             ],
             [
              0.4444444444444444,
              "#bd3786"
             ],
             [
              0.5555555555555556,
              "#d8576b"
             ],
             [
              0.6666666666666666,
              "#ed7953"
             ],
             [
              0.7777777777777778,
              "#fb9f3a"
             ],
             [
              0.8888888888888888,
              "#fdca26"
             ],
             [
              1,
              "#f0f921"
             ]
            ],
            "type": "contour"
           }
          ],
          "contourcarpet": [
           {
            "colorbar": {
             "outlinewidth": 0,
             "ticks": ""
            },
            "type": "contourcarpet"
           }
          ],
          "heatmap": [
           {
            "colorbar": {
             "outlinewidth": 0,
             "ticks": ""
            },
            "colorscale": [
             [
              0,
              "#0d0887"
             ],
             [
              0.1111111111111111,
              "#46039f"
             ],
             [
              0.2222222222222222,
              "#7201a8"
             ],
             [
              0.3333333333333333,
              "#9c179e"
             ],
             [
              0.4444444444444444,
              "#bd3786"
             ],
             [
              0.5555555555555556,
              "#d8576b"
             ],
             [
              0.6666666666666666,
              "#ed7953"
             ],
             [
              0.7777777777777778,
              "#fb9f3a"
             ],
             [
              0.8888888888888888,
              "#fdca26"
             ],
             [
              1,
              "#f0f921"
             ]
            ],
            "type": "heatmap"
           }
          ],
          "heatmapgl": [
           {
            "colorbar": {
             "outlinewidth": 0,
             "ticks": ""
            },
            "colorscale": [
             [
              0,
              "#0d0887"
             ],
             [
              0.1111111111111111,
              "#46039f"
             ],
             [
              0.2222222222222222,
              "#7201a8"
             ],
             [
              0.3333333333333333,
              "#9c179e"
             ],
             [
              0.4444444444444444,
              "#bd3786"
             ],
             [
              0.5555555555555556,
              "#d8576b"
             ],
             [
              0.6666666666666666,
              "#ed7953"
             ],
             [
              0.7777777777777778,
              "#fb9f3a"
             ],
             [
              0.8888888888888888,
              "#fdca26"
             ],
             [
              1,
              "#f0f921"
             ]
            ],
            "type": "heatmapgl"
           }
          ],
          "histogram": [
           {
            "marker": {
             "pattern": {
              "fillmode": "overlay",
              "size": 10,
              "solidity": 0.2
             }
            },
            "type": "histogram"
           }
          ],
          "histogram2d": [
           {
            "colorbar": {
             "outlinewidth": 0,
             "ticks": ""
            },
            "colorscale": [
             [
              0,
              "#0d0887"
             ],
             [
              0.1111111111111111,
              "#46039f"
             ],
             [
              0.2222222222222222,
              "#7201a8"
             ],
             [
              0.3333333333333333,
              "#9c179e"
             ],
             [
              0.4444444444444444,
              "#bd3786"
             ],
             [
              0.5555555555555556,
              "#d8576b"
             ],
             [
              0.6666666666666666,
              "#ed7953"
             ],
             [
              0.7777777777777778,
              "#fb9f3a"
             ],
             [
              0.8888888888888888,
              "#fdca26"
             ],
             [
              1,
              "#f0f921"
             ]
            ],
            "type": "histogram2d"
           }
          ],
          "histogram2dcontour": [
           {
            "colorbar": {
             "outlinewidth": 0,
             "ticks": ""
            },
            "colorscale": [
             [
              0,
              "#0d0887"
             ],
             [
              0.1111111111111111,
              "#46039f"
             ],
             [
              0.2222222222222222,
              "#7201a8"
             ],
             [
              0.3333333333333333,
              "#9c179e"
             ],
             [
              0.4444444444444444,
              "#bd3786"
             ],
             [
              0.5555555555555556,
              "#d8576b"
             ],
             [
              0.6666666666666666,
              "#ed7953"
             ],
             [
              0.7777777777777778,
              "#fb9f3a"
             ],
             [
              0.8888888888888888,
              "#fdca26"
             ],
             [
              1,
              "#f0f921"
             ]
            ],
            "type": "histogram2dcontour"
           }
          ],
          "mesh3d": [
           {
            "colorbar": {
             "outlinewidth": 0,
             "ticks": ""
            },
            "type": "mesh3d"
           }
          ],
          "parcoords": [
           {
            "line": {
             "colorbar": {
              "outlinewidth": 0,
              "ticks": ""
             }
            },
            "type": "parcoords"
           }
          ],
          "pie": [
           {
            "automargin": true,
            "type": "pie"
           }
          ],
          "scatter": [
           {
            "marker": {
             "line": {
              "color": "#283442"
             }
            },
            "type": "scatter"
           }
          ],
          "scatter3d": [
           {
            "line": {
             "colorbar": {
              "outlinewidth": 0,
              "ticks": ""
             }
            },
            "marker": {
             "colorbar": {
              "outlinewidth": 0,
              "ticks": ""
             }
            },
            "type": "scatter3d"
           }
          ],
          "scattercarpet": [
           {
            "marker": {
             "colorbar": {
              "outlinewidth": 0,
              "ticks": ""
             }
            },
            "type": "scattercarpet"
           }
          ],
          "scattergeo": [
           {
            "marker": {
             "colorbar": {
              "outlinewidth": 0,
              "ticks": ""
             }
            },
            "type": "scattergeo"
           }
          ],
          "scattergl": [
           {
            "marker": {
             "line": {
              "color": "#283442"
             }
            },
            "type": "scattergl"
           }
          ],
          "scattermapbox": [
           {
            "marker": {
             "colorbar": {
              "outlinewidth": 0,
              "ticks": ""
             }
            },
            "type": "scattermapbox"
           }
          ],
          "scatterpolar": [
           {
            "marker": {
             "colorbar": {
              "outlinewidth": 0,
              "ticks": ""
             }
            },
            "type": "scatterpolar"
           }
          ],
          "scatterpolargl": [
           {
            "marker": {
             "colorbar": {
              "outlinewidth": 0,
              "ticks": ""
             }
            },
            "type": "scatterpolargl"
           }
          ],
          "scatterternary": [
           {
            "marker": {
             "colorbar": {
              "outlinewidth": 0,
              "ticks": ""
             }
            },
            "type": "scatterternary"
           }
          ],
          "surface": [
           {
            "colorbar": {
             "outlinewidth": 0,
             "ticks": ""
            },
            "colorscale": [
             [
              0,
              "#0d0887"
             ],
             [
              0.1111111111111111,
              "#46039f"
             ],
             [
              0.2222222222222222,
              "#7201a8"
             ],
             [
              0.3333333333333333,
              "#9c179e"
             ],
             [
              0.4444444444444444,
              "#bd3786"
             ],
             [
              0.5555555555555556,
              "#d8576b"
             ],
             [
              0.6666666666666666,
              "#ed7953"
             ],
             [
              0.7777777777777778,
              "#fb9f3a"
             ],
             [
              0.8888888888888888,
              "#fdca26"
             ],
             [
              1,
              "#f0f921"
             ]
            ],
            "type": "surface"
           }
          ],
          "table": [
           {
            "cells": {
             "fill": {
              "color": "#506784"
             },
             "line": {
              "color": "rgb(17,17,17)"
             }
            },
            "header": {
             "fill": {
              "color": "#2a3f5f"
             },
             "line": {
              "color": "rgb(17,17,17)"
             }
            },
            "type": "table"
           }
          ]
         },
         "layout": {
          "annotationdefaults": {
           "arrowcolor": "#f2f5fa",
           "arrowhead": 0,
           "arrowwidth": 1
          },
          "autotypenumbers": "strict",
          "coloraxis": {
           "colorbar": {
            "outlinewidth": 0,
            "ticks": ""
           }
          },
          "colorscale": {
           "diverging": [
            [
             0,
             "#8e0152"
            ],
            [
             0.1,
             "#c51b7d"
            ],
            [
             0.2,
             "#de77ae"
            ],
            [
             0.3,
             "#f1b6da"
            ],
            [
             0.4,
             "#fde0ef"
            ],
            [
             0.5,
             "#f7f7f7"
            ],
            [
             0.6,
             "#e6f5d0"
            ],
            [
             0.7,
             "#b8e186"
            ],
            [
             0.8,
             "#7fbc41"
            ],
            [
             0.9,
             "#4d9221"
            ],
            [
             1,
             "#276419"
            ]
           ],
           "sequential": [
            [
             0,
             "#0d0887"
            ],
            [
             0.1111111111111111,
             "#46039f"
            ],
            [
             0.2222222222222222,
             "#7201a8"
            ],
            [
             0.3333333333333333,
             "#9c179e"
            ],
            [
             0.4444444444444444,
             "#bd3786"
            ],
            [
             0.5555555555555556,
             "#d8576b"
            ],
            [
             0.6666666666666666,
             "#ed7953"
            ],
            [
             0.7777777777777778,
             "#fb9f3a"
            ],
            [
             0.8888888888888888,
             "#fdca26"
            ],
            [
             1,
             "#f0f921"
            ]
           ],
           "sequentialminus": [
            [
             0,
             "#0d0887"
            ],
            [
             0.1111111111111111,
             "#46039f"
            ],
            [
             0.2222222222222222,
             "#7201a8"
            ],
            [
             0.3333333333333333,
             "#9c179e"
            ],
            [
             0.4444444444444444,
             "#bd3786"
            ],
            [
             0.5555555555555556,
             "#d8576b"
            ],
            [
             0.6666666666666666,
             "#ed7953"
            ],
            [
             0.7777777777777778,
             "#fb9f3a"
            ],
            [
             0.8888888888888888,
             "#fdca26"
            ],
            [
             1,
             "#f0f921"
            ]
           ]
          },
          "colorway": [
           "#636efa",
           "#EF553B",
           "#00cc96",
           "#ab63fa",
           "#FFA15A",
           "#19d3f3",
           "#FF6692",
           "#B6E880",
           "#FF97FF",
           "#FECB52"
          ],
          "font": {
           "color": "#f2f5fa"
          },
          "geo": {
           "bgcolor": "rgb(17,17,17)",
           "lakecolor": "rgb(17,17,17)",
           "landcolor": "rgb(17,17,17)",
           "showlakes": true,
           "showland": true,
           "subunitcolor": "#506784"
          },
          "hoverlabel": {
           "align": "left"
          },
          "hovermode": "closest",
          "mapbox": {
           "style": "dark"
          },
          "paper_bgcolor": "rgb(17,17,17)",
          "plot_bgcolor": "rgb(17,17,17)",
          "polar": {
           "angularaxis": {
            "gridcolor": "#506784",
            "linecolor": "#506784",
            "ticks": ""
           },
           "bgcolor": "rgb(17,17,17)",
           "radialaxis": {
            "gridcolor": "#506784",
            "linecolor": "#506784",
            "ticks": ""
           }
          },
          "scene": {
           "xaxis": {
            "backgroundcolor": "rgb(17,17,17)",
            "gridcolor": "#506784",
            "gridwidth": 2,
            "linecolor": "#506784",
            "showbackground": true,
            "ticks": "",
            "zerolinecolor": "#C8D4E3"
           },
           "yaxis": {
            "backgroundcolor": "rgb(17,17,17)",
            "gridcolor": "#506784",
            "gridwidth": 2,
            "linecolor": "#506784",
            "showbackground": true,
            "ticks": "",
            "zerolinecolor": "#C8D4E3"
           },
           "zaxis": {
            "backgroundcolor": "rgb(17,17,17)",
            "gridcolor": "#506784",
            "gridwidth": 2,
            "linecolor": "#506784",
            "showbackground": true,
            "ticks": "",
            "zerolinecolor": "#C8D4E3"
           }
          },
          "shapedefaults": {
           "line": {
            "color": "#f2f5fa"
           }
          },
          "sliderdefaults": {
           "bgcolor": "#C8D4E3",
           "bordercolor": "rgb(17,17,17)",
           "borderwidth": 1,
           "tickwidth": 0
          },
          "ternary": {
           "aaxis": {
            "gridcolor": "#506784",
            "linecolor": "#506784",
            "ticks": ""
           },
           "baxis": {
            "gridcolor": "#506784",
            "linecolor": "#506784",
            "ticks": ""
           },
           "bgcolor": "rgb(17,17,17)",
           "caxis": {
            "gridcolor": "#506784",
            "linecolor": "#506784",
            "ticks": ""
           }
          },
          "title": {
           "x": 0.05
          },
          "updatemenudefaults": {
           "bgcolor": "#506784",
           "borderwidth": 0
          },
          "xaxis": {
           "automargin": true,
           "gridcolor": "#283442",
           "linecolor": "#506784",
           "ticks": "",
           "title": {
            "standoff": 15
           },
           "zerolinecolor": "#283442",
           "zerolinewidth": 2
          },
          "yaxis": {
           "automargin": true,
           "gridcolor": "#283442",
           "linecolor": "#506784",
           "ticks": "",
           "title": {
            "standoff": 15
           },
           "zerolinecolor": "#283442",
           "zerolinewidth": 2
          }
         }
        },
        "title": {
         "text": "World Population Changes By Continent"
        },
        "width": 850,
        "xaxis": {
         "anchor": "y",
         "domain": [
          0,
          1
         ],
         "title": {
          "text": ""
         }
        },
        "yaxis": {
         "anchor": "x",
         "domain": [
          0,
          1
         ],
         "title": {
          "text": ""
         }
        }
       }
      },
      "text/html": [
       "<div>                            <div id=\"de756291-7d2d-451f-a94f-ad5e875c1a63\" class=\"plotly-graph-div\" style=\"height:500px; width:850px;\"></div>            <script type=\"text/javascript\">                require([\"plotly\"], function(Plotly) {                    window.PLOTLYENV=window.PLOTLYENV || {};                                    if (document.getElementById(\"de756291-7d2d-451f-a94f-ad5e875c1a63\")) {                    Plotly.newPlot(                        \"de756291-7d2d-451f-a94f-ad5e875c1a63\",                        [{\"hovertemplate\":\"variable=wide_variable_0<br>x=%{x}<br>value=%{y}<extra></extra>\",\"legendgroup\":\"wide_variable_0\",\"line\":{\"color\":\"#636efa\",\"dash\":\"solid\"},\"marker\":{\"symbol\":\"circle\"},\"mode\":\"lines\",\"name\":\"Africa\",\"orientation\":\"v\",\"showlegend\":true,\"x\":[\"1970 Population\",\"1980 Population\",\"1990 Population\",\"2000 Population\",\"2010 Population\",\"2015 Population\",\"2020 Population\",\"2022 Population\"],\"xaxis\":\"x\",\"y\":[365444348.0,481536377.0,638150629.0,818946032.0,1055228072.0,1201102442.0,1360671810.0,1426730932.0],\"yaxis\":\"y\",\"type\":\"scatter\"},{\"mode\":\"lines\",\"name\":\"Asia\",\"x\":[\"1970 Population\",\"1980 Population\",\"1990 Population\",\"2000 Population\",\"2010 Population\",\"2015 Population\",\"2020 Population\",\"2022 Population\"],\"y\":[2144906290.0,2635334228.0,3210563577.0,3735089604.0,4220041327.0,4458250182.0,4663086535.0,4721383274.0],\"type\":\"scatter\"},{\"mode\":\"lines\",\"name\":\"Europe\",\"x\":[\"1970 Population\",\"1980 Population\",\"1990 Population\",\"2000 Population\",\"2010 Population\",\"2015 Population\",\"2020 Population\",\"2022 Population\"],\"y\":[655923991.0,692527159.0,720320797.0,726093423.0,735613934.0,741535608.0,745792196.0,743147538.0],\"type\":\"scatter\"},{\"mode\":\"lines\",\"name\":\"North America\",\"x\":[\"1970 Population\",\"1980 Population\",\"1990 Population\",\"2000 Population\",\"2010 Population\",\"2015 Population\",\"2020 Population\",\"2022 Population\"],\"y\":[315434606.0,368293361.0,421266425.0,486069584.0,542720651.0,570383850.0,594236593.0,600296136.0],\"type\":\"scatter\"},{\"mode\":\"lines\",\"name\":\"Oceania\",\"x\":[\"1970 Population\",\"1980 Population\",\"1990 Population\",\"2000 Population\",\"2010 Population\",\"2015 Population\",\"2020 Population\",\"2022 Population\"],\"y\":[19480270.0,22920240.0,26743822.0,31222778.0,37102764.0,40403283.0,43933426.0,45038554.0],\"type\":\"scatter\"},{\"mode\":\"lines\",\"name\":\"South America\",\"x\":[\"1970 Population\",\"1980 Population\",\"1990 Population\",\"2000 Population\",\"2010 Population\",\"2015 Population\",\"2020 Population\",\"2022 Population\"],\"y\":[192947156.0,241789006.0,297146415.0,349634282.0,393078250.0,413134396.0,431530043.0,436816608.0],\"type\":\"scatter\"},{\"mode\":\"lines\",\"name\":\"World\",\"x\":[\"1970 Population\",\"1980 Population\",\"1990 Population\",\"2000 Population\",\"2010 Population\",\"2015 Population\",\"2020 Population\",\"2022 Population\"],\"y\":[3694136661.0,4442400371.0,5314191665.0,6147055703.0,6983784998.0,7424809761.0,7839250603.0,7973413042.0],\"type\":\"scatter\"}],                        {\"template\":{\"data\":{\"barpolar\":[{\"marker\":{\"line\":{\"color\":\"rgb(17,17,17)\",\"width\":0.5},\"pattern\":{\"fillmode\":\"overlay\",\"size\":10,\"solidity\":0.2}},\"type\":\"barpolar\"}],\"bar\":[{\"error_x\":{\"color\":\"#f2f5fa\"},\"error_y\":{\"color\":\"#f2f5fa\"},\"marker\":{\"line\":{\"color\":\"rgb(17,17,17)\",\"width\":0.5},\"pattern\":{\"fillmode\":\"overlay\",\"size\":10,\"solidity\":0.2}},\"type\":\"bar\"}],\"carpet\":[{\"aaxis\":{\"endlinecolor\":\"#A2B1C6\",\"gridcolor\":\"#506784\",\"linecolor\":\"#506784\",\"minorgridcolor\":\"#506784\",\"startlinecolor\":\"#A2B1C6\"},\"baxis\":{\"endlinecolor\":\"#A2B1C6\",\"gridcolor\":\"#506784\",\"linecolor\":\"#506784\",\"minorgridcolor\":\"#506784\",\"startlinecolor\":\"#A2B1C6\"},\"type\":\"carpet\"}],\"choropleth\":[{\"colorbar\":{\"outlinewidth\":0,\"ticks\":\"\"},\"type\":\"choropleth\"}],\"contourcarpet\":[{\"colorbar\":{\"outlinewidth\":0,\"ticks\":\"\"},\"type\":\"contourcarpet\"}],\"contour\":[{\"colorbar\":{\"outlinewidth\":0,\"ticks\":\"\"},\"colorscale\":[[0.0,\"#0d0887\"],[0.1111111111111111,\"#46039f\"],[0.2222222222222222,\"#7201a8\"],[0.3333333333333333,\"#9c179e\"],[0.4444444444444444,\"#bd3786\"],[0.5555555555555556,\"#d8576b\"],[0.6666666666666666,\"#ed7953\"],[0.7777777777777778,\"#fb9f3a\"],[0.8888888888888888,\"#fdca26\"],[1.0,\"#f0f921\"]],\"type\":\"contour\"}],\"heatmapgl\":[{\"colorbar\":{\"outlinewidth\":0,\"ticks\":\"\"},\"colorscale\":[[0.0,\"#0d0887\"],[0.1111111111111111,\"#46039f\"],[0.2222222222222222,\"#7201a8\"],[0.3333333333333333,\"#9c179e\"],[0.4444444444444444,\"#bd3786\"],[0.5555555555555556,\"#d8576b\"],[0.6666666666666666,\"#ed7953\"],[0.7777777777777778,\"#fb9f3a\"],[0.8888888888888888,\"#fdca26\"],[1.0,\"#f0f921\"]],\"type\":\"heatmapgl\"}],\"heatmap\":[{\"colorbar\":{\"outlinewidth\":0,\"ticks\":\"\"},\"colorscale\":[[0.0,\"#0d0887\"],[0.1111111111111111,\"#46039f\"],[0.2222222222222222,\"#7201a8\"],[0.3333333333333333,\"#9c179e\"],[0.4444444444444444,\"#bd3786\"],[0.5555555555555556,\"#d8576b\"],[0.6666666666666666,\"#ed7953\"],[0.7777777777777778,\"#fb9f3a\"],[0.8888888888888888,\"#fdca26\"],[1.0,\"#f0f921\"]],\"type\":\"heatmap\"}],\"histogram2dcontour\":[{\"colorbar\":{\"outlinewidth\":0,\"ticks\":\"\"},\"colorscale\":[[0.0,\"#0d0887\"],[0.1111111111111111,\"#46039f\"],[0.2222222222222222,\"#7201a8\"],[0.3333333333333333,\"#9c179e\"],[0.4444444444444444,\"#bd3786\"],[0.5555555555555556,\"#d8576b\"],[0.6666666666666666,\"#ed7953\"],[0.7777777777777778,\"#fb9f3a\"],[0.8888888888888888,\"#fdca26\"],[1.0,\"#f0f921\"]],\"type\":\"histogram2dcontour\"}],\"histogram2d\":[{\"colorbar\":{\"outlinewidth\":0,\"ticks\":\"\"},\"colorscale\":[[0.0,\"#0d0887\"],[0.1111111111111111,\"#46039f\"],[0.2222222222222222,\"#7201a8\"],[0.3333333333333333,\"#9c179e\"],[0.4444444444444444,\"#bd3786\"],[0.5555555555555556,\"#d8576b\"],[0.6666666666666666,\"#ed7953\"],[0.7777777777777778,\"#fb9f3a\"],[0.8888888888888888,\"#fdca26\"],[1.0,\"#f0f921\"]],\"type\":\"histogram2d\"}],\"histogram\":[{\"marker\":{\"pattern\":{\"fillmode\":\"overlay\",\"size\":10,\"solidity\":0.2}},\"type\":\"histogram\"}],\"mesh3d\":[{\"colorbar\":{\"outlinewidth\":0,\"ticks\":\"\"},\"type\":\"mesh3d\"}],\"parcoords\":[{\"line\":{\"colorbar\":{\"outlinewidth\":0,\"ticks\":\"\"}},\"type\":\"parcoords\"}],\"pie\":[{\"automargin\":true,\"type\":\"pie\"}],\"scatter3d\":[{\"line\":{\"colorbar\":{\"outlinewidth\":0,\"ticks\":\"\"}},\"marker\":{\"colorbar\":{\"outlinewidth\":0,\"ticks\":\"\"}},\"type\":\"scatter3d\"}],\"scattercarpet\":[{\"marker\":{\"colorbar\":{\"outlinewidth\":0,\"ticks\":\"\"}},\"type\":\"scattercarpet\"}],\"scattergeo\":[{\"marker\":{\"colorbar\":{\"outlinewidth\":0,\"ticks\":\"\"}},\"type\":\"scattergeo\"}],\"scattergl\":[{\"marker\":{\"line\":{\"color\":\"#283442\"}},\"type\":\"scattergl\"}],\"scattermapbox\":[{\"marker\":{\"colorbar\":{\"outlinewidth\":0,\"ticks\":\"\"}},\"type\":\"scattermapbox\"}],\"scatterpolargl\":[{\"marker\":{\"colorbar\":{\"outlinewidth\":0,\"ticks\":\"\"}},\"type\":\"scatterpolargl\"}],\"scatterpolar\":[{\"marker\":{\"colorbar\":{\"outlinewidth\":0,\"ticks\":\"\"}},\"type\":\"scatterpolar\"}],\"scatter\":[{\"marker\":{\"line\":{\"color\":\"#283442\"}},\"type\":\"scatter\"}],\"scatterternary\":[{\"marker\":{\"colorbar\":{\"outlinewidth\":0,\"ticks\":\"\"}},\"type\":\"scatterternary\"}],\"surface\":[{\"colorbar\":{\"outlinewidth\":0,\"ticks\":\"\"},\"colorscale\":[[0.0,\"#0d0887\"],[0.1111111111111111,\"#46039f\"],[0.2222222222222222,\"#7201a8\"],[0.3333333333333333,\"#9c179e\"],[0.4444444444444444,\"#bd3786\"],[0.5555555555555556,\"#d8576b\"],[0.6666666666666666,\"#ed7953\"],[0.7777777777777778,\"#fb9f3a\"],[0.8888888888888888,\"#fdca26\"],[1.0,\"#f0f921\"]],\"type\":\"surface\"}],\"table\":[{\"cells\":{\"fill\":{\"color\":\"#506784\"},\"line\":{\"color\":\"rgb(17,17,17)\"}},\"header\":{\"fill\":{\"color\":\"#2a3f5f\"},\"line\":{\"color\":\"rgb(17,17,17)\"}},\"type\":\"table\"}]},\"layout\":{\"annotationdefaults\":{\"arrowcolor\":\"#f2f5fa\",\"arrowhead\":0,\"arrowwidth\":1},\"autotypenumbers\":\"strict\",\"coloraxis\":{\"colorbar\":{\"outlinewidth\":0,\"ticks\":\"\"}},\"colorscale\":{\"diverging\":[[0,\"#8e0152\"],[0.1,\"#c51b7d\"],[0.2,\"#de77ae\"],[0.3,\"#f1b6da\"],[0.4,\"#fde0ef\"],[0.5,\"#f7f7f7\"],[0.6,\"#e6f5d0\"],[0.7,\"#b8e186\"],[0.8,\"#7fbc41\"],[0.9,\"#4d9221\"],[1,\"#276419\"]],\"sequential\":[[0.0,\"#0d0887\"],[0.1111111111111111,\"#46039f\"],[0.2222222222222222,\"#7201a8\"],[0.3333333333333333,\"#9c179e\"],[0.4444444444444444,\"#bd3786\"],[0.5555555555555556,\"#d8576b\"],[0.6666666666666666,\"#ed7953\"],[0.7777777777777778,\"#fb9f3a\"],[0.8888888888888888,\"#fdca26\"],[1.0,\"#f0f921\"]],\"sequentialminus\":[[0.0,\"#0d0887\"],[0.1111111111111111,\"#46039f\"],[0.2222222222222222,\"#7201a8\"],[0.3333333333333333,\"#9c179e\"],[0.4444444444444444,\"#bd3786\"],[0.5555555555555556,\"#d8576b\"],[0.6666666666666666,\"#ed7953\"],[0.7777777777777778,\"#fb9f3a\"],[0.8888888888888888,\"#fdca26\"],[1.0,\"#f0f921\"]]},\"colorway\":[\"#636efa\",\"#EF553B\",\"#00cc96\",\"#ab63fa\",\"#FFA15A\",\"#19d3f3\",\"#FF6692\",\"#B6E880\",\"#FF97FF\",\"#FECB52\"],\"font\":{\"color\":\"#f2f5fa\"},\"geo\":{\"bgcolor\":\"rgb(17,17,17)\",\"lakecolor\":\"rgb(17,17,17)\",\"landcolor\":\"rgb(17,17,17)\",\"showlakes\":true,\"showland\":true,\"subunitcolor\":\"#506784\"},\"hoverlabel\":{\"align\":\"left\"},\"hovermode\":\"closest\",\"mapbox\":{\"style\":\"dark\"},\"paper_bgcolor\":\"rgb(17,17,17)\",\"plot_bgcolor\":\"rgb(17,17,17)\",\"polar\":{\"angularaxis\":{\"gridcolor\":\"#506784\",\"linecolor\":\"#506784\",\"ticks\":\"\"},\"bgcolor\":\"rgb(17,17,17)\",\"radialaxis\":{\"gridcolor\":\"#506784\",\"linecolor\":\"#506784\",\"ticks\":\"\"}},\"scene\":{\"xaxis\":{\"backgroundcolor\":\"rgb(17,17,17)\",\"gridcolor\":\"#506784\",\"gridwidth\":2,\"linecolor\":\"#506784\",\"showbackground\":true,\"ticks\":\"\",\"zerolinecolor\":\"#C8D4E3\"},\"yaxis\":{\"backgroundcolor\":\"rgb(17,17,17)\",\"gridcolor\":\"#506784\",\"gridwidth\":2,\"linecolor\":\"#506784\",\"showbackground\":true,\"ticks\":\"\",\"zerolinecolor\":\"#C8D4E3\"},\"zaxis\":{\"backgroundcolor\":\"rgb(17,17,17)\",\"gridcolor\":\"#506784\",\"gridwidth\":2,\"linecolor\":\"#506784\",\"showbackground\":true,\"ticks\":\"\",\"zerolinecolor\":\"#C8D4E3\"}},\"shapedefaults\":{\"line\":{\"color\":\"#f2f5fa\"}},\"sliderdefaults\":{\"bgcolor\":\"#C8D4E3\",\"bordercolor\":\"rgb(17,17,17)\",\"borderwidth\":1,\"tickwidth\":0},\"ternary\":{\"aaxis\":{\"gridcolor\":\"#506784\",\"linecolor\":\"#506784\",\"ticks\":\"\"},\"baxis\":{\"gridcolor\":\"#506784\",\"linecolor\":\"#506784\",\"ticks\":\"\"},\"bgcolor\":\"rgb(17,17,17)\",\"caxis\":{\"gridcolor\":\"#506784\",\"linecolor\":\"#506784\",\"ticks\":\"\"}},\"title\":{\"x\":0.05},\"updatemenudefaults\":{\"bgcolor\":\"#506784\",\"borderwidth\":0},\"xaxis\":{\"automargin\":true,\"gridcolor\":\"#283442\",\"linecolor\":\"#506784\",\"ticks\":\"\",\"title\":{\"standoff\":15},\"zerolinecolor\":\"#283442\",\"zerolinewidth\":2},\"yaxis\":{\"automargin\":true,\"gridcolor\":\"#283442\",\"linecolor\":\"#506784\",\"ticks\":\"\",\"title\":{\"standoff\":15},\"zerolinecolor\":\"#283442\",\"zerolinewidth\":2}}},\"xaxis\":{\"anchor\":\"y\",\"domain\":[0.0,1.0],\"title\":{\"text\":\"\"}},\"yaxis\":{\"anchor\":\"x\",\"domain\":[0.0,1.0],\"title\":{\"text\":\"\"}},\"legend\":{\"title\":{\"text\":\"\"},\"tracegroupgap\":0},\"title\":{\"text\":\"World Population Changes By Continent\"},\"width\":850,\"height\":500},                        {\"responsive\": true}                    ).then(function(){\n",
       "                            \n",
       "var gd = document.getElementById('de756291-7d2d-451f-a94f-ad5e875c1a63');\n",
       "var x = new MutationObserver(function (mutations, observer) {{\n",
       "        var display = window.getComputedStyle(gd).display;\n",
       "        if (!display || display === 'none') {{\n",
       "            console.log([gd, 'removed!']);\n",
       "            Plotly.purge(gd);\n",
       "            observer.disconnect();\n",
       "        }}\n",
       "}});\n",
       "\n",
       "// Listen for the removal of the full notebook cells\n",
       "var notebookContainer = gd.closest('#notebook-container');\n",
       "if (notebookContainer) {{\n",
       "    x.observe(notebookContainer, {childList: true});\n",
       "}}\n",
       "\n",
       "// Listen for the clearing of the current output cell\n",
       "var outputEl = gd.closest('.output');\n",
       "if (outputEl) {{\n",
       "    x.observe(outputEl, {childList: true});\n",
       "}}\n",
       "\n",
       "                        })                };                });            </script>        </div>"
      ]
     },
     "metadata": {},
     "output_type": "display_data"
    }
   ],
   "source": [
    "fig = px.line(x=wp_2.columns,y=[wp_2.loc[\"Africa\"]],title='World population changes by continent ',template=\"plotly_dark\")\n",
    "fig.data[0].name=\"Africa\"\n",
    "\n",
    "fig.add_scatter(x=wp_2.columns, y=wp_2.loc[\"Asia\"], mode='lines',name = \"Asia\")\n",
    "fig.add_scatter(x=wp_2.columns, y=wp_2.loc[\"Europe\"], mode='lines',name = \"Europe\")\n",
    "fig.add_scatter(x=wp_2.columns, y=wp_2.loc[\"North America\"], mode='lines',name = \"North America\")\n",
    "fig.add_scatter(x=wp_2.columns, y=wp_2.loc[\"Oceania\"], mode='lines',name = \"Oceania\")\n",
    "fig.add_scatter(x=wp_2.columns, y=wp_2.loc[\"South America\"], mode='lines',name = \"South America\")\n",
    "fig.add_scatter(x=wp_2.columns, y=wp_2.loc[\"World\"], mode='lines',name = \"World\")\n",
    "\n",
    "\n",
    "\n",
    "fig.update_layout(\n",
    "    width=850, \n",
    "    height=500,\n",
    "    title=\"World Population Changes By Continent\",\n",
    "    xaxis_title=\"\",\n",
    "    yaxis_title=\"\",\n",
    "    legend_title=\"\",\n",
    "    )\n",
    "\n",
    "fig.show()"
   ]
  },
  {
   "cell_type": "code",
   "execution_count": 74,
   "id": "7f8e8a0d",
   "metadata": {
    "collapsed": true
   },
   "outputs": [
    {
     "data": {
      "text/html": [
       "<div>\n",
       "<style scoped>\n",
       "    .dataframe tbody tr th:only-of-type {\n",
       "        vertical-align: middle;\n",
       "    }\n",
       "\n",
       "    .dataframe tbody tr th {\n",
       "        vertical-align: top;\n",
       "    }\n",
       "\n",
       "    .dataframe thead th {\n",
       "        text-align: right;\n",
       "    }\n",
       "</style>\n",
       "<table border=\"1\" class=\"dataframe\">\n",
       "  <thead>\n",
       "    <tr style=\"text-align: right;\">\n",
       "      <th></th>\n",
       "      <th>Rank</th>\n",
       "      <th>CCA3</th>\n",
       "      <th>Country/Territory</th>\n",
       "      <th>Capital</th>\n",
       "      <th>Continent</th>\n",
       "      <th>2022 Population</th>\n",
       "      <th>2020 Population</th>\n",
       "      <th>2015 Population</th>\n",
       "      <th>2010 Population</th>\n",
       "      <th>2000 Population</th>\n",
       "      <th>1990 Population</th>\n",
       "      <th>1980 Population</th>\n",
       "      <th>1970 Population</th>\n",
       "      <th>Area (km²)</th>\n",
       "      <th>Density (per km²)</th>\n",
       "      <th>Growth Rate</th>\n",
       "      <th>World Population Percentage</th>\n",
       "    </tr>\n",
       "  </thead>\n",
       "  <tbody>\n",
       "    <tr>\n",
       "      <th>0</th>\n",
       "      <td>36</td>\n",
       "      <td>AFG</td>\n",
       "      <td>Afghanistan</td>\n",
       "      <td>Kabul</td>\n",
       "      <td>Asia</td>\n",
       "      <td>41128771</td>\n",
       "      <td>38972230</td>\n",
       "      <td>33753499</td>\n",
       "      <td>28189672</td>\n",
       "      <td>19542982</td>\n",
       "      <td>10694796</td>\n",
       "      <td>12486631</td>\n",
       "      <td>10752971</td>\n",
       "      <td>652230</td>\n",
       "      <td>63.0587</td>\n",
       "      <td>1.0257</td>\n",
       "      <td>0.52</td>\n",
       "    </tr>\n",
       "    <tr>\n",
       "      <th>1</th>\n",
       "      <td>138</td>\n",
       "      <td>ALB</td>\n",
       "      <td>Albania</td>\n",
       "      <td>Tirana</td>\n",
       "      <td>Europe</td>\n",
       "      <td>2842321</td>\n",
       "      <td>2866849</td>\n",
       "      <td>2882481</td>\n",
       "      <td>2913399</td>\n",
       "      <td>3182021</td>\n",
       "      <td>3295066</td>\n",
       "      <td>2941651</td>\n",
       "      <td>2324731</td>\n",
       "      <td>28748</td>\n",
       "      <td>98.8702</td>\n",
       "      <td>0.9957</td>\n",
       "      <td>0.04</td>\n",
       "    </tr>\n",
       "    <tr>\n",
       "      <th>2</th>\n",
       "      <td>34</td>\n",
       "      <td>DZA</td>\n",
       "      <td>Algeria</td>\n",
       "      <td>Algiers</td>\n",
       "      <td>Africa</td>\n",
       "      <td>44903225</td>\n",
       "      <td>43451666</td>\n",
       "      <td>39543154</td>\n",
       "      <td>35856344</td>\n",
       "      <td>30774621</td>\n",
       "      <td>25518074</td>\n",
       "      <td>18739378</td>\n",
       "      <td>13795915</td>\n",
       "      <td>2381741</td>\n",
       "      <td>18.8531</td>\n",
       "      <td>1.0164</td>\n",
       "      <td>0.56</td>\n",
       "    </tr>\n",
       "    <tr>\n",
       "      <th>3</th>\n",
       "      <td>213</td>\n",
       "      <td>ASM</td>\n",
       "      <td>American Samoa</td>\n",
       "      <td>Pago Pago</td>\n",
       "      <td>Oceania</td>\n",
       "      <td>44273</td>\n",
       "      <td>46189</td>\n",
       "      <td>51368</td>\n",
       "      <td>54849</td>\n",
       "      <td>58230</td>\n",
       "      <td>47818</td>\n",
       "      <td>32886</td>\n",
       "      <td>27075</td>\n",
       "      <td>199</td>\n",
       "      <td>222.4774</td>\n",
       "      <td>0.9831</td>\n",
       "      <td>0.00</td>\n",
       "    </tr>\n",
       "    <tr>\n",
       "      <th>4</th>\n",
       "      <td>203</td>\n",
       "      <td>AND</td>\n",
       "      <td>Andorra</td>\n",
       "      <td>Andorra la Vella</td>\n",
       "      <td>Europe</td>\n",
       "      <td>79824</td>\n",
       "      <td>77700</td>\n",
       "      <td>71746</td>\n",
       "      <td>71519</td>\n",
       "      <td>66097</td>\n",
       "      <td>53569</td>\n",
       "      <td>35611</td>\n",
       "      <td>19860</td>\n",
       "      <td>468</td>\n",
       "      <td>170.5641</td>\n",
       "      <td>1.0100</td>\n",
       "      <td>0.00</td>\n",
       "    </tr>\n",
       "    <tr>\n",
       "      <th>...</th>\n",
       "      <td>...</td>\n",
       "      <td>...</td>\n",
       "      <td>...</td>\n",
       "      <td>...</td>\n",
       "      <td>...</td>\n",
       "      <td>...</td>\n",
       "      <td>...</td>\n",
       "      <td>...</td>\n",
       "      <td>...</td>\n",
       "      <td>...</td>\n",
       "      <td>...</td>\n",
       "      <td>...</td>\n",
       "      <td>...</td>\n",
       "      <td>...</td>\n",
       "      <td>...</td>\n",
       "      <td>...</td>\n",
       "      <td>...</td>\n",
       "    </tr>\n",
       "    <tr>\n",
       "      <th>229</th>\n",
       "      <td>226</td>\n",
       "      <td>WLF</td>\n",
       "      <td>Wallis and Futuna</td>\n",
       "      <td>Mata-Utu</td>\n",
       "      <td>Oceania</td>\n",
       "      <td>11572</td>\n",
       "      <td>11655</td>\n",
       "      <td>12182</td>\n",
       "      <td>13142</td>\n",
       "      <td>14723</td>\n",
       "      <td>13454</td>\n",
       "      <td>11315</td>\n",
       "      <td>9377</td>\n",
       "      <td>142</td>\n",
       "      <td>81.4930</td>\n",
       "      <td>0.9953</td>\n",
       "      <td>0.00</td>\n",
       "    </tr>\n",
       "    <tr>\n",
       "      <th>230</th>\n",
       "      <td>172</td>\n",
       "      <td>ESH</td>\n",
       "      <td>Western Sahara</td>\n",
       "      <td>El Aaiún</td>\n",
       "      <td>Africa</td>\n",
       "      <td>575986</td>\n",
       "      <td>556048</td>\n",
       "      <td>491824</td>\n",
       "      <td>413296</td>\n",
       "      <td>270375</td>\n",
       "      <td>178529</td>\n",
       "      <td>116775</td>\n",
       "      <td>76371</td>\n",
       "      <td>266000</td>\n",
       "      <td>2.1654</td>\n",
       "      <td>1.0184</td>\n",
       "      <td>0.01</td>\n",
       "    </tr>\n",
       "    <tr>\n",
       "      <th>231</th>\n",
       "      <td>46</td>\n",
       "      <td>YEM</td>\n",
       "      <td>Yemen</td>\n",
       "      <td>Sanaa</td>\n",
       "      <td>Asia</td>\n",
       "      <td>33696614</td>\n",
       "      <td>32284046</td>\n",
       "      <td>28516545</td>\n",
       "      <td>24743946</td>\n",
       "      <td>18628700</td>\n",
       "      <td>13375121</td>\n",
       "      <td>9204938</td>\n",
       "      <td>6843607</td>\n",
       "      <td>527968</td>\n",
       "      <td>63.8232</td>\n",
       "      <td>1.0217</td>\n",
       "      <td>0.42</td>\n",
       "    </tr>\n",
       "    <tr>\n",
       "      <th>232</th>\n",
       "      <td>63</td>\n",
       "      <td>ZMB</td>\n",
       "      <td>Zambia</td>\n",
       "      <td>Lusaka</td>\n",
       "      <td>Africa</td>\n",
       "      <td>20017675</td>\n",
       "      <td>18927715</td>\n",
       "      <td>16248230</td>\n",
       "      <td>13792086</td>\n",
       "      <td>9891136</td>\n",
       "      <td>7686401</td>\n",
       "      <td>5720438</td>\n",
       "      <td>4281671</td>\n",
       "      <td>752612</td>\n",
       "      <td>26.5976</td>\n",
       "      <td>1.0280</td>\n",
       "      <td>0.25</td>\n",
       "    </tr>\n",
       "    <tr>\n",
       "      <th>233</th>\n",
       "      <td>74</td>\n",
       "      <td>ZWE</td>\n",
       "      <td>Zimbabwe</td>\n",
       "      <td>Harare</td>\n",
       "      <td>Africa</td>\n",
       "      <td>16320537</td>\n",
       "      <td>15669666</td>\n",
       "      <td>14154937</td>\n",
       "      <td>12839771</td>\n",
       "      <td>11834676</td>\n",
       "      <td>10113893</td>\n",
       "      <td>7049926</td>\n",
       "      <td>5202918</td>\n",
       "      <td>390757</td>\n",
       "      <td>41.7665</td>\n",
       "      <td>1.0204</td>\n",
       "      <td>0.20</td>\n",
       "    </tr>\n",
       "  </tbody>\n",
       "</table>\n",
       "<p>234 rows × 17 columns</p>\n",
       "</div>"
      ],
      "text/plain": [
       "     Rank CCA3  Country/Territory           Capital Continent  \\\n",
       "0      36  AFG        Afghanistan             Kabul      Asia   \n",
       "1     138  ALB            Albania            Tirana    Europe   \n",
       "2      34  DZA            Algeria           Algiers    Africa   \n",
       "3     213  ASM     American Samoa         Pago Pago   Oceania   \n",
       "4     203  AND            Andorra  Andorra la Vella    Europe   \n",
       "..    ...  ...                ...               ...       ...   \n",
       "229   226  WLF  Wallis and Futuna          Mata-Utu   Oceania   \n",
       "230   172  ESH     Western Sahara          El Aaiún    Africa   \n",
       "231    46  YEM              Yemen             Sanaa      Asia   \n",
       "232    63  ZMB             Zambia            Lusaka    Africa   \n",
       "233    74  ZWE           Zimbabwe            Harare    Africa   \n",
       "\n",
       "     2022 Population  2020 Population  2015 Population  2010 Population  \\\n",
       "0           41128771         38972230         33753499         28189672   \n",
       "1            2842321          2866849          2882481          2913399   \n",
       "2           44903225         43451666         39543154         35856344   \n",
       "3              44273            46189            51368            54849   \n",
       "4              79824            77700            71746            71519   \n",
       "..               ...              ...              ...              ...   \n",
       "229            11572            11655            12182            13142   \n",
       "230           575986           556048           491824           413296   \n",
       "231         33696614         32284046         28516545         24743946   \n",
       "232         20017675         18927715         16248230         13792086   \n",
       "233         16320537         15669666         14154937         12839771   \n",
       "\n",
       "     2000 Population  1990 Population  1980 Population  1970 Population  \\\n",
       "0           19542982         10694796         12486631         10752971   \n",
       "1            3182021          3295066          2941651          2324731   \n",
       "2           30774621         25518074         18739378         13795915   \n",
       "3              58230            47818            32886            27075   \n",
       "4              66097            53569            35611            19860   \n",
       "..               ...              ...              ...              ...   \n",
       "229            14723            13454            11315             9377   \n",
       "230           270375           178529           116775            76371   \n",
       "231         18628700         13375121          9204938          6843607   \n",
       "232          9891136          7686401          5720438          4281671   \n",
       "233         11834676         10113893          7049926          5202918   \n",
       "\n",
       "     Area (km²)  Density (per km²)  Growth Rate  World Population Percentage  \n",
       "0        652230            63.0587       1.0257                         0.52  \n",
       "1         28748            98.8702       0.9957                         0.04  \n",
       "2       2381741            18.8531       1.0164                         0.56  \n",
       "3           199           222.4774       0.9831                         0.00  \n",
       "4           468           170.5641       1.0100                         0.00  \n",
       "..          ...                ...          ...                          ...  \n",
       "229         142            81.4930       0.9953                         0.00  \n",
       "230      266000             2.1654       1.0184                         0.01  \n",
       "231      527968            63.8232       1.0217                         0.42  \n",
       "232      752612            26.5976       1.0280                         0.25  \n",
       "233      390757            41.7665       1.0204                         0.20  \n",
       "\n",
       "[234 rows x 17 columns]"
      ]
     },
     "execution_count": 74,
     "metadata": {},
     "output_type": "execute_result"
    }
   ],
   "source": [
    "wp"
   ]
  },
  {
   "cell_type": "code",
   "execution_count": 76,
   "id": "e6227226",
   "metadata": {},
   "outputs": [],
   "source": [
    "wp_temp=wp[['CCA3',\"Country/Territory\",\"Capital\",\"Continent\"]]"
   ]
  },
  {
   "cell_type": "code",
   "execution_count": 77,
   "id": "23dcb791",
   "metadata": {
    "collapsed": true
   },
   "outputs": [
    {
     "data": {
      "text/html": [
       "<div>\n",
       "<style scoped>\n",
       "    .dataframe tbody tr th:only-of-type {\n",
       "        vertical-align: middle;\n",
       "    }\n",
       "\n",
       "    .dataframe tbody tr th {\n",
       "        vertical-align: top;\n",
       "    }\n",
       "\n",
       "    .dataframe thead th {\n",
       "        text-align: right;\n",
       "    }\n",
       "</style>\n",
       "<table border=\"1\" class=\"dataframe\">\n",
       "  <thead>\n",
       "    <tr style=\"text-align: right;\">\n",
       "      <th></th>\n",
       "      <th>CCA3</th>\n",
       "      <th>Country/Territory</th>\n",
       "      <th>Capital</th>\n",
       "      <th>Continent</th>\n",
       "    </tr>\n",
       "  </thead>\n",
       "  <tbody>\n",
       "    <tr>\n",
       "      <th>0</th>\n",
       "      <td>AFG</td>\n",
       "      <td>Afghanistan</td>\n",
       "      <td>Kabul</td>\n",
       "      <td>Asia</td>\n",
       "    </tr>\n",
       "    <tr>\n",
       "      <th>1</th>\n",
       "      <td>ALB</td>\n",
       "      <td>Albania</td>\n",
       "      <td>Tirana</td>\n",
       "      <td>Europe</td>\n",
       "    </tr>\n",
       "    <tr>\n",
       "      <th>2</th>\n",
       "      <td>DZA</td>\n",
       "      <td>Algeria</td>\n",
       "      <td>Algiers</td>\n",
       "      <td>Africa</td>\n",
       "    </tr>\n",
       "    <tr>\n",
       "      <th>3</th>\n",
       "      <td>ASM</td>\n",
       "      <td>American Samoa</td>\n",
       "      <td>Pago Pago</td>\n",
       "      <td>Oceania</td>\n",
       "    </tr>\n",
       "    <tr>\n",
       "      <th>4</th>\n",
       "      <td>AND</td>\n",
       "      <td>Andorra</td>\n",
       "      <td>Andorra la Vella</td>\n",
       "      <td>Europe</td>\n",
       "    </tr>\n",
       "    <tr>\n",
       "      <th>...</th>\n",
       "      <td>...</td>\n",
       "      <td>...</td>\n",
       "      <td>...</td>\n",
       "      <td>...</td>\n",
       "    </tr>\n",
       "    <tr>\n",
       "      <th>229</th>\n",
       "      <td>WLF</td>\n",
       "      <td>Wallis and Futuna</td>\n",
       "      <td>Mata-Utu</td>\n",
       "      <td>Oceania</td>\n",
       "    </tr>\n",
       "    <tr>\n",
       "      <th>230</th>\n",
       "      <td>ESH</td>\n",
       "      <td>Western Sahara</td>\n",
       "      <td>El Aaiún</td>\n",
       "      <td>Africa</td>\n",
       "    </tr>\n",
       "    <tr>\n",
       "      <th>231</th>\n",
       "      <td>YEM</td>\n",
       "      <td>Yemen</td>\n",
       "      <td>Sanaa</td>\n",
       "      <td>Asia</td>\n",
       "    </tr>\n",
       "    <tr>\n",
       "      <th>232</th>\n",
       "      <td>ZMB</td>\n",
       "      <td>Zambia</td>\n",
       "      <td>Lusaka</td>\n",
       "      <td>Africa</td>\n",
       "    </tr>\n",
       "    <tr>\n",
       "      <th>233</th>\n",
       "      <td>ZWE</td>\n",
       "      <td>Zimbabwe</td>\n",
       "      <td>Harare</td>\n",
       "      <td>Africa</td>\n",
       "    </tr>\n",
       "  </tbody>\n",
       "</table>\n",
       "<p>234 rows × 4 columns</p>\n",
       "</div>"
      ],
      "text/plain": [
       "    CCA3  Country/Territory           Capital Continent\n",
       "0    AFG        Afghanistan             Kabul      Asia\n",
       "1    ALB            Albania            Tirana    Europe\n",
       "2    DZA            Algeria           Algiers    Africa\n",
       "3    ASM     American Samoa         Pago Pago   Oceania\n",
       "4    AND            Andorra  Andorra la Vella    Europe\n",
       "..   ...                ...               ...       ...\n",
       "229  WLF  Wallis and Futuna          Mata-Utu   Oceania\n",
       "230  ESH     Western Sahara          El Aaiún    Africa\n",
       "231  YEM              Yemen             Sanaa      Asia\n",
       "232  ZMB             Zambia            Lusaka    Africa\n",
       "233  ZWE           Zimbabwe            Harare    Africa\n",
       "\n",
       "[234 rows x 4 columns]"
      ]
     },
     "execution_count": 77,
     "metadata": {},
     "output_type": "execute_result"
    }
   ],
   "source": [
    "wp_temp"
   ]
  },
  {
   "cell_type": "code",
   "execution_count": 78,
   "id": "ccf1adc6",
   "metadata": {
    "collapsed": true
   },
   "outputs": [
    {
     "data": {
      "text/html": [
       "<div>\n",
       "<style scoped>\n",
       "    .dataframe tbody tr th:only-of-type {\n",
       "        vertical-align: middle;\n",
       "    }\n",
       "\n",
       "    .dataframe tbody tr th {\n",
       "        vertical-align: top;\n",
       "    }\n",
       "\n",
       "    .dataframe thead th {\n",
       "        text-align: right;\n",
       "    }\n",
       "</style>\n",
       "<table border=\"1\" class=\"dataframe\">\n",
       "  <thead>\n",
       "    <tr style=\"text-align: right;\">\n",
       "      <th></th>\n",
       "      <th>Country Name</th>\n",
       "      <th>Code</th>\n",
       "      <th>1960</th>\n",
       "      <th>1961</th>\n",
       "      <th>1962</th>\n",
       "      <th>1963</th>\n",
       "      <th>1964</th>\n",
       "      <th>1965</th>\n",
       "      <th>1966</th>\n",
       "      <th>1967</th>\n",
       "      <th>...</th>\n",
       "      <th>2012</th>\n",
       "      <th>2013</th>\n",
       "      <th>2014</th>\n",
       "      <th>2015</th>\n",
       "      <th>2016</th>\n",
       "      <th>2017</th>\n",
       "      <th>2018</th>\n",
       "      <th>2019</th>\n",
       "      <th>2020</th>\n",
       "      <th>Unnamed: 65</th>\n",
       "    </tr>\n",
       "  </thead>\n",
       "  <tbody>\n",
       "    <tr>\n",
       "      <th>0</th>\n",
       "      <td>Aruba</td>\n",
       "      <td>ABW</td>\n",
       "      <td>NaN</td>\n",
       "      <td>NaN</td>\n",
       "      <td>NaN</td>\n",
       "      <td>NaN</td>\n",
       "      <td>NaN</td>\n",
       "      <td>NaN</td>\n",
       "      <td>NaN</td>\n",
       "      <td>NaN</td>\n",
       "      <td>...</td>\n",
       "      <td>2.534637e+09</td>\n",
       "      <td>2.727850e+09</td>\n",
       "      <td>2.790849e+09</td>\n",
       "      <td>2.962905e+09</td>\n",
       "      <td>2.983637e+09</td>\n",
       "      <td>3.092430e+09</td>\n",
       "      <td>3.202189e+09</td>\n",
       "      <td>NaN</td>\n",
       "      <td>NaN</td>\n",
       "      <td>NaN</td>\n",
       "    </tr>\n",
       "    <tr>\n",
       "      <th>1</th>\n",
       "      <td>Africa Eastern and Southern</td>\n",
       "      <td>AFE</td>\n",
       "      <td>1.931311e+10</td>\n",
       "      <td>1.972349e+10</td>\n",
       "      <td>2.149392e+10</td>\n",
       "      <td>2.573321e+10</td>\n",
       "      <td>2.352744e+10</td>\n",
       "      <td>2.681057e+10</td>\n",
       "      <td>2.915216e+10</td>\n",
       "      <td>3.017317e+10</td>\n",
       "      <td>...</td>\n",
       "      <td>9.505214e+11</td>\n",
       "      <td>9.642424e+11</td>\n",
       "      <td>9.848071e+11</td>\n",
       "      <td>9.199300e+11</td>\n",
       "      <td>8.733549e+11</td>\n",
       "      <td>9.853557e+11</td>\n",
       "      <td>1.012853e+12</td>\n",
       "      <td>1.009910e+12</td>\n",
       "      <td>9.207923e+11</td>\n",
       "      <td>NaN</td>\n",
       "    </tr>\n",
       "    <tr>\n",
       "      <th>2</th>\n",
       "      <td>Afghanistan</td>\n",
       "      <td>AFG</td>\n",
       "      <td>5.377778e+08</td>\n",
       "      <td>5.488889e+08</td>\n",
       "      <td>5.466667e+08</td>\n",
       "      <td>7.511112e+08</td>\n",
       "      <td>8.000000e+08</td>\n",
       "      <td>1.006667e+09</td>\n",
       "      <td>1.400000e+09</td>\n",
       "      <td>1.673333e+09</td>\n",
       "      <td>...</td>\n",
       "      <td>1.990732e+10</td>\n",
       "      <td>2.014640e+10</td>\n",
       "      <td>2.049713e+10</td>\n",
       "      <td>1.913421e+10</td>\n",
       "      <td>1.811656e+10</td>\n",
       "      <td>1.875347e+10</td>\n",
       "      <td>1.805323e+10</td>\n",
       "      <td>1.879945e+10</td>\n",
       "      <td>2.011614e+10</td>\n",
       "      <td>NaN</td>\n",
       "    </tr>\n",
       "    <tr>\n",
       "      <th>3</th>\n",
       "      <td>Africa Western and Central</td>\n",
       "      <td>AFW</td>\n",
       "      <td>1.040428e+10</td>\n",
       "      <td>1.112805e+10</td>\n",
       "      <td>1.194335e+10</td>\n",
       "      <td>1.267652e+10</td>\n",
       "      <td>1.383858e+10</td>\n",
       "      <td>1.486247e+10</td>\n",
       "      <td>1.583285e+10</td>\n",
       "      <td>1.442643e+10</td>\n",
       "      <td>...</td>\n",
       "      <td>7.275714e+11</td>\n",
       "      <td>8.207876e+11</td>\n",
       "      <td>8.649666e+11</td>\n",
       "      <td>7.607297e+11</td>\n",
       "      <td>6.905430e+11</td>\n",
       "      <td>6.837416e+11</td>\n",
       "      <td>7.416916e+11</td>\n",
       "      <td>7.945725e+11</td>\n",
       "      <td>7.845876e+11</td>\n",
       "      <td>NaN</td>\n",
       "    </tr>\n",
       "    <tr>\n",
       "      <th>4</th>\n",
       "      <td>Angola</td>\n",
       "      <td>AGO</td>\n",
       "      <td>NaN</td>\n",
       "      <td>NaN</td>\n",
       "      <td>NaN</td>\n",
       "      <td>NaN</td>\n",
       "      <td>NaN</td>\n",
       "      <td>NaN</td>\n",
       "      <td>NaN</td>\n",
       "      <td>NaN</td>\n",
       "      <td>...</td>\n",
       "      <td>1.280529e+11</td>\n",
       "      <td>1.367099e+11</td>\n",
       "      <td>1.457122e+11</td>\n",
       "      <td>1.161936e+11</td>\n",
       "      <td>1.011239e+11</td>\n",
       "      <td>1.221238e+11</td>\n",
       "      <td>1.013532e+11</td>\n",
       "      <td>8.941719e+10</td>\n",
       "      <td>5.837598e+10</td>\n",
       "      <td>NaN</td>\n",
       "    </tr>\n",
       "    <tr>\n",
       "      <th>...</th>\n",
       "      <td>...</td>\n",
       "      <td>...</td>\n",
       "      <td>...</td>\n",
       "      <td>...</td>\n",
       "      <td>...</td>\n",
       "      <td>...</td>\n",
       "      <td>...</td>\n",
       "      <td>...</td>\n",
       "      <td>...</td>\n",
       "      <td>...</td>\n",
       "      <td>...</td>\n",
       "      <td>...</td>\n",
       "      <td>...</td>\n",
       "      <td>...</td>\n",
       "      <td>...</td>\n",
       "      <td>...</td>\n",
       "      <td>...</td>\n",
       "      <td>...</td>\n",
       "      <td>...</td>\n",
       "      <td>...</td>\n",
       "      <td>...</td>\n",
       "    </tr>\n",
       "    <tr>\n",
       "      <th>261</th>\n",
       "      <td>Kosovo</td>\n",
       "      <td>XKX</td>\n",
       "      <td>NaN</td>\n",
       "      <td>NaN</td>\n",
       "      <td>NaN</td>\n",
       "      <td>NaN</td>\n",
       "      <td>NaN</td>\n",
       "      <td>NaN</td>\n",
       "      <td>NaN</td>\n",
       "      <td>NaN</td>\n",
       "      <td>...</td>\n",
       "      <td>6.163785e+09</td>\n",
       "      <td>6.735731e+09</td>\n",
       "      <td>7.074658e+09</td>\n",
       "      <td>6.295820e+09</td>\n",
       "      <td>6.682833e+09</td>\n",
       "      <td>7.180813e+09</td>\n",
       "      <td>7.878509e+09</td>\n",
       "      <td>7.899879e+09</td>\n",
       "      <td>7.716925e+09</td>\n",
       "      <td>NaN</td>\n",
       "    </tr>\n",
       "    <tr>\n",
       "      <th>262</th>\n",
       "      <td>Yemen, Rep.</td>\n",
       "      <td>YEM</td>\n",
       "      <td>NaN</td>\n",
       "      <td>NaN</td>\n",
       "      <td>NaN</td>\n",
       "      <td>NaN</td>\n",
       "      <td>NaN</td>\n",
       "      <td>NaN</td>\n",
       "      <td>NaN</td>\n",
       "      <td>NaN</td>\n",
       "      <td>...</td>\n",
       "      <td>3.540134e+10</td>\n",
       "      <td>4.041524e+10</td>\n",
       "      <td>4.322859e+10</td>\n",
       "      <td>4.244510e+10</td>\n",
       "      <td>3.131737e+10</td>\n",
       "      <td>2.684013e+10</td>\n",
       "      <td>2.160614e+10</td>\n",
       "      <td>NaN</td>\n",
       "      <td>NaN</td>\n",
       "      <td>NaN</td>\n",
       "    </tr>\n",
       "    <tr>\n",
       "      <th>263</th>\n",
       "      <td>South Africa</td>\n",
       "      <td>ZAF</td>\n",
       "      <td>7.575397e+09</td>\n",
       "      <td>7.972997e+09</td>\n",
       "      <td>8.497997e+09</td>\n",
       "      <td>9.423396e+09</td>\n",
       "      <td>1.037400e+10</td>\n",
       "      <td>1.133440e+10</td>\n",
       "      <td>1.235500e+10</td>\n",
       "      <td>1.377739e+10</td>\n",
       "      <td>...</td>\n",
       "      <td>4.344005e+11</td>\n",
       "      <td>4.008860e+11</td>\n",
       "      <td>3.811989e+11</td>\n",
       "      <td>3.467098e+11</td>\n",
       "      <td>3.235855e+11</td>\n",
       "      <td>3.814488e+11</td>\n",
       "      <td>4.048421e+11</td>\n",
       "      <td>3.879346e+11</td>\n",
       "      <td>3.354421e+11</td>\n",
       "      <td>NaN</td>\n",
       "    </tr>\n",
       "    <tr>\n",
       "      <th>264</th>\n",
       "      <td>Zambia</td>\n",
       "      <td>ZMB</td>\n",
       "      <td>7.130000e+08</td>\n",
       "      <td>6.962857e+08</td>\n",
       "      <td>6.931429e+08</td>\n",
       "      <td>7.187143e+08</td>\n",
       "      <td>8.394286e+08</td>\n",
       "      <td>1.082857e+09</td>\n",
       "      <td>1.264286e+09</td>\n",
       "      <td>1.368000e+09</td>\n",
       "      <td>...</td>\n",
       "      <td>2.550306e+10</td>\n",
       "      <td>2.803724e+10</td>\n",
       "      <td>2.714102e+10</td>\n",
       "      <td>2.125122e+10</td>\n",
       "      <td>2.095841e+10</td>\n",
       "      <td>2.587360e+10</td>\n",
       "      <td>2.631159e+10</td>\n",
       "      <td>2.330867e+10</td>\n",
       "      <td>1.811063e+10</td>\n",
       "      <td>NaN</td>\n",
       "    </tr>\n",
       "    <tr>\n",
       "      <th>265</th>\n",
       "      <td>Zimbabwe</td>\n",
       "      <td>ZWE</td>\n",
       "      <td>1.052990e+09</td>\n",
       "      <td>1.096647e+09</td>\n",
       "      <td>1.117602e+09</td>\n",
       "      <td>1.159512e+09</td>\n",
       "      <td>1.217138e+09</td>\n",
       "      <td>1.311436e+09</td>\n",
       "      <td>1.281750e+09</td>\n",
       "      <td>1.397002e+09</td>\n",
       "      <td>...</td>\n",
       "      <td>1.711485e+10</td>\n",
       "      <td>1.909102e+10</td>\n",
       "      <td>1.949552e+10</td>\n",
       "      <td>1.996312e+10</td>\n",
       "      <td>2.054868e+10</td>\n",
       "      <td>1.758489e+10</td>\n",
       "      <td>1.811554e+10</td>\n",
       "      <td>1.928429e+10</td>\n",
       "      <td>1.805117e+10</td>\n",
       "      <td>NaN</td>\n",
       "    </tr>\n",
       "  </tbody>\n",
       "</table>\n",
       "<p>266 rows × 64 columns</p>\n",
       "</div>"
      ],
      "text/plain": [
       "                    Country Name Code          1960          1961  \\\n",
       "0                          Aruba  ABW           NaN           NaN   \n",
       "1    Africa Eastern and Southern  AFE  1.931311e+10  1.972349e+10   \n",
       "2                    Afghanistan  AFG  5.377778e+08  5.488889e+08   \n",
       "3     Africa Western and Central  AFW  1.040428e+10  1.112805e+10   \n",
       "4                         Angola  AGO           NaN           NaN   \n",
       "..                           ...  ...           ...           ...   \n",
       "261                       Kosovo  XKX           NaN           NaN   \n",
       "262                  Yemen, Rep.  YEM           NaN           NaN   \n",
       "263                 South Africa  ZAF  7.575397e+09  7.972997e+09   \n",
       "264                       Zambia  ZMB  7.130000e+08  6.962857e+08   \n",
       "265                     Zimbabwe  ZWE  1.052990e+09  1.096647e+09   \n",
       "\n",
       "             1962          1963          1964          1965          1966  \\\n",
       "0             NaN           NaN           NaN           NaN           NaN   \n",
       "1    2.149392e+10  2.573321e+10  2.352744e+10  2.681057e+10  2.915216e+10   \n",
       "2    5.466667e+08  7.511112e+08  8.000000e+08  1.006667e+09  1.400000e+09   \n",
       "3    1.194335e+10  1.267652e+10  1.383858e+10  1.486247e+10  1.583285e+10   \n",
       "4             NaN           NaN           NaN           NaN           NaN   \n",
       "..            ...           ...           ...           ...           ...   \n",
       "261           NaN           NaN           NaN           NaN           NaN   \n",
       "262           NaN           NaN           NaN           NaN           NaN   \n",
       "263  8.497997e+09  9.423396e+09  1.037400e+10  1.133440e+10  1.235500e+10   \n",
       "264  6.931429e+08  7.187143e+08  8.394286e+08  1.082857e+09  1.264286e+09   \n",
       "265  1.117602e+09  1.159512e+09  1.217138e+09  1.311436e+09  1.281750e+09   \n",
       "\n",
       "             1967  ...          2012          2013          2014  \\\n",
       "0             NaN  ...  2.534637e+09  2.727850e+09  2.790849e+09   \n",
       "1    3.017317e+10  ...  9.505214e+11  9.642424e+11  9.848071e+11   \n",
       "2    1.673333e+09  ...  1.990732e+10  2.014640e+10  2.049713e+10   \n",
       "3    1.442643e+10  ...  7.275714e+11  8.207876e+11  8.649666e+11   \n",
       "4             NaN  ...  1.280529e+11  1.367099e+11  1.457122e+11   \n",
       "..            ...  ...           ...           ...           ...   \n",
       "261           NaN  ...  6.163785e+09  6.735731e+09  7.074658e+09   \n",
       "262           NaN  ...  3.540134e+10  4.041524e+10  4.322859e+10   \n",
       "263  1.377739e+10  ...  4.344005e+11  4.008860e+11  3.811989e+11   \n",
       "264  1.368000e+09  ...  2.550306e+10  2.803724e+10  2.714102e+10   \n",
       "265  1.397002e+09  ...  1.711485e+10  1.909102e+10  1.949552e+10   \n",
       "\n",
       "             2015          2016          2017          2018          2019  \\\n",
       "0    2.962905e+09  2.983637e+09  3.092430e+09  3.202189e+09           NaN   \n",
       "1    9.199300e+11  8.733549e+11  9.853557e+11  1.012853e+12  1.009910e+12   \n",
       "2    1.913421e+10  1.811656e+10  1.875347e+10  1.805323e+10  1.879945e+10   \n",
       "3    7.607297e+11  6.905430e+11  6.837416e+11  7.416916e+11  7.945725e+11   \n",
       "4    1.161936e+11  1.011239e+11  1.221238e+11  1.013532e+11  8.941719e+10   \n",
       "..            ...           ...           ...           ...           ...   \n",
       "261  6.295820e+09  6.682833e+09  7.180813e+09  7.878509e+09  7.899879e+09   \n",
       "262  4.244510e+10  3.131737e+10  2.684013e+10  2.160614e+10           NaN   \n",
       "263  3.467098e+11  3.235855e+11  3.814488e+11  4.048421e+11  3.879346e+11   \n",
       "264  2.125122e+10  2.095841e+10  2.587360e+10  2.631159e+10  2.330867e+10   \n",
       "265  1.996312e+10  2.054868e+10  1.758489e+10  1.811554e+10  1.928429e+10   \n",
       "\n",
       "             2020  Unnamed: 65  \n",
       "0             NaN          NaN  \n",
       "1    9.207923e+11          NaN  \n",
       "2    2.011614e+10          NaN  \n",
       "3    7.845876e+11          NaN  \n",
       "4    5.837598e+10          NaN  \n",
       "..            ...          ...  \n",
       "261  7.716925e+09          NaN  \n",
       "262           NaN          NaN  \n",
       "263  3.354421e+11          NaN  \n",
       "264  1.811063e+10          NaN  \n",
       "265  1.805117e+10          NaN  \n",
       "\n",
       "[266 rows x 64 columns]"
      ]
     },
     "execution_count": 78,
     "metadata": {},
     "output_type": "execute_result"
    }
   ],
   "source": [
    "gdp"
   ]
  },
  {
   "cell_type": "code",
   "execution_count": 84,
   "id": "f5f1084d",
   "metadata": {},
   "outputs": [],
   "source": [
    "merged_total = pd.merge(\n",
    "     gdp, wp_temp, left_on=\"Code\",right_on=\"CCA3\")"
   ]
  },
  {
   "cell_type": "code",
   "execution_count": 85,
   "id": "def2a710",
   "metadata": {},
   "outputs": [
    {
     "data": {
      "text/html": [
       "<div>\n",
       "<style scoped>\n",
       "    .dataframe tbody tr th:only-of-type {\n",
       "        vertical-align: middle;\n",
       "    }\n",
       "\n",
       "    .dataframe tbody tr th {\n",
       "        vertical-align: top;\n",
       "    }\n",
       "\n",
       "    .dataframe thead th {\n",
       "        text-align: right;\n",
       "    }\n",
       "</style>\n",
       "<table border=\"1\" class=\"dataframe\">\n",
       "  <thead>\n",
       "    <tr style=\"text-align: right;\">\n",
       "      <th></th>\n",
       "      <th>Country Name</th>\n",
       "      <th>Code</th>\n",
       "      <th>1960</th>\n",
       "      <th>1961</th>\n",
       "      <th>1962</th>\n",
       "      <th>1963</th>\n",
       "      <th>1964</th>\n",
       "      <th>1965</th>\n",
       "      <th>1966</th>\n",
       "      <th>1967</th>\n",
       "      <th>...</th>\n",
       "      <th>2016</th>\n",
       "      <th>2017</th>\n",
       "      <th>2018</th>\n",
       "      <th>2019</th>\n",
       "      <th>2020</th>\n",
       "      <th>Unnamed: 65</th>\n",
       "      <th>CCA3</th>\n",
       "      <th>Country/Territory</th>\n",
       "      <th>Capital</th>\n",
       "      <th>Continent</th>\n",
       "    </tr>\n",
       "  </thead>\n",
       "  <tbody>\n",
       "    <tr>\n",
       "      <th>0</th>\n",
       "      <td>Aruba</td>\n",
       "      <td>ABW</td>\n",
       "      <td>NaN</td>\n",
       "      <td>NaN</td>\n",
       "      <td>NaN</td>\n",
       "      <td>NaN</td>\n",
       "      <td>NaN</td>\n",
       "      <td>NaN</td>\n",
       "      <td>NaN</td>\n",
       "      <td>NaN</td>\n",
       "      <td>...</td>\n",
       "      <td>2.983637e+09</td>\n",
       "      <td>3.092430e+09</td>\n",
       "      <td>3.202189e+09</td>\n",
       "      <td>NaN</td>\n",
       "      <td>NaN</td>\n",
       "      <td>NaN</td>\n",
       "      <td>ABW</td>\n",
       "      <td>Aruba</td>\n",
       "      <td>Oranjestad</td>\n",
       "      <td>North America</td>\n",
       "    </tr>\n",
       "    <tr>\n",
       "      <th>1</th>\n",
       "      <td>Afghanistan</td>\n",
       "      <td>AFG</td>\n",
       "      <td>5.377778e+08</td>\n",
       "      <td>5.488889e+08</td>\n",
       "      <td>5.466667e+08</td>\n",
       "      <td>7.511112e+08</td>\n",
       "      <td>8.000000e+08</td>\n",
       "      <td>1.006667e+09</td>\n",
       "      <td>1.400000e+09</td>\n",
       "      <td>1.673333e+09</td>\n",
       "      <td>...</td>\n",
       "      <td>1.811656e+10</td>\n",
       "      <td>1.875347e+10</td>\n",
       "      <td>1.805323e+10</td>\n",
       "      <td>1.879945e+10</td>\n",
       "      <td>2.011614e+10</td>\n",
       "      <td>NaN</td>\n",
       "      <td>AFG</td>\n",
       "      <td>Afghanistan</td>\n",
       "      <td>Kabul</td>\n",
       "      <td>Asia</td>\n",
       "    </tr>\n",
       "    <tr>\n",
       "      <th>2</th>\n",
       "      <td>Angola</td>\n",
       "      <td>AGO</td>\n",
       "      <td>NaN</td>\n",
       "      <td>NaN</td>\n",
       "      <td>NaN</td>\n",
       "      <td>NaN</td>\n",
       "      <td>NaN</td>\n",
       "      <td>NaN</td>\n",
       "      <td>NaN</td>\n",
       "      <td>NaN</td>\n",
       "      <td>...</td>\n",
       "      <td>1.011239e+11</td>\n",
       "      <td>1.221238e+11</td>\n",
       "      <td>1.013532e+11</td>\n",
       "      <td>8.941719e+10</td>\n",
       "      <td>5.837598e+10</td>\n",
       "      <td>NaN</td>\n",
       "      <td>AGO</td>\n",
       "      <td>Angola</td>\n",
       "      <td>Luanda</td>\n",
       "      <td>Africa</td>\n",
       "    </tr>\n",
       "    <tr>\n",
       "      <th>3</th>\n",
       "      <td>Albania</td>\n",
       "      <td>ALB</td>\n",
       "      <td>NaN</td>\n",
       "      <td>NaN</td>\n",
       "      <td>NaN</td>\n",
       "      <td>NaN</td>\n",
       "      <td>NaN</td>\n",
       "      <td>NaN</td>\n",
       "      <td>NaN</td>\n",
       "      <td>NaN</td>\n",
       "      <td>...</td>\n",
       "      <td>1.186120e+10</td>\n",
       "      <td>1.301969e+10</td>\n",
       "      <td>1.515643e+10</td>\n",
       "      <td>1.540024e+10</td>\n",
       "      <td>1.488763e+10</td>\n",
       "      <td>NaN</td>\n",
       "      <td>ALB</td>\n",
       "      <td>Albania</td>\n",
       "      <td>Tirana</td>\n",
       "      <td>Europe</td>\n",
       "    </tr>\n",
       "    <tr>\n",
       "      <th>4</th>\n",
       "      <td>Andorra</td>\n",
       "      <td>AND</td>\n",
       "      <td>NaN</td>\n",
       "      <td>NaN</td>\n",
       "      <td>NaN</td>\n",
       "      <td>NaN</td>\n",
       "      <td>NaN</td>\n",
       "      <td>NaN</td>\n",
       "      <td>NaN</td>\n",
       "      <td>NaN</td>\n",
       "      <td>...</td>\n",
       "      <td>2.896679e+09</td>\n",
       "      <td>3.000181e+09</td>\n",
       "      <td>3.218316e+09</td>\n",
       "      <td>3.155065e+09</td>\n",
       "      <td>NaN</td>\n",
       "      <td>NaN</td>\n",
       "      <td>AND</td>\n",
       "      <td>Andorra</td>\n",
       "      <td>Andorra la Vella</td>\n",
       "      <td>Europe</td>\n",
       "    </tr>\n",
       "    <tr>\n",
       "      <th>...</th>\n",
       "      <td>...</td>\n",
       "      <td>...</td>\n",
       "      <td>...</td>\n",
       "      <td>...</td>\n",
       "      <td>...</td>\n",
       "      <td>...</td>\n",
       "      <td>...</td>\n",
       "      <td>...</td>\n",
       "      <td>...</td>\n",
       "      <td>...</td>\n",
       "      <td>...</td>\n",
       "      <td>...</td>\n",
       "      <td>...</td>\n",
       "      <td>...</td>\n",
       "      <td>...</td>\n",
       "      <td>...</td>\n",
       "      <td>...</td>\n",
       "      <td>...</td>\n",
       "      <td>...</td>\n",
       "      <td>...</td>\n",
       "      <td>...</td>\n",
       "    </tr>\n",
       "    <tr>\n",
       "      <th>209</th>\n",
       "      <td>Samoa</td>\n",
       "      <td>WSM</td>\n",
       "      <td>NaN</td>\n",
       "      <td>NaN</td>\n",
       "      <td>NaN</td>\n",
       "      <td>NaN</td>\n",
       "      <td>NaN</td>\n",
       "      <td>NaN</td>\n",
       "      <td>NaN</td>\n",
       "      <td>NaN</td>\n",
       "      <td>...</td>\n",
       "      <td>7.994939e+08</td>\n",
       "      <td>8.320256e+08</td>\n",
       "      <td>8.212869e+08</td>\n",
       "      <td>8.520071e+08</td>\n",
       "      <td>8.071008e+08</td>\n",
       "      <td>NaN</td>\n",
       "      <td>WSM</td>\n",
       "      <td>Samoa</td>\n",
       "      <td>Apia</td>\n",
       "      <td>Oceania</td>\n",
       "    </tr>\n",
       "    <tr>\n",
       "      <th>210</th>\n",
       "      <td>Yemen, Rep.</td>\n",
       "      <td>YEM</td>\n",
       "      <td>NaN</td>\n",
       "      <td>NaN</td>\n",
       "      <td>NaN</td>\n",
       "      <td>NaN</td>\n",
       "      <td>NaN</td>\n",
       "      <td>NaN</td>\n",
       "      <td>NaN</td>\n",
       "      <td>NaN</td>\n",
       "      <td>...</td>\n",
       "      <td>3.131737e+10</td>\n",
       "      <td>2.684013e+10</td>\n",
       "      <td>2.160614e+10</td>\n",
       "      <td>NaN</td>\n",
       "      <td>NaN</td>\n",
       "      <td>NaN</td>\n",
       "      <td>YEM</td>\n",
       "      <td>Yemen</td>\n",
       "      <td>Sanaa</td>\n",
       "      <td>Asia</td>\n",
       "    </tr>\n",
       "    <tr>\n",
       "      <th>211</th>\n",
       "      <td>South Africa</td>\n",
       "      <td>ZAF</td>\n",
       "      <td>7.575397e+09</td>\n",
       "      <td>7.972997e+09</td>\n",
       "      <td>8.497997e+09</td>\n",
       "      <td>9.423396e+09</td>\n",
       "      <td>1.037400e+10</td>\n",
       "      <td>1.133440e+10</td>\n",
       "      <td>1.235500e+10</td>\n",
       "      <td>1.377739e+10</td>\n",
       "      <td>...</td>\n",
       "      <td>3.235855e+11</td>\n",
       "      <td>3.814488e+11</td>\n",
       "      <td>4.048421e+11</td>\n",
       "      <td>3.879346e+11</td>\n",
       "      <td>3.354421e+11</td>\n",
       "      <td>NaN</td>\n",
       "      <td>ZAF</td>\n",
       "      <td>South Africa</td>\n",
       "      <td>Pretoria</td>\n",
       "      <td>Africa</td>\n",
       "    </tr>\n",
       "    <tr>\n",
       "      <th>212</th>\n",
       "      <td>Zambia</td>\n",
       "      <td>ZMB</td>\n",
       "      <td>7.130000e+08</td>\n",
       "      <td>6.962857e+08</td>\n",
       "      <td>6.931429e+08</td>\n",
       "      <td>7.187143e+08</td>\n",
       "      <td>8.394286e+08</td>\n",
       "      <td>1.082857e+09</td>\n",
       "      <td>1.264286e+09</td>\n",
       "      <td>1.368000e+09</td>\n",
       "      <td>...</td>\n",
       "      <td>2.095841e+10</td>\n",
       "      <td>2.587360e+10</td>\n",
       "      <td>2.631159e+10</td>\n",
       "      <td>2.330867e+10</td>\n",
       "      <td>1.811063e+10</td>\n",
       "      <td>NaN</td>\n",
       "      <td>ZMB</td>\n",
       "      <td>Zambia</td>\n",
       "      <td>Lusaka</td>\n",
       "      <td>Africa</td>\n",
       "    </tr>\n",
       "    <tr>\n",
       "      <th>213</th>\n",
       "      <td>Zimbabwe</td>\n",
       "      <td>ZWE</td>\n",
       "      <td>1.052990e+09</td>\n",
       "      <td>1.096647e+09</td>\n",
       "      <td>1.117602e+09</td>\n",
       "      <td>1.159512e+09</td>\n",
       "      <td>1.217138e+09</td>\n",
       "      <td>1.311436e+09</td>\n",
       "      <td>1.281750e+09</td>\n",
       "      <td>1.397002e+09</td>\n",
       "      <td>...</td>\n",
       "      <td>2.054868e+10</td>\n",
       "      <td>1.758489e+10</td>\n",
       "      <td>1.811554e+10</td>\n",
       "      <td>1.928429e+10</td>\n",
       "      <td>1.805117e+10</td>\n",
       "      <td>NaN</td>\n",
       "      <td>ZWE</td>\n",
       "      <td>Zimbabwe</td>\n",
       "      <td>Harare</td>\n",
       "      <td>Africa</td>\n",
       "    </tr>\n",
       "  </tbody>\n",
       "</table>\n",
       "<p>214 rows × 68 columns</p>\n",
       "</div>"
      ],
      "text/plain": [
       "     Country Name Code          1960          1961          1962  \\\n",
       "0           Aruba  ABW           NaN           NaN           NaN   \n",
       "1     Afghanistan  AFG  5.377778e+08  5.488889e+08  5.466667e+08   \n",
       "2          Angola  AGO           NaN           NaN           NaN   \n",
       "3         Albania  ALB           NaN           NaN           NaN   \n",
       "4         Andorra  AND           NaN           NaN           NaN   \n",
       "..            ...  ...           ...           ...           ...   \n",
       "209         Samoa  WSM           NaN           NaN           NaN   \n",
       "210   Yemen, Rep.  YEM           NaN           NaN           NaN   \n",
       "211  South Africa  ZAF  7.575397e+09  7.972997e+09  8.497997e+09   \n",
       "212        Zambia  ZMB  7.130000e+08  6.962857e+08  6.931429e+08   \n",
       "213      Zimbabwe  ZWE  1.052990e+09  1.096647e+09  1.117602e+09   \n",
       "\n",
       "             1963          1964          1965          1966          1967  \\\n",
       "0             NaN           NaN           NaN           NaN           NaN   \n",
       "1    7.511112e+08  8.000000e+08  1.006667e+09  1.400000e+09  1.673333e+09   \n",
       "2             NaN           NaN           NaN           NaN           NaN   \n",
       "3             NaN           NaN           NaN           NaN           NaN   \n",
       "4             NaN           NaN           NaN           NaN           NaN   \n",
       "..            ...           ...           ...           ...           ...   \n",
       "209           NaN           NaN           NaN           NaN           NaN   \n",
       "210           NaN           NaN           NaN           NaN           NaN   \n",
       "211  9.423396e+09  1.037400e+10  1.133440e+10  1.235500e+10  1.377739e+10   \n",
       "212  7.187143e+08  8.394286e+08  1.082857e+09  1.264286e+09  1.368000e+09   \n",
       "213  1.159512e+09  1.217138e+09  1.311436e+09  1.281750e+09  1.397002e+09   \n",
       "\n",
       "     ...          2016          2017          2018          2019  \\\n",
       "0    ...  2.983637e+09  3.092430e+09  3.202189e+09           NaN   \n",
       "1    ...  1.811656e+10  1.875347e+10  1.805323e+10  1.879945e+10   \n",
       "2    ...  1.011239e+11  1.221238e+11  1.013532e+11  8.941719e+10   \n",
       "3    ...  1.186120e+10  1.301969e+10  1.515643e+10  1.540024e+10   \n",
       "4    ...  2.896679e+09  3.000181e+09  3.218316e+09  3.155065e+09   \n",
       "..   ...           ...           ...           ...           ...   \n",
       "209  ...  7.994939e+08  8.320256e+08  8.212869e+08  8.520071e+08   \n",
       "210  ...  3.131737e+10  2.684013e+10  2.160614e+10           NaN   \n",
       "211  ...  3.235855e+11  3.814488e+11  4.048421e+11  3.879346e+11   \n",
       "212  ...  2.095841e+10  2.587360e+10  2.631159e+10  2.330867e+10   \n",
       "213  ...  2.054868e+10  1.758489e+10  1.811554e+10  1.928429e+10   \n",
       "\n",
       "             2020  Unnamed: 65  CCA3  Country/Territory           Capital  \\\n",
       "0             NaN          NaN   ABW              Aruba        Oranjestad   \n",
       "1    2.011614e+10          NaN   AFG        Afghanistan             Kabul   \n",
       "2    5.837598e+10          NaN   AGO             Angola            Luanda   \n",
       "3    1.488763e+10          NaN   ALB            Albania            Tirana   \n",
       "4             NaN          NaN   AND            Andorra  Andorra la Vella   \n",
       "..            ...          ...   ...                ...               ...   \n",
       "209  8.071008e+08          NaN   WSM              Samoa              Apia   \n",
       "210           NaN          NaN   YEM              Yemen             Sanaa   \n",
       "211  3.354421e+11          NaN   ZAF       South Africa          Pretoria   \n",
       "212  1.811063e+10          NaN   ZMB             Zambia            Lusaka   \n",
       "213  1.805117e+10          NaN   ZWE           Zimbabwe            Harare   \n",
       "\n",
       "         Continent  \n",
       "0    North America  \n",
       "1             Asia  \n",
       "2           Africa  \n",
       "3           Europe  \n",
       "4           Europe  \n",
       "..             ...  \n",
       "209        Oceania  \n",
       "210           Asia  \n",
       "211         Africa  \n",
       "212         Africa  \n",
       "213         Africa  \n",
       "\n",
       "[214 rows x 68 columns]"
      ]
     },
     "execution_count": 85,
     "metadata": {},
     "output_type": "execute_result"
    }
   ],
   "source": [
    "merged_total"
   ]
  },
  {
   "cell_type": "code",
   "execution_count": 90,
   "id": "fe841580",
   "metadata": {},
   "outputs": [],
   "source": [
    "total_con= merged_total.groupby('Continent').sum()\n",
    "total_con=total_con.drop(columns=[\"Unnamed: 65\"])\n",
    "total_con.loc[\"World\"]=total_con.sum()"
   ]
  },
  {
   "cell_type": "code",
   "execution_count": 91,
   "id": "6e7a4ca6",
   "metadata": {},
   "outputs": [
    {
     "data": {
      "text/html": [
       "<div>\n",
       "<style scoped>\n",
       "    .dataframe tbody tr th:only-of-type {\n",
       "        vertical-align: middle;\n",
       "    }\n",
       "\n",
       "    .dataframe tbody tr th {\n",
       "        vertical-align: top;\n",
       "    }\n",
       "\n",
       "    .dataframe thead th {\n",
       "        text-align: right;\n",
       "    }\n",
       "</style>\n",
       "<table border=\"1\" class=\"dataframe\">\n",
       "  <thead>\n",
       "    <tr style=\"text-align: right;\">\n",
       "      <th></th>\n",
       "      <th>1960</th>\n",
       "      <th>1961</th>\n",
       "      <th>1962</th>\n",
       "      <th>1963</th>\n",
       "      <th>1964</th>\n",
       "      <th>1965</th>\n",
       "      <th>1966</th>\n",
       "      <th>1967</th>\n",
       "      <th>1968</th>\n",
       "      <th>1969</th>\n",
       "      <th>...</th>\n",
       "      <th>2011</th>\n",
       "      <th>2012</th>\n",
       "      <th>2013</th>\n",
       "      <th>2014</th>\n",
       "      <th>2015</th>\n",
       "      <th>2016</th>\n",
       "      <th>2017</th>\n",
       "      <th>2018</th>\n",
       "      <th>2019</th>\n",
       "      <th>2020</th>\n",
       "    </tr>\n",
       "    <tr>\n",
       "      <th>Continent</th>\n",
       "      <th></th>\n",
       "      <th></th>\n",
       "      <th></th>\n",
       "      <th></th>\n",
       "      <th></th>\n",
       "      <th></th>\n",
       "      <th></th>\n",
       "      <th></th>\n",
       "      <th></th>\n",
       "      <th></th>\n",
       "      <th></th>\n",
       "      <th></th>\n",
       "      <th></th>\n",
       "      <th></th>\n",
       "      <th></th>\n",
       "      <th></th>\n",
       "      <th></th>\n",
       "      <th></th>\n",
       "      <th></th>\n",
       "      <th></th>\n",
       "      <th></th>\n",
       "    </tr>\n",
       "  </thead>\n",
       "  <tbody>\n",
       "    <tr>\n",
       "      <th>Africa</th>\n",
       "      <td>3.115239e+10</td>\n",
       "      <td>3.204197e+10</td>\n",
       "      <td>3.427327e+10</td>\n",
       "      <td>3.960707e+10</td>\n",
       "      <td>3.915484e+10</td>\n",
       "      <td>4.927718e+10</td>\n",
       "      <td>5.247463e+10</td>\n",
       "      <td>5.316458e+10</td>\n",
       "      <td>5.710101e+10</td>\n",
       "      <td>6.469909e+10</td>\n",
       "      <td>...</td>\n",
       "      <td>2.231300e+12</td>\n",
       "      <td>2.387881e+12</td>\n",
       "      <td>2.503345e+12</td>\n",
       "      <td>2.570345e+12</td>\n",
       "      <td>2.349855e+12</td>\n",
       "      <td>2.226488e+12</td>\n",
       "      <td>2.261143e+12</td>\n",
       "      <td>2.389491e+12</td>\n",
       "      <td>2.489151e+12</td>\n",
       "      <td>2.393310e+12</td>\n",
       "    </tr>\n",
       "    <tr>\n",
       "      <th>Asia</th>\n",
       "      <td>1.919980e+11</td>\n",
       "      <td>1.896591e+11</td>\n",
       "      <td>1.980217e+11</td>\n",
       "      <td>2.223071e+11</td>\n",
       "      <td>2.551124e+11</td>\n",
       "      <td>2.839136e+11</td>\n",
       "      <td>2.990732e+11</td>\n",
       "      <td>3.301822e+11</td>\n",
       "      <td>3.699483e+11</td>\n",
       "      <td>4.217022e+11</td>\n",
       "      <td>...</td>\n",
       "      <td>2.379553e+13</td>\n",
       "      <td>2.527996e+13</td>\n",
       "      <td>2.558097e+13</td>\n",
       "      <td>2.654241e+13</td>\n",
       "      <td>2.619506e+13</td>\n",
       "      <td>2.727015e+13</td>\n",
       "      <td>2.924122e+13</td>\n",
       "      <td>3.138095e+13</td>\n",
       "      <td>3.210315e+13</td>\n",
       "      <td>3.152309e+13</td>\n",
       "    </tr>\n",
       "    <tr>\n",
       "      <th>Europe</th>\n",
       "      <td>2.645978e+11</td>\n",
       "      <td>2.879909e+11</td>\n",
       "      <td>3.141676e+11</td>\n",
       "      <td>3.466600e+11</td>\n",
       "      <td>3.837123e+11</td>\n",
       "      <td>4.180211e+11</td>\n",
       "      <td>4.651178e+11</td>\n",
       "      <td>5.004431e+11</td>\n",
       "      <td>5.223602e+11</td>\n",
       "      <td>5.776541e+11</td>\n",
       "      <td>...</td>\n",
       "      <td>2.205982e+13</td>\n",
       "      <td>2.114946e+13</td>\n",
       "      <td>2.204101e+13</td>\n",
       "      <td>2.237718e+13</td>\n",
       "      <td>1.923572e+13</td>\n",
       "      <td>1.923034e+13</td>\n",
       "      <td>2.043081e+13</td>\n",
       "      <td>2.206446e+13</td>\n",
       "      <td>2.178186e+13</td>\n",
       "      <td>2.101109e+13</td>\n",
       "    </tr>\n",
       "    <tr>\n",
       "      <th>North America</th>\n",
       "      <td>6.036295e+11</td>\n",
       "      <td>6.256168e+11</td>\n",
       "      <td>6.704181e+11</td>\n",
       "      <td>7.092592e+11</td>\n",
       "      <td>7.646441e+11</td>\n",
       "      <td>8.311000e+11</td>\n",
       "      <td>9.123543e+11</td>\n",
       "      <td>9.668193e+11</td>\n",
       "      <td>1.057441e+12</td>\n",
       "      <td>1.146610e+12</td>\n",
       "      <td>...</td>\n",
       "      <td>1.901496e+13</td>\n",
       "      <td>1.975089e+13</td>\n",
       "      <td>2.045294e+13</td>\n",
       "      <td>2.121809e+13</td>\n",
       "      <td>2.156260e+13</td>\n",
       "      <td>2.196733e+13</td>\n",
       "      <td>2.299333e+13</td>\n",
       "      <td>2.422093e+13</td>\n",
       "      <td>2.512103e+13</td>\n",
       "      <td>2.430420e+13</td>\n",
       "    </tr>\n",
       "    <tr>\n",
       "      <th>Oceania</th>\n",
       "      <td>2.443547e+10</td>\n",
       "      <td>2.571494e+10</td>\n",
       "      <td>2.638431e+10</td>\n",
       "      <td>2.858429e+10</td>\n",
       "      <td>3.152059e+10</td>\n",
       "      <td>3.245899e+10</td>\n",
       "      <td>3.409507e+10</td>\n",
       "      <td>3.743659e+10</td>\n",
       "      <td>3.905288e+10</td>\n",
       "      <td>4.371575e+10</td>\n",
       "      <td>...</td>\n",
       "      <td>1.607803e+12</td>\n",
       "      <td>1.767762e+12</td>\n",
       "      <td>1.813190e+12</td>\n",
       "      <td>1.718143e+12</td>\n",
       "      <td>1.574552e+12</td>\n",
       "      <td>1.441141e+12</td>\n",
       "      <td>1.582587e+12</td>\n",
       "      <td>1.692067e+12</td>\n",
       "      <td>1.656686e+12</td>\n",
       "      <td>1.579289e+12</td>\n",
       "    </tr>\n",
       "    <tr>\n",
       "      <th>South America</th>\n",
       "      <td>2.244765e+10</td>\n",
       "      <td>4.151633e+10</td>\n",
       "      <td>7.027189e+10</td>\n",
       "      <td>6.956302e+10</td>\n",
       "      <td>7.606944e+10</td>\n",
       "      <td>8.188539e+10</td>\n",
       "      <td>9.010253e+10</td>\n",
       "      <td>8.950635e+10</td>\n",
       "      <td>9.528766e+10</td>\n",
       "      <td>1.070727e+11</td>\n",
       "      <td>...</td>\n",
       "      <td>4.414832e+12</td>\n",
       "      <td>4.431803e+12</td>\n",
       "      <td>4.488811e+12</td>\n",
       "      <td>4.548871e+12</td>\n",
       "      <td>3.355350e+12</td>\n",
       "      <td>3.313391e+12</td>\n",
       "      <td>3.760444e+12</td>\n",
       "      <td>3.557472e+12</td>\n",
       "      <td>3.418343e+12</td>\n",
       "      <td>2.793449e+12</td>\n",
       "    </tr>\n",
       "    <tr>\n",
       "      <th>World</th>\n",
       "      <td>1.138261e+12</td>\n",
       "      <td>1.202540e+12</td>\n",
       "      <td>1.313537e+12</td>\n",
       "      <td>1.415981e+12</td>\n",
       "      <td>1.550214e+12</td>\n",
       "      <td>1.696656e+12</td>\n",
       "      <td>1.853218e+12</td>\n",
       "      <td>1.977552e+12</td>\n",
       "      <td>2.141191e+12</td>\n",
       "      <td>2.361454e+12</td>\n",
       "      <td>...</td>\n",
       "      <td>7.312425e+13</td>\n",
       "      <td>7.476776e+13</td>\n",
       "      <td>7.688027e+13</td>\n",
       "      <td>7.897505e+13</td>\n",
       "      <td>7.427314e+13</td>\n",
       "      <td>7.544884e+13</td>\n",
       "      <td>8.026954e+13</td>\n",
       "      <td>8.530537e+13</td>\n",
       "      <td>8.657021e+13</td>\n",
       "      <td>8.360443e+13</td>\n",
       "    </tr>\n",
       "  </tbody>\n",
       "</table>\n",
       "<p>7 rows × 61 columns</p>\n",
       "</div>"
      ],
      "text/plain": [
       "                       1960          1961          1962          1963  \\\n",
       "Continent                                                               \n",
       "Africa         3.115239e+10  3.204197e+10  3.427327e+10  3.960707e+10   \n",
       "Asia           1.919980e+11  1.896591e+11  1.980217e+11  2.223071e+11   \n",
       "Europe         2.645978e+11  2.879909e+11  3.141676e+11  3.466600e+11   \n",
       "North America  6.036295e+11  6.256168e+11  6.704181e+11  7.092592e+11   \n",
       "Oceania        2.443547e+10  2.571494e+10  2.638431e+10  2.858429e+10   \n",
       "South America  2.244765e+10  4.151633e+10  7.027189e+10  6.956302e+10   \n",
       "World          1.138261e+12  1.202540e+12  1.313537e+12  1.415981e+12   \n",
       "\n",
       "                       1964          1965          1966          1967  \\\n",
       "Continent                                                               \n",
       "Africa         3.915484e+10  4.927718e+10  5.247463e+10  5.316458e+10   \n",
       "Asia           2.551124e+11  2.839136e+11  2.990732e+11  3.301822e+11   \n",
       "Europe         3.837123e+11  4.180211e+11  4.651178e+11  5.004431e+11   \n",
       "North America  7.646441e+11  8.311000e+11  9.123543e+11  9.668193e+11   \n",
       "Oceania        3.152059e+10  3.245899e+10  3.409507e+10  3.743659e+10   \n",
       "South America  7.606944e+10  8.188539e+10  9.010253e+10  8.950635e+10   \n",
       "World          1.550214e+12  1.696656e+12  1.853218e+12  1.977552e+12   \n",
       "\n",
       "                       1968          1969  ...          2011          2012  \\\n",
       "Continent                                  ...                               \n",
       "Africa         5.710101e+10  6.469909e+10  ...  2.231300e+12  2.387881e+12   \n",
       "Asia           3.699483e+11  4.217022e+11  ...  2.379553e+13  2.527996e+13   \n",
       "Europe         5.223602e+11  5.776541e+11  ...  2.205982e+13  2.114946e+13   \n",
       "North America  1.057441e+12  1.146610e+12  ...  1.901496e+13  1.975089e+13   \n",
       "Oceania        3.905288e+10  4.371575e+10  ...  1.607803e+12  1.767762e+12   \n",
       "South America  9.528766e+10  1.070727e+11  ...  4.414832e+12  4.431803e+12   \n",
       "World          2.141191e+12  2.361454e+12  ...  7.312425e+13  7.476776e+13   \n",
       "\n",
       "                       2013          2014          2015          2016  \\\n",
       "Continent                                                               \n",
       "Africa         2.503345e+12  2.570345e+12  2.349855e+12  2.226488e+12   \n",
       "Asia           2.558097e+13  2.654241e+13  2.619506e+13  2.727015e+13   \n",
       "Europe         2.204101e+13  2.237718e+13  1.923572e+13  1.923034e+13   \n",
       "North America  2.045294e+13  2.121809e+13  2.156260e+13  2.196733e+13   \n",
       "Oceania        1.813190e+12  1.718143e+12  1.574552e+12  1.441141e+12   \n",
       "South America  4.488811e+12  4.548871e+12  3.355350e+12  3.313391e+12   \n",
       "World          7.688027e+13  7.897505e+13  7.427314e+13  7.544884e+13   \n",
       "\n",
       "                       2017          2018          2019          2020  \n",
       "Continent                                                              \n",
       "Africa         2.261143e+12  2.389491e+12  2.489151e+12  2.393310e+12  \n",
       "Asia           2.924122e+13  3.138095e+13  3.210315e+13  3.152309e+13  \n",
       "Europe         2.043081e+13  2.206446e+13  2.178186e+13  2.101109e+13  \n",
       "North America  2.299333e+13  2.422093e+13  2.512103e+13  2.430420e+13  \n",
       "Oceania        1.582587e+12  1.692067e+12  1.656686e+12  1.579289e+12  \n",
       "South America  3.760444e+12  3.557472e+12  3.418343e+12  2.793449e+12  \n",
       "World          8.026954e+13  8.530537e+13  8.657021e+13  8.360443e+13  \n",
       "\n",
       "[7 rows x 61 columns]"
      ]
     },
     "execution_count": 91,
     "metadata": {},
     "output_type": "execute_result"
    }
   ],
   "source": [
    "total_con"
   ]
  },
  {
   "cell_type": "code",
   "execution_count": 95,
   "id": "b9fee549",
   "metadata": {},
   "outputs": [
    {
     "data": {
      "application/vnd.plotly.v1+json": {
       "config": {
        "plotlyServerURL": "https://plot.ly"
       },
       "data": [
        {
         "hovertemplate": "variable=wide_variable_0<br>x=%{x}<br>value=%{y}<extra></extra>",
         "legendgroup": "wide_variable_0",
         "line": {
          "color": "#636efa",
          "dash": "solid"
         },
         "marker": {
          "symbol": "circle"
         },
         "mode": "lines",
         "name": "Africa",
         "orientation": "v",
         "showlegend": true,
         "type": "scatter",
         "x": [
          "1960",
          "1961",
          "1962",
          "1963",
          "1964",
          "1965",
          "1966",
          "1967",
          "1968",
          "1969",
          "1970",
          "1971",
          "1972",
          "1973",
          "1974",
          "1975",
          "1976",
          "1977",
          "1978",
          "1979",
          "1980",
          "1981",
          "1982",
          "1983",
          "1984",
          "1985",
          "1986",
          "1987",
          "1988",
          "1989",
          "1990",
          "1991",
          "1992",
          "1993",
          "1994",
          "1995",
          "1996",
          "1997",
          "1998",
          "1999",
          "2000",
          "2001",
          "2002",
          "2003",
          "2004",
          "2005",
          "2006",
          "2007",
          "2008",
          "2009",
          "2010",
          "2011",
          "2012",
          "2013",
          "2014",
          "2015",
          "2016",
          "2017",
          "2018",
          "2019",
          "2020"
         ],
         "xaxis": "x",
         "y": [
          31152387259.934128,
          32041968649.284763,
          34273268744.22939,
          39607071332.70722,
          39154839186.37399,
          49277176123.793816,
          52474626569.51992,
          53164579411.12916,
          57101006960.30187,
          64699086425.82705,
          76010197696.0049,
          78422651243.60735,
          89694582606.2323,
          112624728540.1306,
          144298750661.31653,
          162666118941.37207,
          178227366533.08142,
          197992725141.34573,
          222363243854.49985,
          269130858823.27496,
          348696926931.54254,
          454333089438.0257,
          431522931985.2487,
          394316069338.48224,
          364086100389.615,
          361116919902.64136,
          383135771690.2015,
          423345515345.6152,
          427308590262.9576,
          427661655262.1815,
          509977812652.359,
          489143729929.2377,
          502424700232.9279,
          496841137128.9052,
          493482696346.64795,
          555351634948.6213,
          592239375501.5242,
          618963274769.5067,
          612711642226.6183,
          632581253507.0326,
          670863859939.9375,
          647934637069.8558,
          663475473984.1447,
          802955299812.0884,
          970559036839.0253,
          1145293357978.607,
          1337882365800.2039,
          1558001100376.0833,
          1830746079570.1064,
          1742961611815.398,
          2030488304211.7705,
          2231299801159.9424,
          2387881222551.6567,
          2503344939023.9966,
          2570345444642.3794,
          2349854622648.5986,
          2226487574171.1123,
          2261142654350.8506,
          2389491171561.225,
          2489150648383.987,
          2393309780189.7695
         ],
         "yaxis": "y"
        },
        {
         "mode": "lines",
         "name": "Asia",
         "type": "scatter",
         "x": [
          "1960",
          "1961",
          "1962",
          "1963",
          "1964",
          "1965",
          "1966",
          "1967",
          "1968",
          "1969",
          "1970",
          "1971",
          "1972",
          "1973",
          "1974",
          "1975",
          "1976",
          "1977",
          "1978",
          "1979",
          "1980",
          "1981",
          "1982",
          "1983",
          "1984",
          "1985",
          "1986",
          "1987",
          "1988",
          "1989",
          "1990",
          "1991",
          "1992",
          "1993",
          "1994",
          "1995",
          "1996",
          "1997",
          "1998",
          "1999",
          "2000",
          "2001",
          "2002",
          "2003",
          "2004",
          "2005",
          "2006",
          "2007",
          "2008",
          "2009",
          "2010",
          "2011",
          "2012",
          "2013",
          "2014",
          "2015",
          "2016",
          "2017",
          "2018",
          "2019",
          "2020"
         ],
         "y": [
          191998008874.58453,
          189659091135.62866,
          198021711842.64142,
          222307105030.74487,
          255112426892.72635,
          283913646441.96124,
          299073208151.1169,
          330182193397.9327,
          369948329618.37775,
          421702188723.998,
          478003593755.0626,
          527886337532.62695,
          637945390537.0117,
          832882661166.692,
          1014352921051.3303,
          1128068230141.85,
          1257485821288.9514,
          1503231599752.8792,
          1841522513002.8962,
          2072150655612.2288,
          2299060138516.437,
          2487399766001.4717,
          2424003085644.4707,
          2573515738164.1284,
          2702775786538.124,
          2882349596979.402,
          3607909392491.35,
          4096020782793.176,
          4770366168241.954,
          4899714171357.68,
          5360864216543.716,
          5586745315147.416,
          6104205159427.489,
          6884623604779.435,
          7737543999993.231,
          8910956899199.297,
          8686616185233.395,
          8359148375665.71,
          7684718669030.099,
          8550812395157.165,
          9287158212906.367,
          8716210749385.106,
          8891350333584.367,
          9855364308281.188,
          11130191002814.494,
          12146221667400.465,
          13165605430661.297,
          15065938338417.254,
          17368011575122.324,
          17718949285549.668,
          20751382357995.645,
          23795532954043.086,
          25279964681557.66,
          25580973394676.45,
          26542410973291.824,
          26195058941805.29,
          27270149289976.63,
          29241219617566.742,
          31380949145535.37,
          32103148307504.555,
          31523086080168.895
         ]
        },
        {
         "mode": "lines",
         "name": "Europe",
         "type": "scatter",
         "x": [
          "1960",
          "1961",
          "1962",
          "1963",
          "1964",
          "1965",
          "1966",
          "1967",
          "1968",
          "1969",
          "1970",
          "1971",
          "1972",
          "1973",
          "1974",
          "1975",
          "1976",
          "1977",
          "1978",
          "1979",
          "1980",
          "1981",
          "1982",
          "1983",
          "1984",
          "1985",
          "1986",
          "1987",
          "1988",
          "1989",
          "1990",
          "1991",
          "1992",
          "1993",
          "1994",
          "1995",
          "1996",
          "1997",
          "1998",
          "1999",
          "2000",
          "2001",
          "2002",
          "2003",
          "2004",
          "2005",
          "2006",
          "2007",
          "2008",
          "2009",
          "2010",
          "2011",
          "2012",
          "2013",
          "2014",
          "2015",
          "2016",
          "2017",
          "2018",
          "2019",
          "2020"
         ],
         "y": [
          264597792262.86957,
          287990879574.9518,
          314167551756.39825,
          346659980711.93524,
          383712290544.35223,
          418021111301.4493,
          465117849059.1304,
          500443090035.6467,
          522360177108.5094,
          577654118607.3087,
          837279614007.0474,
          947246447501.3867,
          1134037058893.39,
          1440585647911.243,
          1621239776041.994,
          1891425863660.8494,
          1961256478436.764,
          2222144493810.3154,
          2718601232338.5464,
          3316052927763.2153,
          3931034291658.0557,
          3488995460894.1787,
          3366207936068.6484,
          3266465446479.5215,
          3140670732528.7354,
          3244946095350.9136,
          4444996906660.841,
          5601474983523.491,
          6795664245126.9375,
          6871305811621.236,
          8533133548481.485,
          8755269264775.702,
          9489328999334.293,
          8680866026864.494,
          9161586149326.227,
          10647179909265.135,
          10857519590502.951,
          10271516753763,
          10458532156923.293,
          10361487560675.854,
          9719343929375.889,
          9899452839696.553,
          10800087011705.99,
          13132731618157.105,
          15258196657681.87,
          16157572989082.518,
          17453942069393.17,
          20338003627348.68,
          22270948439709.93,
          19608835842133.598,
          19921303024221.562,
          22059816999629.906,
          21149458370718.48,
          22041009234662.867,
          22377184175012.11,
          19235724584445.434,
          19230341421237.87,
          20430810935003.914,
          22064457258707.625,
          21781855157409.746,
          21011092748928.09
         ]
        },
        {
         "mode": "lines",
         "name": "North America",
         "type": "scatter",
         "x": [
          "1960",
          "1961",
          "1962",
          "1963",
          "1964",
          "1965",
          "1966",
          "1967",
          "1968",
          "1969",
          "1970",
          "1971",
          "1972",
          "1973",
          "1974",
          "1975",
          "1976",
          "1977",
          "1978",
          "1979",
          "1980",
          "1981",
          "1982",
          "1983",
          "1984",
          "1985",
          "1986",
          "1987",
          "1988",
          "1989",
          "1990",
          "1991",
          "1992",
          "1993",
          "1994",
          "1995",
          "1996",
          "1997",
          "1998",
          "1999",
          "2000",
          "2001",
          "2002",
          "2003",
          "2004",
          "2005",
          "2006",
          "2007",
          "2008",
          "2009",
          "2010",
          "2011",
          "2012",
          "2013",
          "2014",
          "2015",
          "2016",
          "2017",
          "2018",
          "2019",
          "2020"
         ],
         "y": [
          603629470481.6421,
          625616779926.3358,
          670418147639.9244,
          709259203179.2367,
          764644120200.3643,
          831100023310.1027,
          912354334323.8207,
          966819346927.6654,
          1057440717440.423,
          1146610469660.6648,
          1219244695544.0244,
          1328650856185.5088,
          1466184221532.2485,
          1645667845251.7107,
          1817482698840.8257,
          1991927280409.4814,
          2218823638293.5806,
          2431777755973.8877,
          2737559636662.0503,
          3077382329882.9585,
          3419036127066.6245,
          3863350775785.9536,
          3932896972202.418,
          4226585890809.1133,
          4680901880825.312,
          4997104286973.587,
          5192306687591.192,
          5540389850855.562,
          6036114658938.907,
          6542119002276.834,
          6938895195642.6045,
          7207173846190.992,
          7606521729128.114,
          8075824726084.63,
          8550147238406.208,
          8775919763333.337,
          9288272692021.045,
          9923359158566.387,
          10429379217209.12,
          11125605608239.682,
          11937994358970.936,
          12323137144213.156,
          12729112844403.264,
          13348476086361.012,
          14308844453041.318,
          15410990973621.121,
          16469540078824.867,
          17371314396453.89,
          17809310101515.152,
          17150543159923.027,
          18123756775869.824,
          19014962930551.445,
          19750888924750.098,
          20452943783992.477,
          21218090769160.477,
          21562604306511.168,
          21967327953987.36,
          22993332566312.5,
          24220933496499.754,
          25121028887029.9,
          24304202086160.234
         ]
        },
        {
         "mode": "lines",
         "name": "Oceania",
         "type": "scatter",
         "x": [
          "1960",
          "1961",
          "1962",
          "1963",
          "1964",
          "1965",
          "1966",
          "1967",
          "1968",
          "1969",
          "1970",
          "1971",
          "1972",
          "1973",
          "1974",
          "1975",
          "1976",
          "1977",
          "1978",
          "1979",
          "1980",
          "1981",
          "1982",
          "1983",
          "1984",
          "1985",
          "1986",
          "1987",
          "1988",
          "1989",
          "1990",
          "1991",
          "1992",
          "1993",
          "1994",
          "1995",
          "1996",
          "1997",
          "1998",
          "1999",
          "2000",
          "2001",
          "2002",
          "2003",
          "2004",
          "2005",
          "2006",
          "2007",
          "2008",
          "2009",
          "2010",
          "2011",
          "2012",
          "2013",
          "2014",
          "2015",
          "2016",
          "2017",
          "2018",
          "2019",
          "2020"
         ],
         "y": [
          24435466121.295258,
          25714939201.513794,
          26384310449.355057,
          28584286134.798946,
          31520586683.290607,
          32458989994.940746,
          34095065506.398952,
          37436594208.39883,
          39052882457.963844,
          43715746243.549835,
          42829778384.51075,
          54874846334.27957,
          63686380969.33622,
          79432851939.9269,
          106311412709.19846,
          113905080540.66753,
          122597561082.26297,
          129991673063.11366,
          141893063132.13522,
          161606179912.12048,
          179966356998.3732,
          207799960198.68185,
          224588820417.11734,
          208145577759.5718,
          221750789682.0097,
          211709041464.5139,
          221057762781.14682,
          238831260749.57104,
          291582030314.97034,
          354043893656.2265,
          367986442415.6315,
          380733068173.70294,
          380596802867.5935,
          373156644373.9749,
          393441564222.7257,
          447613445720.14557,
          487728259658.10236,
          516981454417.3757,
          469995906503.88184,
          462350729152.361,
          482008377260.47253,
          442706150013.43854,
          476154252589.4716,
          572334239882.2783,
          737055116918.4087,
          830903807852.7732,
          884733120839.7719,
          1020572100975.1749,
          1220776398230.1204,
          1081117045219.4117,
          1329810648336.4006,
          1607802813492.921,
          1767761834303.7783,
          1813189810194.4065,
          1718143269469.0386,
          1574551704862.2512,
          1441140557673.3735,
          1582586793813.556,
          1692066937318.3127,
          1656686374637.541,
          1579289407597.3572
         ]
        },
        {
         "mode": "lines",
         "name": "South America",
         "type": "scatter",
         "x": [
          "1960",
          "1961",
          "1962",
          "1963",
          "1964",
          "1965",
          "1966",
          "1967",
          "1968",
          "1969",
          "1970",
          "1971",
          "1972",
          "1973",
          "1974",
          "1975",
          "1976",
          "1977",
          "1978",
          "1979",
          "1980",
          "1981",
          "1982",
          "1983",
          "1984",
          "1985",
          "1986",
          "1987",
          "1988",
          "1989",
          "1990",
          "1991",
          "1992",
          "1993",
          "1994",
          "1995",
          "1996",
          "1997",
          "1998",
          "1999",
          "2000",
          "2001",
          "2002",
          "2003",
          "2004",
          "2005",
          "2006",
          "2007",
          "2008",
          "2009",
          "2010",
          "2011",
          "2012",
          "2013",
          "2014",
          "2015",
          "2016",
          "2017",
          "2018",
          "2019",
          "2020"
         ],
         "y": [
          22447651125.23227,
          41516333467.88338,
          70271888494.91496,
          69563020655.4542,
          76069443160.11826,
          81885390633.37502,
          90102529245.43228,
          89506353350.11588,
          95287662153.99355,
          107072690112.55084,
          116383795064.14091,
          130048422166.23897,
          144859567149.393,
          202079309548.86023,
          265738101201.25897,
          262851239901.52695,
          295538992143.6375,
          338942028555.99786,
          373820438123.8672,
          435115444018.4069,
          492461138860.7844,
          541382574172.59784,
          550958332304.7201,
          472346586133.35925,
          436653922146.59644,
          462275428131.0608,
          527156915247.1221,
          552465259041.4576,
          607152488943.263,
          591842486299.947,
          724047472642.0206,
          748476790540.8883,
          802279903573.2793,
          863487059098.6224,
          1080004439421.4641,
          1384861059807.5562,
          1488065601899.4414,
          1583366714773.0034,
          1562467331749.5874,
          1255021648622.152,
          1346349898603.999,
          1236357150349.8193,
          981967122800.9536,
          1060726670713.9689,
          1300409043814.7046,
          1662300329462.9246,
          2024980293480.9583,
          2508029930922.1606,
          3055720731756.667,
          2996287992227.8804,
          3842816052558.1167,
          4414831716489.62,
          4431802506171.203,
          4488810933866.612,
          4548870662825.059,
          3355349801289.4966,
          3313390907027.1025,
          3760444366183.779,
          3557472083009.1665,
          3418342595444.241,
          2793448706806.5605
         ]
        },
        {
         "mode": "lines",
         "name": "World",
         "type": "scatter",
         "x": [
          "1960",
          "1961",
          "1962",
          "1963",
          "1964",
          "1965",
          "1966",
          "1967",
          "1968",
          "1969",
          "1970",
          "1971",
          "1972",
          "1973",
          "1974",
          "1975",
          "1976",
          "1977",
          "1978",
          "1979",
          "1980",
          "1981",
          "1982",
          "1983",
          "1984",
          "1985",
          "1986",
          "1987",
          "1988",
          "1989",
          "1990",
          "1991",
          "1992",
          "1993",
          "1994",
          "1995",
          "1996",
          "1997",
          "1998",
          "1999",
          "2000",
          "2001",
          "2002",
          "2003",
          "2004",
          "2005",
          "2006",
          "2007",
          "2008",
          "2009",
          "2010",
          "2011",
          "2012",
          "2013",
          "2014",
          "2015",
          "2016",
          "2017",
          "2018",
          "2019",
          "2020"
         ],
         "y": [
          1138260776125.5576,
          1202539991955.5981,
          1313536878927.4634,
          1415980667044.877,
          1550213706667.2256,
          1696656337805.6228,
          1853217612855.4192,
          1977552157330.889,
          2141190775739.5693,
          2361454299773.8994,
          2769751674450.791,
          3067129560963.6484,
          3536407201687.612,
          4313273044358.5635,
          4969423660505.924,
          5550843813595.748,
          6033929857778.277,
          6824080276297.539,
          8035760127113.994,
          9331438396012.205,
          10670254980031.818,
          11043261626490.908,
          10930178078622.623,
          11141375308684.178,
          11546839212110.39,
          12159501368802.117,
          14376563436461.855,
          16452527652308.871,
          18928188181828.99,
          19686687020474.1,
          22434904688377.816,
          23167542014757.938,
          24885357294563.695,
          25374799198330.062,
          27416206087716.504,
          30721882712274.09,
          31400441704816.457,
          31273335731954.984,
          31217804923642.594,
          32387859195354.246,
          33443718637057.605,
          33265798670727.93,
          34542147039068.19,
          38772588223207.64,
          43705255311109.82,
          47353283125398.41,
          51336683359000.27,
          57861859494493.24,
          63555513325904.3,
          60298694936868.984,
          65999557163193.31,
          73124247215366.92,
          74767757540052.88,
          76880272096416.8,
          78975045294400.88,
          74273143961562.23,
          75448837704073.45,
          80269536933231.34,
          85305370092631.45,
          86570211970409.97,
          83604428809850.9
         ]
        }
       ],
       "layout": {
        "height": 500,
        "legend": {
         "title": {
          "text": ""
         },
         "tracegroupgap": 0
        },
        "template": {
         "data": {
          "bar": [
           {
            "error_x": {
             "color": "#f2f5fa"
            },
            "error_y": {
             "color": "#f2f5fa"
            },
            "marker": {
             "line": {
              "color": "rgb(17,17,17)",
              "width": 0.5
             },
             "pattern": {
              "fillmode": "overlay",
              "size": 10,
              "solidity": 0.2
             }
            },
            "type": "bar"
           }
          ],
          "barpolar": [
           {
            "marker": {
             "line": {
              "color": "rgb(17,17,17)",
              "width": 0.5
             },
             "pattern": {
              "fillmode": "overlay",
              "size": 10,
              "solidity": 0.2
             }
            },
            "type": "barpolar"
           }
          ],
          "carpet": [
           {
            "aaxis": {
             "endlinecolor": "#A2B1C6",
             "gridcolor": "#506784",
             "linecolor": "#506784",
             "minorgridcolor": "#506784",
             "startlinecolor": "#A2B1C6"
            },
            "baxis": {
             "endlinecolor": "#A2B1C6",
             "gridcolor": "#506784",
             "linecolor": "#506784",
             "minorgridcolor": "#506784",
             "startlinecolor": "#A2B1C6"
            },
            "type": "carpet"
           }
          ],
          "choropleth": [
           {
            "colorbar": {
             "outlinewidth": 0,
             "ticks": ""
            },
            "type": "choropleth"
           }
          ],
          "contour": [
           {
            "colorbar": {
             "outlinewidth": 0,
             "ticks": ""
            },
            "colorscale": [
             [
              0,
              "#0d0887"
             ],
             [
              0.1111111111111111,
              "#46039f"
             ],
             [
              0.2222222222222222,
              "#7201a8"
             ],
             [
              0.3333333333333333,
              "#9c179e"
             ],
             [
              0.4444444444444444,
              "#bd3786"
             ],
             [
              0.5555555555555556,
              "#d8576b"
             ],
             [
              0.6666666666666666,
              "#ed7953"
             ],
             [
              0.7777777777777778,
              "#fb9f3a"
             ],
             [
              0.8888888888888888,
              "#fdca26"
             ],
             [
              1,
              "#f0f921"
             ]
            ],
            "type": "contour"
           }
          ],
          "contourcarpet": [
           {
            "colorbar": {
             "outlinewidth": 0,
             "ticks": ""
            },
            "type": "contourcarpet"
           }
          ],
          "heatmap": [
           {
            "colorbar": {
             "outlinewidth": 0,
             "ticks": ""
            },
            "colorscale": [
             [
              0,
              "#0d0887"
             ],
             [
              0.1111111111111111,
              "#46039f"
             ],
             [
              0.2222222222222222,
              "#7201a8"
             ],
             [
              0.3333333333333333,
              "#9c179e"
             ],
             [
              0.4444444444444444,
              "#bd3786"
             ],
             [
              0.5555555555555556,
              "#d8576b"
             ],
             [
              0.6666666666666666,
              "#ed7953"
             ],
             [
              0.7777777777777778,
              "#fb9f3a"
             ],
             [
              0.8888888888888888,
              "#fdca26"
             ],
             [
              1,
              "#f0f921"
             ]
            ],
            "type": "heatmap"
           }
          ],
          "heatmapgl": [
           {
            "colorbar": {
             "outlinewidth": 0,
             "ticks": ""
            },
            "colorscale": [
             [
              0,
              "#0d0887"
             ],
             [
              0.1111111111111111,
              "#46039f"
             ],
             [
              0.2222222222222222,
              "#7201a8"
             ],
             [
              0.3333333333333333,
              "#9c179e"
             ],
             [
              0.4444444444444444,
              "#bd3786"
             ],
             [
              0.5555555555555556,
              "#d8576b"
             ],
             [
              0.6666666666666666,
              "#ed7953"
             ],
             [
              0.7777777777777778,
              "#fb9f3a"
             ],
             [
              0.8888888888888888,
              "#fdca26"
             ],
             [
              1,
              "#f0f921"
             ]
            ],
            "type": "heatmapgl"
           }
          ],
          "histogram": [
           {
            "marker": {
             "pattern": {
              "fillmode": "overlay",
              "size": 10,
              "solidity": 0.2
             }
            },
            "type": "histogram"
           }
          ],
          "histogram2d": [
           {
            "colorbar": {
             "outlinewidth": 0,
             "ticks": ""
            },
            "colorscale": [
             [
              0,
              "#0d0887"
             ],
             [
              0.1111111111111111,
              "#46039f"
             ],
             [
              0.2222222222222222,
              "#7201a8"
             ],
             [
              0.3333333333333333,
              "#9c179e"
             ],
             [
              0.4444444444444444,
              "#bd3786"
             ],
             [
              0.5555555555555556,
              "#d8576b"
             ],
             [
              0.6666666666666666,
              "#ed7953"
             ],
             [
              0.7777777777777778,
              "#fb9f3a"
             ],
             [
              0.8888888888888888,
              "#fdca26"
             ],
             [
              1,
              "#f0f921"
             ]
            ],
            "type": "histogram2d"
           }
          ],
          "histogram2dcontour": [
           {
            "colorbar": {
             "outlinewidth": 0,
             "ticks": ""
            },
            "colorscale": [
             [
              0,
              "#0d0887"
             ],
             [
              0.1111111111111111,
              "#46039f"
             ],
             [
              0.2222222222222222,
              "#7201a8"
             ],
             [
              0.3333333333333333,
              "#9c179e"
             ],
             [
              0.4444444444444444,
              "#bd3786"
             ],
             [
              0.5555555555555556,
              "#d8576b"
             ],
             [
              0.6666666666666666,
              "#ed7953"
             ],
             [
              0.7777777777777778,
              "#fb9f3a"
             ],
             [
              0.8888888888888888,
              "#fdca26"
             ],
             [
              1,
              "#f0f921"
             ]
            ],
            "type": "histogram2dcontour"
           }
          ],
          "mesh3d": [
           {
            "colorbar": {
             "outlinewidth": 0,
             "ticks": ""
            },
            "type": "mesh3d"
           }
          ],
          "parcoords": [
           {
            "line": {
             "colorbar": {
              "outlinewidth": 0,
              "ticks": ""
             }
            },
            "type": "parcoords"
           }
          ],
          "pie": [
           {
            "automargin": true,
            "type": "pie"
           }
          ],
          "scatter": [
           {
            "marker": {
             "line": {
              "color": "#283442"
             }
            },
            "type": "scatter"
           }
          ],
          "scatter3d": [
           {
            "line": {
             "colorbar": {
              "outlinewidth": 0,
              "ticks": ""
             }
            },
            "marker": {
             "colorbar": {
              "outlinewidth": 0,
              "ticks": ""
             }
            },
            "type": "scatter3d"
           }
          ],
          "scattercarpet": [
           {
            "marker": {
             "colorbar": {
              "outlinewidth": 0,
              "ticks": ""
             }
            },
            "type": "scattercarpet"
           }
          ],
          "scattergeo": [
           {
            "marker": {
             "colorbar": {
              "outlinewidth": 0,
              "ticks": ""
             }
            },
            "type": "scattergeo"
           }
          ],
          "scattergl": [
           {
            "marker": {
             "line": {
              "color": "#283442"
             }
            },
            "type": "scattergl"
           }
          ],
          "scattermapbox": [
           {
            "marker": {
             "colorbar": {
              "outlinewidth": 0,
              "ticks": ""
             }
            },
            "type": "scattermapbox"
           }
          ],
          "scatterpolar": [
           {
            "marker": {
             "colorbar": {
              "outlinewidth": 0,
              "ticks": ""
             }
            },
            "type": "scatterpolar"
           }
          ],
          "scatterpolargl": [
           {
            "marker": {
             "colorbar": {
              "outlinewidth": 0,
              "ticks": ""
             }
            },
            "type": "scatterpolargl"
           }
          ],
          "scatterternary": [
           {
            "marker": {
             "colorbar": {
              "outlinewidth": 0,
              "ticks": ""
             }
            },
            "type": "scatterternary"
           }
          ],
          "surface": [
           {
            "colorbar": {
             "outlinewidth": 0,
             "ticks": ""
            },
            "colorscale": [
             [
              0,
              "#0d0887"
             ],
             [
              0.1111111111111111,
              "#46039f"
             ],
             [
              0.2222222222222222,
              "#7201a8"
             ],
             [
              0.3333333333333333,
              "#9c179e"
             ],
             [
              0.4444444444444444,
              "#bd3786"
             ],
             [
              0.5555555555555556,
              "#d8576b"
             ],
             [
              0.6666666666666666,
              "#ed7953"
             ],
             [
              0.7777777777777778,
              "#fb9f3a"
             ],
             [
              0.8888888888888888,
              "#fdca26"
             ],
             [
              1,
              "#f0f921"
             ]
            ],
            "type": "surface"
           }
          ],
          "table": [
           {
            "cells": {
             "fill": {
              "color": "#506784"
             },
             "line": {
              "color": "rgb(17,17,17)"
             }
            },
            "header": {
             "fill": {
              "color": "#2a3f5f"
             },
             "line": {
              "color": "rgb(17,17,17)"
             }
            },
            "type": "table"
           }
          ]
         },
         "layout": {
          "annotationdefaults": {
           "arrowcolor": "#f2f5fa",
           "arrowhead": 0,
           "arrowwidth": 1
          },
          "autotypenumbers": "strict",
          "coloraxis": {
           "colorbar": {
            "outlinewidth": 0,
            "ticks": ""
           }
          },
          "colorscale": {
           "diverging": [
            [
             0,
             "#8e0152"
            ],
            [
             0.1,
             "#c51b7d"
            ],
            [
             0.2,
             "#de77ae"
            ],
            [
             0.3,
             "#f1b6da"
            ],
            [
             0.4,
             "#fde0ef"
            ],
            [
             0.5,
             "#f7f7f7"
            ],
            [
             0.6,
             "#e6f5d0"
            ],
            [
             0.7,
             "#b8e186"
            ],
            [
             0.8,
             "#7fbc41"
            ],
            [
             0.9,
             "#4d9221"
            ],
            [
             1,
             "#276419"
            ]
           ],
           "sequential": [
            [
             0,
             "#0d0887"
            ],
            [
             0.1111111111111111,
             "#46039f"
            ],
            [
             0.2222222222222222,
             "#7201a8"
            ],
            [
             0.3333333333333333,
             "#9c179e"
            ],
            [
             0.4444444444444444,
             "#bd3786"
            ],
            [
             0.5555555555555556,
             "#d8576b"
            ],
            [
             0.6666666666666666,
             "#ed7953"
            ],
            [
             0.7777777777777778,
             "#fb9f3a"
            ],
            [
             0.8888888888888888,
             "#fdca26"
            ],
            [
             1,
             "#f0f921"
            ]
           ],
           "sequentialminus": [
            [
             0,
             "#0d0887"
            ],
            [
             0.1111111111111111,
             "#46039f"
            ],
            [
             0.2222222222222222,
             "#7201a8"
            ],
            [
             0.3333333333333333,
             "#9c179e"
            ],
            [
             0.4444444444444444,
             "#bd3786"
            ],
            [
             0.5555555555555556,
             "#d8576b"
            ],
            [
             0.6666666666666666,
             "#ed7953"
            ],
            [
             0.7777777777777778,
             "#fb9f3a"
            ],
            [
             0.8888888888888888,
             "#fdca26"
            ],
            [
             1,
             "#f0f921"
            ]
           ]
          },
          "colorway": [
           "#636efa",
           "#EF553B",
           "#00cc96",
           "#ab63fa",
           "#FFA15A",
           "#19d3f3",
           "#FF6692",
           "#B6E880",
           "#FF97FF",
           "#FECB52"
          ],
          "font": {
           "color": "#f2f5fa"
          },
          "geo": {
           "bgcolor": "rgb(17,17,17)",
           "lakecolor": "rgb(17,17,17)",
           "landcolor": "rgb(17,17,17)",
           "showlakes": true,
           "showland": true,
           "subunitcolor": "#506784"
          },
          "hoverlabel": {
           "align": "left"
          },
          "hovermode": "closest",
          "mapbox": {
           "style": "dark"
          },
          "paper_bgcolor": "rgb(17,17,17)",
          "plot_bgcolor": "rgb(17,17,17)",
          "polar": {
           "angularaxis": {
            "gridcolor": "#506784",
            "linecolor": "#506784",
            "ticks": ""
           },
           "bgcolor": "rgb(17,17,17)",
           "radialaxis": {
            "gridcolor": "#506784",
            "linecolor": "#506784",
            "ticks": ""
           }
          },
          "scene": {
           "xaxis": {
            "backgroundcolor": "rgb(17,17,17)",
            "gridcolor": "#506784",
            "gridwidth": 2,
            "linecolor": "#506784",
            "showbackground": true,
            "ticks": "",
            "zerolinecolor": "#C8D4E3"
           },
           "yaxis": {
            "backgroundcolor": "rgb(17,17,17)",
            "gridcolor": "#506784",
            "gridwidth": 2,
            "linecolor": "#506784",
            "showbackground": true,
            "ticks": "",
            "zerolinecolor": "#C8D4E3"
           },
           "zaxis": {
            "backgroundcolor": "rgb(17,17,17)",
            "gridcolor": "#506784",
            "gridwidth": 2,
            "linecolor": "#506784",
            "showbackground": true,
            "ticks": "",
            "zerolinecolor": "#C8D4E3"
           }
          },
          "shapedefaults": {
           "line": {
            "color": "#f2f5fa"
           }
          },
          "sliderdefaults": {
           "bgcolor": "#C8D4E3",
           "bordercolor": "rgb(17,17,17)",
           "borderwidth": 1,
           "tickwidth": 0
          },
          "ternary": {
           "aaxis": {
            "gridcolor": "#506784",
            "linecolor": "#506784",
            "ticks": ""
           },
           "baxis": {
            "gridcolor": "#506784",
            "linecolor": "#506784",
            "ticks": ""
           },
           "bgcolor": "rgb(17,17,17)",
           "caxis": {
            "gridcolor": "#506784",
            "linecolor": "#506784",
            "ticks": ""
           }
          },
          "title": {
           "x": 0.05
          },
          "updatemenudefaults": {
           "bgcolor": "#506784",
           "borderwidth": 0
          },
          "xaxis": {
           "automargin": true,
           "gridcolor": "#283442",
           "linecolor": "#506784",
           "ticks": "",
           "title": {
            "standoff": 15
           },
           "zerolinecolor": "#283442",
           "zerolinewidth": 2
          },
          "yaxis": {
           "automargin": true,
           "gridcolor": "#283442",
           "linecolor": "#506784",
           "ticks": "",
           "title": {
            "standoff": 15
           },
           "zerolinecolor": "#283442",
           "zerolinewidth": 2
          }
         }
        },
        "title": {
         "text": "World GDP Changes By Continent"
        },
        "width": 950,
        "xaxis": {
         "anchor": "y",
         "domain": [
          0,
          1
         ],
         "title": {
          "text": ""
         }
        },
        "yaxis": {
         "anchor": "x",
         "domain": [
          0,
          1
         ],
         "title": {
          "text": ""
         }
        }
       }
      },
      "text/html": [
       "<div>                            <div id=\"d67e925e-eddd-4a4c-9fe5-41fd264fde5a\" class=\"plotly-graph-div\" style=\"height:500px; width:950px;\"></div>            <script type=\"text/javascript\">                require([\"plotly\"], function(Plotly) {                    window.PLOTLYENV=window.PLOTLYENV || {};                                    if (document.getElementById(\"d67e925e-eddd-4a4c-9fe5-41fd264fde5a\")) {                    Plotly.newPlot(                        \"d67e925e-eddd-4a4c-9fe5-41fd264fde5a\",                        [{\"hovertemplate\":\"variable=wide_variable_0<br>x=%{x}<br>value=%{y}<extra></extra>\",\"legendgroup\":\"wide_variable_0\",\"line\":{\"color\":\"#636efa\",\"dash\":\"solid\"},\"marker\":{\"symbol\":\"circle\"},\"mode\":\"lines\",\"name\":\"Africa\",\"orientation\":\"v\",\"showlegend\":true,\"x\":[\"1960\",\"1961\",\"1962\",\"1963\",\"1964\",\"1965\",\"1966\",\"1967\",\"1968\",\"1969\",\"1970\",\"1971\",\"1972\",\"1973\",\"1974\",\"1975\",\"1976\",\"1977\",\"1978\",\"1979\",\"1980\",\"1981\",\"1982\",\"1983\",\"1984\",\"1985\",\"1986\",\"1987\",\"1988\",\"1989\",\"1990\",\"1991\",\"1992\",\"1993\",\"1994\",\"1995\",\"1996\",\"1997\",\"1998\",\"1999\",\"2000\",\"2001\",\"2002\",\"2003\",\"2004\",\"2005\",\"2006\",\"2007\",\"2008\",\"2009\",\"2010\",\"2011\",\"2012\",\"2013\",\"2014\",\"2015\",\"2016\",\"2017\",\"2018\",\"2019\",\"2020\"],\"xaxis\":\"x\",\"y\":[31152387259.934128,32041968649.284763,34273268744.22939,39607071332.70722,39154839186.37399,49277176123.793816,52474626569.51992,53164579411.12916,57101006960.30187,64699086425.82705,76010197696.0049,78422651243.60735,89694582606.2323,112624728540.1306,144298750661.31653,162666118941.37207,178227366533.08142,197992725141.34573,222363243854.49985,269130858823.27496,348696926931.54254,454333089438.0257,431522931985.2487,394316069338.48224,364086100389.615,361116919902.64136,383135771690.2015,423345515345.6152,427308590262.9576,427661655262.1815,509977812652.359,489143729929.2377,502424700232.9279,496841137128.9052,493482696346.64795,555351634948.6213,592239375501.5242,618963274769.5067,612711642226.6183,632581253507.0326,670863859939.9375,647934637069.8558,663475473984.1447,802955299812.0884,970559036839.0253,1145293357978.607,1337882365800.2039,1558001100376.0833,1830746079570.1064,1742961611815.398,2030488304211.7705,2231299801159.9424,2387881222551.6567,2503344939023.9966,2570345444642.3794,2349854622648.5986,2226487574171.1123,2261142654350.8506,2389491171561.225,2489150648383.987,2393309780189.7695],\"yaxis\":\"y\",\"type\":\"scatter\"},{\"mode\":\"lines\",\"name\":\"Asia\",\"x\":[\"1960\",\"1961\",\"1962\",\"1963\",\"1964\",\"1965\",\"1966\",\"1967\",\"1968\",\"1969\",\"1970\",\"1971\",\"1972\",\"1973\",\"1974\",\"1975\",\"1976\",\"1977\",\"1978\",\"1979\",\"1980\",\"1981\",\"1982\",\"1983\",\"1984\",\"1985\",\"1986\",\"1987\",\"1988\",\"1989\",\"1990\",\"1991\",\"1992\",\"1993\",\"1994\",\"1995\",\"1996\",\"1997\",\"1998\",\"1999\",\"2000\",\"2001\",\"2002\",\"2003\",\"2004\",\"2005\",\"2006\",\"2007\",\"2008\",\"2009\",\"2010\",\"2011\",\"2012\",\"2013\",\"2014\",\"2015\",\"2016\",\"2017\",\"2018\",\"2019\",\"2020\"],\"y\":[191998008874.58453,189659091135.62866,198021711842.64142,222307105030.74487,255112426892.72635,283913646441.96124,299073208151.1169,330182193397.9327,369948329618.37775,421702188723.998,478003593755.0626,527886337532.62695,637945390537.0117,832882661166.692,1014352921051.3303,1128068230141.85,1257485821288.9514,1503231599752.8792,1841522513002.8962,2072150655612.2288,2299060138516.437,2487399766001.4717,2424003085644.4707,2573515738164.1284,2702775786538.124,2882349596979.402,3607909392491.35,4096020782793.176,4770366168241.954,4899714171357.68,5360864216543.716,5586745315147.416,6104205159427.489,6884623604779.435,7737543999993.231,8910956899199.297,8686616185233.395,8359148375665.71,7684718669030.099,8550812395157.165,9287158212906.367,8716210749385.106,8891350333584.367,9855364308281.188,11130191002814.494,12146221667400.465,13165605430661.297,15065938338417.254,17368011575122.324,17718949285549.668,20751382357995.645,23795532954043.086,25279964681557.66,25580973394676.45,26542410973291.824,26195058941805.29,27270149289976.63,29241219617566.742,31380949145535.37,32103148307504.555,31523086080168.895],\"type\":\"scatter\"},{\"mode\":\"lines\",\"name\":\"Europe\",\"x\":[\"1960\",\"1961\",\"1962\",\"1963\",\"1964\",\"1965\",\"1966\",\"1967\",\"1968\",\"1969\",\"1970\",\"1971\",\"1972\",\"1973\",\"1974\",\"1975\",\"1976\",\"1977\",\"1978\",\"1979\",\"1980\",\"1981\",\"1982\",\"1983\",\"1984\",\"1985\",\"1986\",\"1987\",\"1988\",\"1989\",\"1990\",\"1991\",\"1992\",\"1993\",\"1994\",\"1995\",\"1996\",\"1997\",\"1998\",\"1999\",\"2000\",\"2001\",\"2002\",\"2003\",\"2004\",\"2005\",\"2006\",\"2007\",\"2008\",\"2009\",\"2010\",\"2011\",\"2012\",\"2013\",\"2014\",\"2015\",\"2016\",\"2017\",\"2018\",\"2019\",\"2020\"],\"y\":[264597792262.86957,287990879574.9518,314167551756.39825,346659980711.93524,383712290544.35223,418021111301.4493,465117849059.1304,500443090035.6467,522360177108.5094,577654118607.3087,837279614007.0474,947246447501.3867,1134037058893.39,1440585647911.243,1621239776041.994,1891425863660.8494,1961256478436.764,2222144493810.3154,2718601232338.5464,3316052927763.2153,3931034291658.0557,3488995460894.1787,3366207936068.6484,3266465446479.5215,3140670732528.7354,3244946095350.9136,4444996906660.841,5601474983523.491,6795664245126.9375,6871305811621.236,8533133548481.485,8755269264775.702,9489328999334.293,8680866026864.494,9161586149326.227,10647179909265.135,10857519590502.951,10271516753763.0,10458532156923.293,10361487560675.854,9719343929375.889,9899452839696.553,10800087011705.99,13132731618157.105,15258196657681.87,16157572989082.518,17453942069393.17,20338003627348.68,22270948439709.93,19608835842133.598,19921303024221.562,22059816999629.906,21149458370718.48,22041009234662.867,22377184175012.11,19235724584445.434,19230341421237.87,20430810935003.914,22064457258707.625,21781855157409.746,21011092748928.09],\"type\":\"scatter\"},{\"mode\":\"lines\",\"name\":\"North America\",\"x\":[\"1960\",\"1961\",\"1962\",\"1963\",\"1964\",\"1965\",\"1966\",\"1967\",\"1968\",\"1969\",\"1970\",\"1971\",\"1972\",\"1973\",\"1974\",\"1975\",\"1976\",\"1977\",\"1978\",\"1979\",\"1980\",\"1981\",\"1982\",\"1983\",\"1984\",\"1985\",\"1986\",\"1987\",\"1988\",\"1989\",\"1990\",\"1991\",\"1992\",\"1993\",\"1994\",\"1995\",\"1996\",\"1997\",\"1998\",\"1999\",\"2000\",\"2001\",\"2002\",\"2003\",\"2004\",\"2005\",\"2006\",\"2007\",\"2008\",\"2009\",\"2010\",\"2011\",\"2012\",\"2013\",\"2014\",\"2015\",\"2016\",\"2017\",\"2018\",\"2019\",\"2020\"],\"y\":[603629470481.6421,625616779926.3358,670418147639.9244,709259203179.2367,764644120200.3643,831100023310.1027,912354334323.8207,966819346927.6654,1057440717440.423,1146610469660.6648,1219244695544.0244,1328650856185.5088,1466184221532.2485,1645667845251.7107,1817482698840.8257,1991927280409.4814,2218823638293.5806,2431777755973.8877,2737559636662.0503,3077382329882.9585,3419036127066.6245,3863350775785.9536,3932896972202.418,4226585890809.1133,4680901880825.312,4997104286973.587,5192306687591.192,5540389850855.562,6036114658938.907,6542119002276.834,6938895195642.6045,7207173846190.992,7606521729128.114,8075824726084.63,8550147238406.208,8775919763333.337,9288272692021.045,9923359158566.387,10429379217209.12,11125605608239.682,11937994358970.936,12323137144213.156,12729112844403.264,13348476086361.012,14308844453041.318,15410990973621.121,16469540078824.867,17371314396453.89,17809310101515.152,17150543159923.027,18123756775869.824,19014962930551.445,19750888924750.098,20452943783992.477,21218090769160.477,21562604306511.168,21967327953987.36,22993332566312.5,24220933496499.754,25121028887029.9,24304202086160.234],\"type\":\"scatter\"},{\"mode\":\"lines\",\"name\":\"Oceania\",\"x\":[\"1960\",\"1961\",\"1962\",\"1963\",\"1964\",\"1965\",\"1966\",\"1967\",\"1968\",\"1969\",\"1970\",\"1971\",\"1972\",\"1973\",\"1974\",\"1975\",\"1976\",\"1977\",\"1978\",\"1979\",\"1980\",\"1981\",\"1982\",\"1983\",\"1984\",\"1985\",\"1986\",\"1987\",\"1988\",\"1989\",\"1990\",\"1991\",\"1992\",\"1993\",\"1994\",\"1995\",\"1996\",\"1997\",\"1998\",\"1999\",\"2000\",\"2001\",\"2002\",\"2003\",\"2004\",\"2005\",\"2006\",\"2007\",\"2008\",\"2009\",\"2010\",\"2011\",\"2012\",\"2013\",\"2014\",\"2015\",\"2016\",\"2017\",\"2018\",\"2019\",\"2020\"],\"y\":[24435466121.295258,25714939201.513794,26384310449.355057,28584286134.798946,31520586683.290607,32458989994.940746,34095065506.398952,37436594208.39883,39052882457.963844,43715746243.549835,42829778384.51075,54874846334.27957,63686380969.33622,79432851939.9269,106311412709.19846,113905080540.66753,122597561082.26297,129991673063.11366,141893063132.13522,161606179912.12048,179966356998.3732,207799960198.68185,224588820417.11734,208145577759.5718,221750789682.0097,211709041464.5139,221057762781.14682,238831260749.57104,291582030314.97034,354043893656.2265,367986442415.6315,380733068173.70294,380596802867.5935,373156644373.9749,393441564222.7257,447613445720.14557,487728259658.10236,516981454417.3757,469995906503.88184,462350729152.361,482008377260.47253,442706150013.43854,476154252589.4716,572334239882.2783,737055116918.4087,830903807852.7732,884733120839.7719,1020572100975.1749,1220776398230.1204,1081117045219.4117,1329810648336.4006,1607802813492.921,1767761834303.7783,1813189810194.4065,1718143269469.0386,1574551704862.2512,1441140557673.3735,1582586793813.556,1692066937318.3127,1656686374637.541,1579289407597.3572],\"type\":\"scatter\"},{\"mode\":\"lines\",\"name\":\"South America\",\"x\":[\"1960\",\"1961\",\"1962\",\"1963\",\"1964\",\"1965\",\"1966\",\"1967\",\"1968\",\"1969\",\"1970\",\"1971\",\"1972\",\"1973\",\"1974\",\"1975\",\"1976\",\"1977\",\"1978\",\"1979\",\"1980\",\"1981\",\"1982\",\"1983\",\"1984\",\"1985\",\"1986\",\"1987\",\"1988\",\"1989\",\"1990\",\"1991\",\"1992\",\"1993\",\"1994\",\"1995\",\"1996\",\"1997\",\"1998\",\"1999\",\"2000\",\"2001\",\"2002\",\"2003\",\"2004\",\"2005\",\"2006\",\"2007\",\"2008\",\"2009\",\"2010\",\"2011\",\"2012\",\"2013\",\"2014\",\"2015\",\"2016\",\"2017\",\"2018\",\"2019\",\"2020\"],\"y\":[22447651125.23227,41516333467.88338,70271888494.91496,69563020655.4542,76069443160.11826,81885390633.37502,90102529245.43228,89506353350.11588,95287662153.99355,107072690112.55084,116383795064.14091,130048422166.23897,144859567149.393,202079309548.86023,265738101201.25897,262851239901.52695,295538992143.6375,338942028555.99786,373820438123.8672,435115444018.4069,492461138860.7844,541382574172.59784,550958332304.7201,472346586133.35925,436653922146.59644,462275428131.0608,527156915247.1221,552465259041.4576,607152488943.263,591842486299.947,724047472642.0206,748476790540.8883,802279903573.2793,863487059098.6224,1080004439421.4641,1384861059807.5562,1488065601899.4414,1583366714773.0034,1562467331749.5874,1255021648622.152,1346349898603.999,1236357150349.8193,981967122800.9536,1060726670713.9689,1300409043814.7046,1662300329462.9246,2024980293480.9583,2508029930922.1606,3055720731756.667,2996287992227.8804,3842816052558.1167,4414831716489.62,4431802506171.203,4488810933866.612,4548870662825.059,3355349801289.4966,3313390907027.1025,3760444366183.779,3557472083009.1665,3418342595444.241,2793448706806.5605],\"type\":\"scatter\"},{\"mode\":\"lines\",\"name\":\"World\",\"x\":[\"1960\",\"1961\",\"1962\",\"1963\",\"1964\",\"1965\",\"1966\",\"1967\",\"1968\",\"1969\",\"1970\",\"1971\",\"1972\",\"1973\",\"1974\",\"1975\",\"1976\",\"1977\",\"1978\",\"1979\",\"1980\",\"1981\",\"1982\",\"1983\",\"1984\",\"1985\",\"1986\",\"1987\",\"1988\",\"1989\",\"1990\",\"1991\",\"1992\",\"1993\",\"1994\",\"1995\",\"1996\",\"1997\",\"1998\",\"1999\",\"2000\",\"2001\",\"2002\",\"2003\",\"2004\",\"2005\",\"2006\",\"2007\",\"2008\",\"2009\",\"2010\",\"2011\",\"2012\",\"2013\",\"2014\",\"2015\",\"2016\",\"2017\",\"2018\",\"2019\",\"2020\"],\"y\":[1138260776125.5576,1202539991955.5981,1313536878927.4634,1415980667044.877,1550213706667.2256,1696656337805.6228,1853217612855.4192,1977552157330.889,2141190775739.5693,2361454299773.8994,2769751674450.791,3067129560963.6484,3536407201687.612,4313273044358.5635,4969423660505.924,5550843813595.748,6033929857778.277,6824080276297.539,8035760127113.994,9331438396012.205,10670254980031.818,11043261626490.908,10930178078622.623,11141375308684.178,11546839212110.39,12159501368802.117,14376563436461.855,16452527652308.871,18928188181828.99,19686687020474.1,22434904688377.816,23167542014757.938,24885357294563.695,25374799198330.062,27416206087716.504,30721882712274.09,31400441704816.457,31273335731954.984,31217804923642.594,32387859195354.246,33443718637057.605,33265798670727.93,34542147039068.19,38772588223207.64,43705255311109.82,47353283125398.41,51336683359000.27,57861859494493.24,63555513325904.3,60298694936868.984,65999557163193.31,73124247215366.92,74767757540052.88,76880272096416.8,78975045294400.88,74273143961562.23,75448837704073.45,80269536933231.34,85305370092631.45,86570211970409.97,83604428809850.9],\"type\":\"scatter\"}],                        {\"template\":{\"data\":{\"barpolar\":[{\"marker\":{\"line\":{\"color\":\"rgb(17,17,17)\",\"width\":0.5},\"pattern\":{\"fillmode\":\"overlay\",\"size\":10,\"solidity\":0.2}},\"type\":\"barpolar\"}],\"bar\":[{\"error_x\":{\"color\":\"#f2f5fa\"},\"error_y\":{\"color\":\"#f2f5fa\"},\"marker\":{\"line\":{\"color\":\"rgb(17,17,17)\",\"width\":0.5},\"pattern\":{\"fillmode\":\"overlay\",\"size\":10,\"solidity\":0.2}},\"type\":\"bar\"}],\"carpet\":[{\"aaxis\":{\"endlinecolor\":\"#A2B1C6\",\"gridcolor\":\"#506784\",\"linecolor\":\"#506784\",\"minorgridcolor\":\"#506784\",\"startlinecolor\":\"#A2B1C6\"},\"baxis\":{\"endlinecolor\":\"#A2B1C6\",\"gridcolor\":\"#506784\",\"linecolor\":\"#506784\",\"minorgridcolor\":\"#506784\",\"startlinecolor\":\"#A2B1C6\"},\"type\":\"carpet\"}],\"choropleth\":[{\"colorbar\":{\"outlinewidth\":0,\"ticks\":\"\"},\"type\":\"choropleth\"}],\"contourcarpet\":[{\"colorbar\":{\"outlinewidth\":0,\"ticks\":\"\"},\"type\":\"contourcarpet\"}],\"contour\":[{\"colorbar\":{\"outlinewidth\":0,\"ticks\":\"\"},\"colorscale\":[[0.0,\"#0d0887\"],[0.1111111111111111,\"#46039f\"],[0.2222222222222222,\"#7201a8\"],[0.3333333333333333,\"#9c179e\"],[0.4444444444444444,\"#bd3786\"],[0.5555555555555556,\"#d8576b\"],[0.6666666666666666,\"#ed7953\"],[0.7777777777777778,\"#fb9f3a\"],[0.8888888888888888,\"#fdca26\"],[1.0,\"#f0f921\"]],\"type\":\"contour\"}],\"heatmapgl\":[{\"colorbar\":{\"outlinewidth\":0,\"ticks\":\"\"},\"colorscale\":[[0.0,\"#0d0887\"],[0.1111111111111111,\"#46039f\"],[0.2222222222222222,\"#7201a8\"],[0.3333333333333333,\"#9c179e\"],[0.4444444444444444,\"#bd3786\"],[0.5555555555555556,\"#d8576b\"],[0.6666666666666666,\"#ed7953\"],[0.7777777777777778,\"#fb9f3a\"],[0.8888888888888888,\"#fdca26\"],[1.0,\"#f0f921\"]],\"type\":\"heatmapgl\"}],\"heatmap\":[{\"colorbar\":{\"outlinewidth\":0,\"ticks\":\"\"},\"colorscale\":[[0.0,\"#0d0887\"],[0.1111111111111111,\"#46039f\"],[0.2222222222222222,\"#7201a8\"],[0.3333333333333333,\"#9c179e\"],[0.4444444444444444,\"#bd3786\"],[0.5555555555555556,\"#d8576b\"],[0.6666666666666666,\"#ed7953\"],[0.7777777777777778,\"#fb9f3a\"],[0.8888888888888888,\"#fdca26\"],[1.0,\"#f0f921\"]],\"type\":\"heatmap\"}],\"histogram2dcontour\":[{\"colorbar\":{\"outlinewidth\":0,\"ticks\":\"\"},\"colorscale\":[[0.0,\"#0d0887\"],[0.1111111111111111,\"#46039f\"],[0.2222222222222222,\"#7201a8\"],[0.3333333333333333,\"#9c179e\"],[0.4444444444444444,\"#bd3786\"],[0.5555555555555556,\"#d8576b\"],[0.6666666666666666,\"#ed7953\"],[0.7777777777777778,\"#fb9f3a\"],[0.8888888888888888,\"#fdca26\"],[1.0,\"#f0f921\"]],\"type\":\"histogram2dcontour\"}],\"histogram2d\":[{\"colorbar\":{\"outlinewidth\":0,\"ticks\":\"\"},\"colorscale\":[[0.0,\"#0d0887\"],[0.1111111111111111,\"#46039f\"],[0.2222222222222222,\"#7201a8\"],[0.3333333333333333,\"#9c179e\"],[0.4444444444444444,\"#bd3786\"],[0.5555555555555556,\"#d8576b\"],[0.6666666666666666,\"#ed7953\"],[0.7777777777777778,\"#fb9f3a\"],[0.8888888888888888,\"#fdca26\"],[1.0,\"#f0f921\"]],\"type\":\"histogram2d\"}],\"histogram\":[{\"marker\":{\"pattern\":{\"fillmode\":\"overlay\",\"size\":10,\"solidity\":0.2}},\"type\":\"histogram\"}],\"mesh3d\":[{\"colorbar\":{\"outlinewidth\":0,\"ticks\":\"\"},\"type\":\"mesh3d\"}],\"parcoords\":[{\"line\":{\"colorbar\":{\"outlinewidth\":0,\"ticks\":\"\"}},\"type\":\"parcoords\"}],\"pie\":[{\"automargin\":true,\"type\":\"pie\"}],\"scatter3d\":[{\"line\":{\"colorbar\":{\"outlinewidth\":0,\"ticks\":\"\"}},\"marker\":{\"colorbar\":{\"outlinewidth\":0,\"ticks\":\"\"}},\"type\":\"scatter3d\"}],\"scattercarpet\":[{\"marker\":{\"colorbar\":{\"outlinewidth\":0,\"ticks\":\"\"}},\"type\":\"scattercarpet\"}],\"scattergeo\":[{\"marker\":{\"colorbar\":{\"outlinewidth\":0,\"ticks\":\"\"}},\"type\":\"scattergeo\"}],\"scattergl\":[{\"marker\":{\"line\":{\"color\":\"#283442\"}},\"type\":\"scattergl\"}],\"scattermapbox\":[{\"marker\":{\"colorbar\":{\"outlinewidth\":0,\"ticks\":\"\"}},\"type\":\"scattermapbox\"}],\"scatterpolargl\":[{\"marker\":{\"colorbar\":{\"outlinewidth\":0,\"ticks\":\"\"}},\"type\":\"scatterpolargl\"}],\"scatterpolar\":[{\"marker\":{\"colorbar\":{\"outlinewidth\":0,\"ticks\":\"\"}},\"type\":\"scatterpolar\"}],\"scatter\":[{\"marker\":{\"line\":{\"color\":\"#283442\"}},\"type\":\"scatter\"}],\"scatterternary\":[{\"marker\":{\"colorbar\":{\"outlinewidth\":0,\"ticks\":\"\"}},\"type\":\"scatterternary\"}],\"surface\":[{\"colorbar\":{\"outlinewidth\":0,\"ticks\":\"\"},\"colorscale\":[[0.0,\"#0d0887\"],[0.1111111111111111,\"#46039f\"],[0.2222222222222222,\"#7201a8\"],[0.3333333333333333,\"#9c179e\"],[0.4444444444444444,\"#bd3786\"],[0.5555555555555556,\"#d8576b\"],[0.6666666666666666,\"#ed7953\"],[0.7777777777777778,\"#fb9f3a\"],[0.8888888888888888,\"#fdca26\"],[1.0,\"#f0f921\"]],\"type\":\"surface\"}],\"table\":[{\"cells\":{\"fill\":{\"color\":\"#506784\"},\"line\":{\"color\":\"rgb(17,17,17)\"}},\"header\":{\"fill\":{\"color\":\"#2a3f5f\"},\"line\":{\"color\":\"rgb(17,17,17)\"}},\"type\":\"table\"}]},\"layout\":{\"annotationdefaults\":{\"arrowcolor\":\"#f2f5fa\",\"arrowhead\":0,\"arrowwidth\":1},\"autotypenumbers\":\"strict\",\"coloraxis\":{\"colorbar\":{\"outlinewidth\":0,\"ticks\":\"\"}},\"colorscale\":{\"diverging\":[[0,\"#8e0152\"],[0.1,\"#c51b7d\"],[0.2,\"#de77ae\"],[0.3,\"#f1b6da\"],[0.4,\"#fde0ef\"],[0.5,\"#f7f7f7\"],[0.6,\"#e6f5d0\"],[0.7,\"#b8e186\"],[0.8,\"#7fbc41\"],[0.9,\"#4d9221\"],[1,\"#276419\"]],\"sequential\":[[0.0,\"#0d0887\"],[0.1111111111111111,\"#46039f\"],[0.2222222222222222,\"#7201a8\"],[0.3333333333333333,\"#9c179e\"],[0.4444444444444444,\"#bd3786\"],[0.5555555555555556,\"#d8576b\"],[0.6666666666666666,\"#ed7953\"],[0.7777777777777778,\"#fb9f3a\"],[0.8888888888888888,\"#fdca26\"],[1.0,\"#f0f921\"]],\"sequentialminus\":[[0.0,\"#0d0887\"],[0.1111111111111111,\"#46039f\"],[0.2222222222222222,\"#7201a8\"],[0.3333333333333333,\"#9c179e\"],[0.4444444444444444,\"#bd3786\"],[0.5555555555555556,\"#d8576b\"],[0.6666666666666666,\"#ed7953\"],[0.7777777777777778,\"#fb9f3a\"],[0.8888888888888888,\"#fdca26\"],[1.0,\"#f0f921\"]]},\"colorway\":[\"#636efa\",\"#EF553B\",\"#00cc96\",\"#ab63fa\",\"#FFA15A\",\"#19d3f3\",\"#FF6692\",\"#B6E880\",\"#FF97FF\",\"#FECB52\"],\"font\":{\"color\":\"#f2f5fa\"},\"geo\":{\"bgcolor\":\"rgb(17,17,17)\",\"lakecolor\":\"rgb(17,17,17)\",\"landcolor\":\"rgb(17,17,17)\",\"showlakes\":true,\"showland\":true,\"subunitcolor\":\"#506784\"},\"hoverlabel\":{\"align\":\"left\"},\"hovermode\":\"closest\",\"mapbox\":{\"style\":\"dark\"},\"paper_bgcolor\":\"rgb(17,17,17)\",\"plot_bgcolor\":\"rgb(17,17,17)\",\"polar\":{\"angularaxis\":{\"gridcolor\":\"#506784\",\"linecolor\":\"#506784\",\"ticks\":\"\"},\"bgcolor\":\"rgb(17,17,17)\",\"radialaxis\":{\"gridcolor\":\"#506784\",\"linecolor\":\"#506784\",\"ticks\":\"\"}},\"scene\":{\"xaxis\":{\"backgroundcolor\":\"rgb(17,17,17)\",\"gridcolor\":\"#506784\",\"gridwidth\":2,\"linecolor\":\"#506784\",\"showbackground\":true,\"ticks\":\"\",\"zerolinecolor\":\"#C8D4E3\"},\"yaxis\":{\"backgroundcolor\":\"rgb(17,17,17)\",\"gridcolor\":\"#506784\",\"gridwidth\":2,\"linecolor\":\"#506784\",\"showbackground\":true,\"ticks\":\"\",\"zerolinecolor\":\"#C8D4E3\"},\"zaxis\":{\"backgroundcolor\":\"rgb(17,17,17)\",\"gridcolor\":\"#506784\",\"gridwidth\":2,\"linecolor\":\"#506784\",\"showbackground\":true,\"ticks\":\"\",\"zerolinecolor\":\"#C8D4E3\"}},\"shapedefaults\":{\"line\":{\"color\":\"#f2f5fa\"}},\"sliderdefaults\":{\"bgcolor\":\"#C8D4E3\",\"bordercolor\":\"rgb(17,17,17)\",\"borderwidth\":1,\"tickwidth\":0},\"ternary\":{\"aaxis\":{\"gridcolor\":\"#506784\",\"linecolor\":\"#506784\",\"ticks\":\"\"},\"baxis\":{\"gridcolor\":\"#506784\",\"linecolor\":\"#506784\",\"ticks\":\"\"},\"bgcolor\":\"rgb(17,17,17)\",\"caxis\":{\"gridcolor\":\"#506784\",\"linecolor\":\"#506784\",\"ticks\":\"\"}},\"title\":{\"x\":0.05},\"updatemenudefaults\":{\"bgcolor\":\"#506784\",\"borderwidth\":0},\"xaxis\":{\"automargin\":true,\"gridcolor\":\"#283442\",\"linecolor\":\"#506784\",\"ticks\":\"\",\"title\":{\"standoff\":15},\"zerolinecolor\":\"#283442\",\"zerolinewidth\":2},\"yaxis\":{\"automargin\":true,\"gridcolor\":\"#283442\",\"linecolor\":\"#506784\",\"ticks\":\"\",\"title\":{\"standoff\":15},\"zerolinecolor\":\"#283442\",\"zerolinewidth\":2}}},\"xaxis\":{\"anchor\":\"y\",\"domain\":[0.0,1.0],\"title\":{\"text\":\"\"}},\"yaxis\":{\"anchor\":\"x\",\"domain\":[0.0,1.0],\"title\":{\"text\":\"\"}},\"legend\":{\"title\":{\"text\":\"\"},\"tracegroupgap\":0},\"title\":{\"text\":\"World GDP Changes By Continent\"},\"width\":950,\"height\":500},                        {\"responsive\": true}                    ).then(function(){\n",
       "                            \n",
       "var gd = document.getElementById('d67e925e-eddd-4a4c-9fe5-41fd264fde5a');\n",
       "var x = new MutationObserver(function (mutations, observer) {{\n",
       "        var display = window.getComputedStyle(gd).display;\n",
       "        if (!display || display === 'none') {{\n",
       "            console.log([gd, 'removed!']);\n",
       "            Plotly.purge(gd);\n",
       "            observer.disconnect();\n",
       "        }}\n",
       "}});\n",
       "\n",
       "// Listen for the removal of the full notebook cells\n",
       "var notebookContainer = gd.closest('#notebook-container');\n",
       "if (notebookContainer) {{\n",
       "    x.observe(notebookContainer, {childList: true});\n",
       "}}\n",
       "\n",
       "// Listen for the clearing of the current output cell\n",
       "var outputEl = gd.closest('.output');\n",
       "if (outputEl) {{\n",
       "    x.observe(outputEl, {childList: true});\n",
       "}}\n",
       "\n",
       "                        })                };                });            </script>        </div>"
      ]
     },
     "metadata": {},
     "output_type": "display_data"
    }
   ],
   "source": [
    "fig = px.line(x=total_con.columns,y=[total_con.loc[\"Africa\"]],title='World population changes by continent ',template=\"plotly_dark\")\n",
    "fig.data[0].name=\"Africa\"\n",
    "\n",
    "fig.add_scatter(x=total_con.columns, y=total_con.loc[\"Asia\"], mode='lines',name = \"Asia\")\n",
    "fig.add_scatter(x=total_con.columns, y=total_con.loc[\"Europe\"], mode='lines',name = \"Europe\")\n",
    "fig.add_scatter(x=total_con.columns, y=total_con.loc[\"North America\"], mode='lines',name = \"North America\")\n",
    "fig.add_scatter(x=total_con.columns, y=total_con.loc[\"Oceania\"], mode='lines',name = \"Oceania\")\n",
    "fig.add_scatter(x=total_con.columns, y=total_con.loc[\"South America\"], mode='lines',name = \"South America\")\n",
    "fig.add_scatter(x=total_con.columns, y=total_con.loc[\"World\"], mode='lines',name = \"World\")\n",
    "\n",
    "\n",
    "\n",
    "fig.update_layout(\n",
    "    width=950, \n",
    "    height=500,\n",
    "    title=\"World GDP Changes By Continent\",\n",
    "    xaxis_title=\"\",\n",
    "    yaxis_title=\"\",\n",
    "    legend_title=\"\",\n",
    "    )\n",
    "\n",
    "fig.show()"
   ]
  },
  {
   "cell_type": "code",
   "execution_count": null,
   "id": "30e5ae46",
   "metadata": {},
   "outputs": [],
   "source": []
  }
 ],
 "metadata": {
  "kernelspec": {
   "display_name": "Python 3 (ipykernel)",
   "language": "python",
   "name": "python3"
  },
  "language_info": {
   "codemirror_mode": {
    "name": "ipython",
    "version": 3
   },
   "file_extension": ".py",
   "mimetype": "text/x-python",
   "name": "python",
   "nbconvert_exporter": "python",
   "pygments_lexer": "ipython3",
   "version": "3.8.12"
  },
  "toc": {
   "base_numbering": 1,
   "nav_menu": {},
   "number_sections": false,
   "sideBar": true,
   "skip_h1_title": false,
   "title_cell": "Table of Contents",
   "title_sidebar": "Contents",
   "toc_cell": false,
   "toc_position": {},
   "toc_section_display": true,
   "toc_window_display": false
  }
 },
 "nbformat": 4,
 "nbformat_minor": 5
}
